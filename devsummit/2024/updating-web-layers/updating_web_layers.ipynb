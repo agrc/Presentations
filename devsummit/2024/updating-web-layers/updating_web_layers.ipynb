{
  "cells": [
    {
      "cell_type": "code",
      "execution_count": null,
      "metadata": {
        "slideshow": {
          "slide_type": "slide"
        }
      },
      "outputs": [],
      "source": [
        "import arcgis\n",
        "import getpass\n",
        "import pandas as pd\n",
        "import pygsheets\n",
        "import shutil\n",
        "\n",
        "from arcgis.features import GeoAccessor, GeoSeriesAccessor\n",
        "from pathlib import Path"
      ]
    },
    {
      "cell_type": "code",
      "execution_count": null,
      "metadata": {
        "slideshow": {
          "slide_type": "slide"
        }
      },
      "outputs": [],
      "source": [
        "#: Load Google Sheet using pygsheets\n",
        "client = pygsheets.authorize(service_file=r'c:\\gis\\git\\pj-uorg\\src\\uorg\\sheets-sa.json')\n",
        "sheet_url = \"https://docs.google.com/spreadsheets/d/1LbHWR0_wADXdw-10nXO8HkBC62-5rgTlscv8mzTnhmE/edit?usp=sharing\"\n",
        "new_data = client.open_by_url(sheet_url).worksheets()[0].get_as_df()\n",
        "new_data.head()"
      ]
    },
    {
      "cell_type": "code",
      "execution_count": null,
      "metadata": {
        "slideshow": {
          "slide_type": "slide"
        }
      },
      "outputs": [],
      "source": [
        "#: Compute the favorite game, fix the county names\n",
        "new_data[\"favorite\"] = new_data[[\"Legend of Zelda\", \"Ocarina of Time\", \"Breath of the Wild\"]].idxmax(axis=1)\n",
        "new_data[\"County\"] = new_data[\"County\"].str.replace(\"County\", \"\").str.strip().str.upper()\n",
        "new_data.head()"
      ]
    },
    {
      "cell_type": "code",
      "execution_count": null,
      "metadata": {
        "slideshow": {
          "slide_type": "slide"
        }
      },
      "outputs": [],
      "source": [
        "#: Set up some references\n",
        "username = getpass.getpass(prompt=\"Username: \")\n",
        "gis = arcgis.gis.GIS(\"https://www.arcgis.com\", username)\n",
        "feature_layer = arcgis.features.FeatureLayer.fromitem(gis.content.get(\"75ca1488109d4286b16b5df00d5cc70c\"))\n",
        "gdb_path = Path(r\"c:\\temp\\dev_summit.gdb\")  #: GDB must already exist"
      ]
    },
    {
      "cell_type": "code",
      "execution_count": null,
      "metadata": {
        "slideshow": {
          "slide_type": "slide"
        }
      },
      "outputs": [],
      "source": [
        "#: Load the existing Data\n",
        "live_df = feature_layer.query(as_df=True)\n",
        "live_df.head()"
      ]
    },
    {
      "cell_type": "code",
      "execution_count": null,
      "metadata": {
        "slideshow": {
          "slide_type": "slide"
        }
      },
      "outputs": [],
      "source": [
        "#: Update the favorite game based on the new data\n",
        "live_df[\"favorite_zelda\"] = live_df.merge(new_data[[\"County\", \"favorite\"]], left_on=\"name\", right_on=\"County\")[\"favorite\"]\n",
        "live_df.head()"
      ]
    },
    {
      "cell_type": "code",
      "execution_count": null,
      "metadata": {
        "slideshow": {
          "slide_type": "slide"
        }
      },
      "outputs": [],
      "source": [
        "#: Save the updated data to gdb\n",
        "live_df.spatial.to_featureclass(location=gdb_path / \"dev_summit\", overwrite=True)"
      ]
    },
    {
      "cell_type": "code",
      "execution_count": null,
      "metadata": {
        "slideshow": {
          "slide_type": "slide"
        }
      },
      "outputs": [],
      "source": [
        "#: Zip the GDB\n",
        "#: You may fight lockfile permissions here; if so, close/reload the interpreter and start from this point\n",
        "zipped_gdb_path = shutil.make_archive(gdb_path, 'zip', root_dir=gdb_path.parent, base_dir=gdb_path.name)"
      ]
    },
    {
      "cell_type": "code",
      "execution_count": null,
      "metadata": {
        "slideshow": {
          "slide_type": "slide"
        }
      },
      "outputs": [],
      "source": [
        "#: Upload the zipped GDB \n",
        "gdb_item = gis.content.add(item_properties={'type': 'File Geodatabase', 'title': 'test gdb', 'snippet': 'test gdb upload data'}, data=zipped_gdb_path)"
      ]
    },
    {
      "cell_type": "code",
      "execution_count": null,
      "metadata": {
        "slideshow": {
          "slide_type": "slide"
        }
      },
      "outputs": [],
      "source": [
        "#: Use .append to update the data\n",
        "result, messages = feature_layer.append(item_id=gdb_item.id, upload_format='filegdb', source_table_name='dev_summit', rollback=True, return_messages=True, upsert=True)"
      ]
    },
    {
      "cell_type": "code",
      "execution_count": null,
      "metadata": {
        "slideshow": {
          "slide_type": "slide"
        }
      },
      "outputs": [],
      "source": [
        "messages"
      ]
    },
    {
      "cell_type": "code",
      "execution_count": null,
      "metadata": {
        "slideshow": {
          "slide_type": "slide"
        }
      },
      "outputs": [],
      "source": [
        "#: Be sure to delete the gdb from AGOL so we can re-upload in the future\n",
        "gdb_item.delete()"
      ]
    },
    {
      "cell_type": "code",
      "execution_count": null,
      "metadata": {},
      "outputs": [],
      "source": []
    }
  ],
  "metadata": {
    "kernelspec": {
      "display_name": "arcgispro-py3",
      "language": "python",
      "name": "python3"
    },
    "language_info": {
      "codemirror_mode": {
        "name": "ipython",
        "version": 3
      },
      "file_extension": ".py",
      "mimetype": "text/x-python",
      "name": "python",
      "nbconvert_exporter": "python",
      "pygments_lexer": "ipython3",
      "version": "3.9.18"
    }
  },
  "nbformat": 4,
  "nbformat_minor": 2
}
