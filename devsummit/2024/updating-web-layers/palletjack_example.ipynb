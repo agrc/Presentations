{
 "cells": [
  {
   "cell_type": "code",
   "execution_count": null,
   "metadata": {},
   "outputs": [],
   "source": [
    "import arcgis\n",
    "import getpass\n",
    "import logging\n",
    "import pandas as pd\n",
    "from palletjack import extract, transform, load\n"
   ]
  },
  {
   "cell_type": "code",
   "execution_count": null,
   "metadata": {},
   "outputs": [],
   "source": [
    "#: Set up logging\n",
    "logging.basicConfig(level=logging.DEBUG)\n",
    "\n",
    "#: Get our GIS object\n",
    "username = getpass.getpass(prompt=\"Username: \")\n",
    "gis = arcgis.gis.GIS(\"https://www.arcgis.com\", username)"
   ]
  },
  {
   "cell_type": "code",
   "execution_count": null,
   "metadata": {},
   "outputs": [],
   "source": [
    "#: Extract spreadsheet data\n",
    "sheet_loader = extract.GSheetLoader(r'c:\\gis\\git\\pj-uorg\\src\\uorg\\sheets-sa.json')\n",
    "new_data = sheet_loader.load_specific_worksheet_into_dataframe(\"1LbHWR0_wADXdw-10nXO8HkBC62-5rgTlscv8mzTnhmE\", 0)\n",
    "new_data.head()"
   ]
  },
  {
   "cell_type": "code",
   "execution_count": null,
   "metadata": {},
   "outputs": [],
   "source": [
    "#: Compute the favorite game, fix the county names\n",
    "new_data[\"favorite\"] = new_data[[\"Legend of Zelda\", \"Ocarina of Time\", \"Breath of the Wild\"]].idxmax(axis=1)\n",
    "new_data[\"County\"] = new_data[\"County\"].str.replace(\"County\", \"\").str.strip().str.upper()\n",
    "new_data.head()"
   ]
  },
  {
   "cell_type": "code",
   "execution_count": null,
   "metadata": {},
   "outputs": [],
   "source": [
    "#: Load the existing Data\n",
    "feature_layer = arcgis.features.FeatureLayer.fromitem(gis.content.get(\"75ca1488109d4286b16b5df00d5cc70c\"))\n",
    "live_df = feature_layer.query(as_df=True)"
   ]
  },
  {
   "cell_type": "code",
   "execution_count": null,
   "metadata": {},
   "outputs": [],
   "source": [
    "#: Update the favorite game based on the new data\n",
    "live_df[\"favorite_zelda\"] = live_df.merge(new_data[[\"County\", \"favorite\"]], left_on=\"name\", right_on=\"County\")[\"favorite\"]\n",
    "live_df.head()"
   ]
  },
  {
   "cell_type": "code",
   "execution_count": null,
   "metadata": {},
   "outputs": [],
   "source": [
    "#: Load our new date into the Feature Service\n",
    "loader = load.FeatureServiceUpdater(gis, \"75ca1488109d4286b16b5df00d5cc70c\", r\"c:\\temp\")\n",
    "features_updated = loader.update_features(live_df)"
   ]
  },
  {
   "cell_type": "code",
   "execution_count": null,
   "metadata": {},
   "outputs": [],
   "source": [
    "features_updated"
   ]
  },
  {
   "cell_type": "code",
   "execution_count": null,
   "metadata": {},
   "outputs": [],
   "source": []
  }
 ],
 "metadata": {
  "kernelspec": {
   "display_name": "devsummit",
   "language": "python",
   "name": "python3"
  },
  "language_info": {
   "codemirror_mode": {
    "name": "ipython",
    "version": 3
   },
   "file_extension": ".py",
   "mimetype": "text/x-python",
   "name": "python",
   "nbconvert_exporter": "python",
   "pygments_lexer": "ipython3",
   "version": "3.9.18"
  }
 },
 "nbformat": 4,
 "nbformat_minor": 2
}
