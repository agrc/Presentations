{
 "cells": [
  {
   "cell_type": "markdown",
   "id": "4fef7980",
   "metadata": {},
   "source": [
    "# Improving Your Python Programming Experience\n",
    "\n",
    "![workbench.jpg](assets/workbench.jpg)\n",
    "_Paul Englefield, CC BY 2.0_ \n",
    "\n",
    "## Tools to make your life better"
   ]
  },
  {
   "cell_type": "code",
   "execution_count": null,
   "id": "a1815b14",
   "metadata": {},
   "outputs": [],
   "source": []
  }
 ],
 "metadata": {
  "kernelspec": {
   "display_name": "Python 3",
   "language": "python",
   "name": "python3"
  },
  "language_info": {
   "codemirror_mode": {
    "name": "ipython",
    "version": 3
   },
   "file_extension": ".py",
   "mimetype": "text/x-python",
   "name": "python",
   "nbconvert_exporter": "python",
   "pygments_lexer": "ipython3",
   "version": "3.7.11"
  }
 },
 "nbformat": 4,
 "nbformat_minor": 5
}
