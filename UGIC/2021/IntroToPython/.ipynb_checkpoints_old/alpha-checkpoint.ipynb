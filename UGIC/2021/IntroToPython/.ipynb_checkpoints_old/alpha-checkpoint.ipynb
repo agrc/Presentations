{
 "cells": [
  {
   "cell_type": "markdown",
   "metadata": {},
   "source": [
    "# Variables"
   ]
  },
  {
   "cell_type": "markdown",
   "metadata": {},
   "source": [
    "Variables are names that refers to a value. They have a couple obvious and not-so-obvious advantages:\n",
    "- Store results of operations"
   ]
  },
  {
   "cell_type": "code",
   "execution_count": 3,
   "metadata": {},
   "outputs": [
    {
     "name": "stdout",
     "output_type": "stream",
     "text": [
      "Salt Lake City, Utah\n"
     ]
    }
   ],
   "source": [
    "city_label = 'SALT LAKE CITY'.title() + ', Utah'\n",
    "print(city_label)"
   ]
  },
  {
   "cell_type": "markdown",
   "metadata": {},
   "source": [
    "- Easily reuse values or objects later on in the program\n",
    "- Can help create self-documenting code"
   ]
  },
  {
   "cell_type": "code",
   "execution_count": null,
   "metadata": {},
   "outputs": [],
   "source": [
    "salt_lake_median_income = get_median_income('Salt Lake', census_data)\n",
    "state_median_income = get_median_income('Utah', census_data)\n",
    "if salt_lake_median_income > state_median_income:\n",
    "    print('Salt Lake has a greater median income than the state as a whole')"
   ]
  },
  {
   "cell_type": "markdown",
   "metadata": {},
   "source": [
    "Variables are created  with the single equal sign `=`:\n",
    "\n",
    "`var_name = <raw value or method that returns a value>`"
   ]
  },
  {
   "cell_type": "markdown",
   "metadata": {},
   "source": [
    "Variables can hold values of any \"type\". Types are the fundamental data classifications of a programming language."
   ]
  },
  {
   "cell_type": "code",
   "execution_count": null,
   "metadata": {},
   "outputs": [],
   "source": [
    "# Text ('str')\n",
    "name = 'Bryce Canyon'\n",
    "\n",
    "# Whole numbers ('int')\n",
    "elevation = 7888\n",
    "\n",
    "# Decimal numbers ('float')\n",
    "latitude = 37.640\n",
    "longitude = -112.170\n",
    "\n",
    "# True or false ('bool')\n",
    "cool_hoodoos = True\n",
    "\n",
    "# Editable list of things ('list')\n",
    "trails = ['Bristlecone Loop', 'Navajo Loop', 'Peakaboo Loop']\n",
    "\n",
    "# Look-up tables ('dict')\n",
    "trail_lengths = {'Bristlecone Loop': 1.0, 'Navajo Loop': 1.3, 'Peakboo Loop': 5.5}\n"
   ]
  },
  {
   "cell_type": "markdown",
   "metadata": {},
   "source": [
    "Note that, unlike other languages you may have seen, you don't have to specifically declare the type. Python infers the type based on the value you assign to the variable."
   ]
  },
  {
   "cell_type": "markdown",
   "metadata": {},
   "source": [
    "Variables can be reused or overwritten, including in the same line (or statement)"
   ]
  },
  {
   "cell_type": "code",
   "execution_count": 4,
   "metadata": {},
   "outputs": [
    {
     "name": "stdout",
     "output_type": "stream",
     "text": [
      "Original age: 15\n",
      "After birthday: 16\n",
      "After many years: 46\n"
     ]
    }
   ],
   "source": [
    "age = 15\n",
    "print(f'Original age: {age}')\n",
    "age += 1\n",
    "print(f'After birthday: {age}')\n",
    "age = 46\n",
    "print(f'After many years: {age}')"
   ]
  },
  {
   "cell_type": "markdown",
   "metadata": {},
   "source": [
    "# Variable Names\n",
    "\n",
    "Variable names can contain letters, numbers, and underscores (_), but cannot start with a number."
   ]
  },
  {
   "cell_type": "code",
   "execution_count": 5,
   "metadata": {},
   "outputs": [
    {
     "ename": "SyntaxError",
     "evalue": "invalid token (<ipython-input-5-260386107daa>, line 6)",
     "output_type": "error",
     "traceback": [
      "\u001b[1;36m  File \u001b[1;32m\"<ipython-input-5-260386107daa>\"\u001b[1;36m, line \u001b[1;32m6\u001b[0m\n\u001b[1;33m    5_city_population = 65309\u001b[0m\n\u001b[1;37m     ^\u001b[0m\n\u001b[1;31mSyntaxError\u001b[0m\u001b[1;31m:\u001b[0m invalid token\n"
     ]
    }
   ],
   "source": [
    "# Allowed\n",
    "age = 15\n",
    "district_5_population = 13541\n",
    "\n",
    "# Borked\n",
    "5_city_population = 65309"
   ]
  },
  {
   "cell_type": "markdown",
   "metadata": {},
   "source": [
    "With only a few exceptions, variable names should be descriptive and unambiguous. You really want to avoid one-letter variable names. \n",
    "\n",
    "Which of these two examples is more readable and concise?"
   ]
  },
  {
   "cell_type": "code",
   "execution_count": 6,
   "metadata": {},
   "outputs": [],
   "source": [
    "#: Population\n",
    "x = 15434\n",
    "#: Area\n",
    "y = 5.67\n",
    "#: Population density\n",
    "z = x/y"
   ]
  },
  {
   "cell_type": "code",
   "execution_count": null,
   "metadata": {},
   "outputs": [],
   "source": [
    "population = 15434\n",
    "area = 5.67\n",
    "population_density = population/area"
   ]
  },
  {
   "cell_type": "markdown",
   "metadata": {},
   "source": [
    "This is called self-documenting code. We've been using coments (lines starting with `#`) for a while now to add add context to our code, but the best code is written so that it needs as few comments as possible. \n",
    "\n",
    "Chances are, you will have to look at your script in 6 months (or 2 years) when you've completely forgotten why you did something. Worse, you'll be handed someone else's code and asked to fix or update it. Well-documented code, both by self-documenting variable names and appropriate comments, is a life saver."
   ]
  },
  {
   "cell_type": "markdown",
   "metadata": {},
   "source": [
    "# A Comment on Comments\n",
    "\n",
    "Comments can be overused. Consider the following:"
   ]
  },
  {
   "cell_type": "code",
   "execution_count": null,
   "metadata": {},
   "outputs": [],
   "source": [
    "#: City population\n",
    "population = 15434\n",
    "#: City area\n",
    "area = 5.67\n",
    "#: Density is population divided by area\n",
    "population_density = population/area"
   ]
  },
  {
   "cell_type": "markdown",
   "metadata": {},
   "source": [
    "While true, there's a lot of information duplication here. Just like good cartography is all about knowing what to take off the map, good comments are about only including what is absolutely necessary to understand your program.\n",
    "\n",
    "You should use comments to explain **why** you did something. The **how** should be evident from the code (including using good variable names).\n",
    "\n",
    "However, using a comment to summarize a whole block of code can be allowable, but this is also a sign that it could probably be bundled up into a function (more on those later)."
   ]
  },
  {
   "cell_type": "code",
   "execution_count": null,
   "metadata": {},
   "outputs": [],
   "source": [
    "#: Calculate population density of only the buildable area\n",
    "population = 15434\n",
    "area = 5.67\n",
    "parks_area = .68\n",
    "water_area = 1.2\n",
    "steep_slopes = 2.5\n",
    "usable_area = area - parks_area - water_area - steep_slopes\n",
    "population_density = population/usable_area"
   ]
  },
  {
   "cell_type": "markdown",
   "metadata": {},
   "source": [
    "# Variable Types\n",
    "\n",
    "## int\n",
    "\n",
    "Integars (\"int\") hold whole numbers. As we've seen, you can perform all the standard mathematical operators to them.\n",
    "\n",
    "## float\n",
    "\n",
    "Floats are used to represent decimal numbers. They work just fine 99% of the time, [but when they don't](https://www.youtube.com/watch?v=PZRI1IfStY0), they don't. If you ever run into problems, check out the `Decimal` type. Otherwise, the built-in `round()` method can get you close."
   ]
  },
  {
   "cell_type": "code",
   "execution_count": 12,
   "metadata": {},
   "outputs": [
    {
     "data": {
      "text/plain": [
       "0.30000000000000004"
      ]
     },
     "execution_count": 12,
     "metadata": {},
     "output_type": "execute_result"
    }
   ],
   "source": [
    ".1 + .2\n"
   ]
  },
  {
   "cell_type": "code",
   "execution_count": 13,
   "metadata": {},
   "outputs": [
    {
     "data": {
      "text/plain": [
       "0.3"
      ]
     },
     "execution_count": 13,
     "metadata": {},
     "output_type": "execute_result"
    }
   ],
   "source": [
    "round(.1 + .2, 2)"
   ]
  },
  {
   "cell_type": "markdown",
   "metadata": {},
   "source": [
    "You may be working with mixed ints and floats. Most of the time, python will automatically recast the int as a float in the background"
   ]
  },
  {
   "cell_type": "markdown",
   "metadata": {},
   "source": [
    "## str\n",
    "\n",
    "Strings (\"str\") store text data in a program, and we use them all over the place. You've probably already done some string manipulation in the Field Calculator or labeling tools in ArcGIS Pro. We use strings to convey info to our programs's users or write info to a logfile. \n",
    "\n",
    "You can use either `'` or `\"` to define strings. It's up to you, but try to be consistent. If you need to use the string character in the string itself, you need to escpae it using the `\\`. Sometimes, you can use the other quote mark if you need to use the first in your string. "
   ]
  },
  {
   "cell_type": "code",
   "execution_count": 2,
   "metadata": {},
   "outputs": [],
   "source": [
    "#: Both work\n",
    "single_quotes = 'Go for a run'\n",
    "double_quotes = \"Biking is better\"\n",
    "\n",
    "#: Use double qoutes to use a apostrophe\n",
    "forecast = \"Highs in the low 70's\"\n",
    "#: Or single quotes to include a quote in the string\n",
    "error = 'Variable \"temperature\" has not been set'\n",
    "\n",
    "#: Escpaing quotes (also works for other special characters)\n",
    "report = 'The meteorologist\\'s forecast specifically said \"The lows won\\'t be below 55.\"'  "
   ]
  },
  {
   "cell_type": "markdown",
   "metadata": {},
   "source": [
    "## Building Strings\n",
    "\n",
    "Sometimes you just need to store some pre-defined text, like we've done already. Frequently, though, you'll need to build longer or more complex strings out of other data, including floats and ints.\n",
    "\n",
    "The `.join()` method can be used to build a string out of a collection of data using a predefined joining string:"
   ]
  },
  {
   "cell_type": "code",
   "execution_count": 5,
   "metadata": {},
   "outputs": [
    {
     "name": "stdout",
     "output_type": "stream",
     "text": [
      "Hiking, Biking, Stargazing, Loafing\n"
     ]
    }
   ],
   "source": [
    "activities = ['Hiking', 'Biking', 'Stargazing', 'Loafing']\n",
    "activity_list = ', '.join(activities)\n",
    "print(activity_list)"
   ]
  },
  {
   "cell_type": "markdown",
   "metadata": {},
   "source": [
    "Another way to build strings is f-strings (\"formatted\"strings\"). These are particularly useful for combining lots of data from different variables into a single string. "
   ]
  },
  {
   "cell_type": "code",
   "execution_count": 8,
   "metadata": {},
   "outputs": [
    {
     "name": "stdout",
     "output_type": "stream",
     "text": [
      "Today's high will be 83 degrees with a 40% chance of precipitation. The low tonight will be 44. The pressure is 29.82 and climbing.\n"
     ]
    }
   ],
   "source": [
    "high_temp = 83\n",
    "low_temp = 44\n",
    "precip = 40\n",
    "pressure = 29.82\n",
    "pressure_direction = 'climbing'\n",
    "\n",
    "forecast = f'Today\\'s high will be {high_temp} degrees with a {precip}% chance of precipitation. The low tonight will be {low_temp}. The pressure is {pressure} and {pressure_direction}.'\n",
    "print(forecast)"
   ]
  },
  {
   "cell_type": "markdown",
   "metadata": {},
   "source": [
    "You can also put more complex expressions in the `{}`s, like method calls or math statements. You can also use them to repeat single characters, which is useful for printing output."
   ]
  },
  {
   "cell_type": "code",
   "execution_count": 10,
   "metadata": {},
   "outputs": [
    {
     "name": "stdout",
     "output_type": "stream",
     "text": [
      "==========\n",
      "  Tropic  \n",
      "==========\n",
      "Today's high will be 83 degrees with a 40% chance of precipitation. The low tonight will be 44. The pressure is 29.82 and climbing.\n"
     ]
    }
   ],
   "source": [
    "city = 'TROPIC'\n",
    "banner = f'{\"=\"*10}\\n  {city.title()}  \\n{\"=\"*10}\\n{forecast}'\n",
    "print(banner)"
   ]
  },
  {
   "cell_type": "markdown",
   "metadata": {},
   "source": [
    "All strings have a set of [methods](https://docs.python.org/3/library/stdtypes.html#string-methods) that can be called on them to create a new, modified string:\n",
    "\n",
    "- `.title()`, `.upper()`, `.lower()`/`.casefold()`: Proper Case, UPPER CASE, or lower case. Useful for comparing strings.\n",
    "- `.endswith()`, `.startswith()`, .`.find()`: check for specific text in the string\n",
    "- `.split()`, `.partition()`, `.strip()`: divide the string or remove trailing data"
   ]
  },
  {
   "cell_type": "code",
   "execution_count": 11,
   "metadata": {},
   "outputs": [
    {
     "name": "stdout",
     "output_type": "stream",
     "text": [
      "['11', '029', '0056']\n"
     ]
    }
   ],
   "source": [
    "print('11-029-0056'.split('-'))"
   ]
  },
  {
   "cell_type": "markdown",
   "metadata": {},
   "source": [
    "Strings in Python are immutable, which means that once we create a string we can't change it directly. Every string operation creates a new string with the desired changes."
   ]
  },
  {
   "cell_type": "code",
   "execution_count": 1,
   "metadata": {},
   "outputs": [
    {
     "name": "stdout",
     "output_type": "stream",
     "text": [
      "BRYCE CANYON CITY\n"
     ]
    }
   ],
   "source": [
    "city = 'BRYCE CANYON CITY'\n",
    "#: Does not modify city, but returns a new value (which we don't assign to a variable)\n",
    "city.title()\n",
    "print(city)"
   ]
  },
  {
   "cell_type": "code",
   "execution_count": 2,
   "metadata": {},
   "outputs": [
    {
     "name": "stdout",
     "output_type": "stream",
     "text": [
      "BRYCE CANYON CITY\n",
      "Bryce Canyon City\n"
     ]
    }
   ],
   "source": [
    "#: Assign the output to a variable\n",
    "title_case_city = city.title()\n",
    "print(city)\n",
    "print(title_case_city)"
   ]
  },
  {
   "cell_type": "code",
   "execution_count": 3,
   "metadata": {},
   "outputs": [
    {
     "name": "stdout",
     "output_type": "stream",
     "text": [
      "Bryce Canyon City\n"
     ]
    }
   ],
   "source": [
    "#: overwrite the existing variable\n",
    "city = city.title()\n",
    "print(city)"
   ]
  },
  {
   "cell_type": "markdown",
   "metadata": {},
   "source": [
    "# Collections\n",
    "\n",
    "Simple variables store individual values, but we often need to store groups of variables. Ptyhon gives us several built-in tools to do this.\n",
    "\n",
    "## Lists\n",
    "Lists are a simple and flexible collection of data. You can put different types of data into the same list."
   ]
  },
  {
   "cell_type": "code",
   "execution_count": 15,
   "metadata": {},
   "outputs": [],
   "source": [
    "parcel_ids = ['11-011-0033', 21094510720000, '00-0004-6263']"
   ]
  },
  {
   "cell_type": "markdown",
   "metadata": {},
   "source": [
    "Items in lists can be referred to by their index, which starts at 0. You can also use negative indexes, which work back from the end."
   ]
  },
  {
   "cell_type": "code",
   "execution_count": 16,
   "metadata": {},
   "outputs": [
    {
     "name": "stdout",
     "output_type": "stream",
     "text": [
      "11-011-0033\n",
      "00-0004-6263\n",
      "00-0004-6263\n"
     ]
    }
   ],
   "source": [
    "print(parcel_ids[0])\n",
    "print(parcel_ids[2])\n",
    "print(parcel_ids[-1])"
   ]
  },
  {
   "cell_type": "markdown",
   "metadata": {},
   "source": [
    "You can also use slice notation to refer to just portions of a list. You create a slice by specifying the first index you want to include and the index after the last one, separated by a colon: `list_name[start_index:end_index+1]`. From math class, it's  a half-open interval: `[start, end)`. So, `list_name[1:5]` means \"give me all the items begining at index 1 up to, but not including, index 5\"\n",
    "\n",
    "You can also ommit the start or end value and Python will interperate it as the beginning or end of the list, respectively: `list_name[:4]` or `list_name[4:]`. These become \"everying up to, but not including, index 4\" and \"everything from index 4 to the end.\"\n",
    "\n"
   ]
  },
  {
   "cell_type": "code",
   "execution_count": 2,
   "metadata": {},
   "outputs": [
    {
     "data": {
      "text/plain": [
       "['c', 'd', 'e']"
      ]
     },
     "execution_count": 2,
     "metadata": {},
     "output_type": "execute_result"
    }
   ],
   "source": [
    "letters = ['a', 'b', 'c', 'd', 'e', 'f']\n",
    "letters[2:5]"
   ]
  },
  {
   "cell_type": "code",
   "execution_count": 3,
   "metadata": {},
   "outputs": [
    {
     "data": {
      "text/plain": [
       "['a', 'b', 'c', 'd', 'e']"
      ]
     },
     "execution_count": 3,
     "metadata": {},
     "output_type": "execute_result"
    }
   ],
   "source": [
    "letters[:5]"
   ]
  },
  {
   "cell_type": "code",
   "execution_count": 4,
   "metadata": {},
   "outputs": [
    {
     "data": {
      "text/plain": [
       "['c', 'd', 'e', 'f']"
      ]
     },
     "execution_count": 4,
     "metadata": {},
     "output_type": "execute_result"
    }
   ],
   "source": [
    "letters[2:]"
   ]
  },
  {
   "cell_type": "code",
   "execution_count": 5,
   "metadata": {},
   "outputs": [
    {
     "data": {
      "text/plain": [
       "['a', 'b', 'c', 'd', 'e', 'f']"
      ]
     },
     "execution_count": 5,
     "metadata": {},
     "output_type": "execute_result"
    }
   ],
   "source": [
    "letters[:]"
   ]
  },
  {
   "cell_type": "markdown",
   "metadata": {},
   "source": [
    "Because the slice interval is open at the end, and the index starts at 0, we get two cool side effects:\n",
    "\n",
    "- `list_name[:n]` gives us the first n items in the list. ie, if n were 5 we'd get the first 5 items\n",
    "- `list_name[n:]` gives us the rest of the items in the list.\n",
    "\n",
    "So, if we want to split a list at a given index, we just have to do two slices of the original list"
   ]
  },
  {
   "cell_type": "code",
   "execution_count": 6,
   "metadata": {},
   "outputs": [
    {
     "data": {
      "text/plain": [
       "['a', 'b', 'c']"
      ]
     },
     "execution_count": 6,
     "metadata": {},
     "output_type": "execute_result"
    }
   ],
   "source": [
    "split_point = 3\n",
    "letters[:split_point]\n"
   ]
  },
  {
   "cell_type": "code",
   "execution_count": 7,
   "metadata": {},
   "outputs": [
    {
     "data": {
      "text/plain": [
       "['d', 'e', 'f']"
      ]
     },
     "execution_count": 7,
     "metadata": {},
     "output_type": "execute_result"
    }
   ],
   "source": [
    "letters[split_point:]"
   ]
  },
  {
   "cell_type": "markdown",
   "metadata": {},
   "source": [
    "Adding data to a list is easy: `.append()`"
   ]
  },
  {
   "cell_type": "code",
   "execution_count": 8,
   "metadata": {},
   "outputs": [
    {
     "data": {
      "text/plain": [
       "['a', 'b', 'c', 'd', 'e', 'f', 'g']"
      ]
     },
     "execution_count": 8,
     "metadata": {},
     "output_type": "execute_result"
    }
   ],
   "source": [
    "letters.append('g')\n",
    "letters"
   ]
  },
  {
   "cell_type": "markdown",
   "metadata": {},
   "source": [
    "However, many functions return a new list of their own. How do we add that to our existing list?"
   ]
  },
  {
   "cell_type": "code",
   "execution_count": 9,
   "metadata": {},
   "outputs": [
    {
     "data": {
      "text/plain": [
       "['spam', 'eggs', ['African', 'European']]"
      ]
     },
     "execution_count": 9,
     "metadata": {},
     "output_type": "execute_result"
    }
   ],
   "source": [
    "first_list = ['spam', 'eggs']\n",
    "new_list = ['African', 'European']\n",
    "#: Just append, right?\n",
    "first_list.append(new_list)\n",
    "first_list"
   ]
  },
  {
   "cell_type": "markdown",
   "metadata": {},
   "source": [
    "Now we've got a nested list (which can be useful, but not what we're after...)\n",
    "\n",
    "`.extend()` is our friend here."
   ]
  },
  {
   "cell_type": "code",
   "execution_count": 10,
   "metadata": {},
   "outputs": [
    {
     "data": {
      "text/plain": [
       "['spam', 'eggs', 'African', 'European']"
      ]
     },
     "execution_count": 10,
     "metadata": {},
     "output_type": "execute_result"
    }
   ],
   "source": [
    "first_list = ['spam', 'eggs']\n",
    "new_list = ['African', 'European']\n",
    "#: Just append, right?\n",
    "first_list.extend(new_list)\n",
    "first_list"
   ]
  },
  {
   "cell_type": "markdown",
   "metadata": {},
   "source": [
    "We can alter and rearrange items in a list using `.sort()`, `.reverse()`, etc."
   ]
  },
  {
   "cell_type": "code",
   "execution_count": 12,
   "metadata": {},
   "outputs": [
    {
     "data": {
      "text/plain": [
       "['g', 'f', 'e', 'd', 'c', 'b', 'a']"
      ]
     },
     "execution_count": 12,
     "metadata": {},
     "output_type": "execute_result"
    }
   ],
   "source": [
    "letters.reverse()\n",
    "letters"
   ]
  },
  {
   "cell_type": "code",
   "execution_count": 14,
   "metadata": {},
   "outputs": [
    {
     "data": {
      "text/plain": [
       "['a', 'b', 'c', 'd', 'e', 'f', 'g']"
      ]
     },
     "execution_count": 14,
     "metadata": {},
     "output_type": "execute_result"
    }
   ],
   "source": [
    "letters.sort()\n",
    "letters"
   ]
  },
  {
   "cell_type": "code",
   "execution_count": 15,
   "metadata": {},
   "outputs": [
    {
     "ename": "TypeError",
     "evalue": "'<' not supported between instances of 'int' and 'str'",
     "output_type": "error",
     "traceback": [
      "\u001b[1;31m---------------------------------------------------------------------------\u001b[0m",
      "\u001b[1;31mTypeError\u001b[0m                                 Traceback (most recent call last)",
      "\u001b[1;32m<ipython-input-15-247460d19b0b>\u001b[0m in \u001b[0;36m<module>\u001b[1;34m\u001b[0m\n\u001b[0;32m      1\u001b[0m \u001b[1;31m#: what about mixed lists?\u001b[0m\u001b[1;33m\u001b[0m\u001b[1;33m\u001b[0m\u001b[1;33m\u001b[0m\u001b[0m\n\u001b[0;32m      2\u001b[0m \u001b[0mmany_things\u001b[0m \u001b[1;33m=\u001b[0m \u001b[1;33m[\u001b[0m\u001b[1;34m'Clarkson'\u001b[0m\u001b[1;33m,\u001b[0m \u001b[1;34m'Hammond'\u001b[0m\u001b[1;33m,\u001b[0m \u001b[1;36m23\u001b[0m\u001b[1;33m,\u001b[0m \u001b[1;36m0.25\u001b[0m\u001b[1;33m]\u001b[0m\u001b[1;33m\u001b[0m\u001b[1;33m\u001b[0m\u001b[0m\n\u001b[1;32m----> 3\u001b[1;33m \u001b[0mmany_things\u001b[0m\u001b[1;33m.\u001b[0m\u001b[0msort\u001b[0m\u001b[1;33m(\u001b[0m\u001b[1;33m)\u001b[0m\u001b[1;33m\u001b[0m\u001b[1;33m\u001b[0m\u001b[0m\n\u001b[0m",
      "\u001b[1;31mTypeError\u001b[0m: '<' not supported between instances of 'int' and 'str'"
     ]
    }
   ],
   "source": [
    "#: what about mixed lists?\n",
    "many_things = ['Clarkson', 'Hammond', 23, 0.25]\n",
    "many_things.sort()"
   ]
  },
  {
   "cell_type": "code",
   "execution_count": 16,
   "metadata": {},
   "outputs": [
    {
     "ename": "TypeError",
     "evalue": "'<' not supported between instances of 'list' and 'str'",
     "output_type": "error",
     "traceback": [
      "\u001b[1;31m---------------------------------------------------------------------------\u001b[0m",
      "\u001b[1;31mTypeError\u001b[0m                                 Traceback (most recent call last)",
      "\u001b[1;32m<ipython-input-16-4468efd64db4>\u001b[0m in \u001b[0;36m<module>\u001b[1;34m\u001b[0m\n\u001b[0;32m      1\u001b[0m \u001b[0mnested_list\u001b[0m \u001b[1;33m=\u001b[0m \u001b[1;33m[\u001b[0m\u001b[1;34m'spam'\u001b[0m\u001b[1;33m,\u001b[0m \u001b[1;34m'eggs'\u001b[0m\u001b[1;33m,\u001b[0m \u001b[1;33m[\u001b[0m\u001b[1;34m'African'\u001b[0m\u001b[1;33m,\u001b[0m \u001b[1;34m'European'\u001b[0m\u001b[1;33m]\u001b[0m\u001b[1;33m]\u001b[0m\u001b[1;33m\u001b[0m\u001b[1;33m\u001b[0m\u001b[0m\n\u001b[1;32m----> 2\u001b[1;33m \u001b[0mnested_list\u001b[0m\u001b[1;33m.\u001b[0m\u001b[0msort\u001b[0m\u001b[1;33m(\u001b[0m\u001b[1;33m)\u001b[0m\u001b[1;33m\u001b[0m\u001b[1;33m\u001b[0m\u001b[0m\n\u001b[0m",
      "\u001b[1;31mTypeError\u001b[0m: '<' not supported between instances of 'list' and 'str'"
     ]
    }
   ],
   "source": [
    "nested_list = ['spam', 'eggs', ['African', 'European']]\n",
    "nested_list.sort()"
   ]
  },
  {
   "cell_type": "markdown",
   "metadata": {},
   "source": [
    "## Dictionaries\n",
    "\n",
    "Dictionaries are useful for storing a collection of things that can be identified by a unique ID. Each `key` maps to one and only one `value`- kind of like how every feature in a feature class can be identified by its object ID. These are sometimes referred to as look-up tables (or hash tables) because you use one value to get info about another value or set of values."
   ]
  },
  {
   "cell_type": "code",
   "execution_count": 17,
   "metadata": {},
   "outputs": [
    {
     "name": "stdout",
     "output_type": "stream",
     "text": [
      "1.0\n",
      "1.3\n"
     ]
    }
   ],
   "source": [
    "trail_lengths = {'Bristlecone Loop': 1.0, 'Navajo Loop': 1.3, 'Peakboo Loop': 5.5}\n",
    "print(trail_lengths['Bristlecone Loop'])\n",
    "print(trail_lengths['Navajo Loop'])"
   ]
  },
  {
   "cell_type": "markdown",
   "metadata": {},
   "source": [
    "A dictionary's `keys` must be \"hashable\" - able to be represented by a programmatically calculated value (hash) that never changes over time (immutable). The basic variable types we've looked at already - ints, floats, strings - are all immutable and can be used as keys. \n",
    "\n",
    "Because we can change the content of lists, they are mutable and thus can't be used as keys (you also can't use a dictionary as a key of another dictionary)"
   ]
  },
  {
   "cell_type": "code",
   "execution_count": 4,
   "metadata": {},
   "outputs": [],
   "source": [
    "#: Ints\n",
    "stations = {1: 'Salt Lake', 2: 'Provo', 3: 'Nephi'}\n",
    "#: Strings\n",
    "trail_lengths = {'Bristlecone Loop': 1.0, 'Navajo Loop': 1.3, 'Peakboo Loop': 5.5}"
   ]
  },
  {
   "cell_type": "code",
   "execution_count": 6,
   "metadata": {},
   "outputs": [
    {
     "ename": "TypeError",
     "evalue": "unhashable type: 'list'",
     "output_type": "error",
     "traceback": [
      "\u001b[1;31m---------------------------------------------------------------------------\u001b[0m",
      "\u001b[1;31mTypeError\u001b[0m                                 Traceback (most recent call last)",
      "\u001b[1;32m<ipython-input-6-88c5328914d9>\u001b[0m in \u001b[0;36m<module>\u001b[1;34m\u001b[0m\n\u001b[0;32m      1\u001b[0m \u001b[1;31m#: Lists: won't work\u001b[0m\u001b[1;33m\u001b[0m\u001b[1;33m\u001b[0m\u001b[1;33m\u001b[0m\u001b[0m\n\u001b[1;32m----> 2\u001b[1;33m \u001b[0massigned_counties\u001b[0m \u001b[1;33m=\u001b[0m \u001b[1;33m{\u001b[0m\u001b[1;33m[\u001b[0m\u001b[1;34m'Jake'\u001b[0m\u001b[1;33m,\u001b[0m \u001b[1;34m'Josh'\u001b[0m\u001b[1;33m]\u001b[0m\u001b[1;33m:\u001b[0m \u001b[1;34m'Salt Lake'\u001b[0m\u001b[1;33m,\u001b[0m \u001b[1;33m[\u001b[0m\u001b[1;34m'Jordan'\u001b[0m\u001b[1;33m,\u001b[0m \u001b[1;34m'Jason'\u001b[0m\u001b[1;33m]\u001b[0m\u001b[1;33m:\u001b[0m \u001b[1;34m'Davis'\u001b[0m\u001b[1;33m}\u001b[0m\u001b[1;33m\u001b[0m\u001b[1;33m\u001b[0m\u001b[0m\n\u001b[0m",
      "\u001b[1;31mTypeError\u001b[0m: unhashable type: 'list'"
     ]
    }
   ],
   "source": [
    "#: Lists: won't work\n",
    "assigned_counties = {['Jake', 'Josh']: 'Salt Lake', ['Jordan', 'Jason']: 'Davis'}"
   ]
  },
  {
   "cell_type": "markdown",
   "metadata": {},
   "source": [
    "A dictionary's `values` can be whatever you want- ints, strings, lists, other objects, just about anything."
   ]
  },
  {
   "cell_type": "code",
   "execution_count": 7,
   "metadata": {},
   "outputs": [
    {
     "name": "stdout",
     "output_type": "stream",
     "text": [
      "{'Salt Lake': ['Jake', 'Josh', 'Steve'], 'Davis': ['Jason', 'Jordan']}\n"
     ]
    }
   ],
   "source": [
    "county_assignments = {'Salt Lake': ['Jake', 'Josh'], 'Davis': ['Jason', 'Jordan']}\n",
    "#: Access by key and append\n",
    "county_assignments['Salt Lake'].append('Steve')\n",
    "print(county_assignments)"
   ]
  },
  {
   "cell_type": "markdown",
   "metadata": {},
   "source": [
    "Nested dictionaries can be used to replicate a table-like structure where the key of the outer dictionary is the row id and the keys of the inner dictionaries are the column names."
   ]
  },
  {
   "cell_type": "code",
   "execution_count": 13,
   "metadata": {},
   "outputs": [
    {
     "name": "stdout",
     "output_type": "stream",
     "text": [
      "{1: {'Name': 'Beaver', 'FIPS': 49001}, 2: {'Name': 'Box Elder', 'FIPS': 49003}, 3: {'Name': 'Cache', 'FIPS': 49005}}\n",
      "Beaver\n"
     ]
    }
   ],
   "source": [
    "counties = {1: {'Name': 'Beaver', 'FIPS': 49001}, 2: {'Name': 'Box Elder', 'FIPS': 49003}}\n",
    "#: Create a new entry by referencing an unused key\n",
    "counties[3] = {'Name': 'Cache', 'FIPS': 49005}\n",
    "print(counties)\n",
    "#: Accessing nested dicts\n",
    "print(counties[1]['Name'])"
   ]
  },
  {
   "cell_type": "markdown",
   "metadata": {},
   "source": [
    "You can use the `.items()` method to iterate over a dictionary (more on iteration later)."
   ]
  },
  {
   "cell_type": "code",
   "execution_count": 19,
   "metadata": {},
   "outputs": [
    {
     "name": "stdout",
     "output_type": "stream",
     "text": [
      "==1==\n",
      "\tName: Beaver\n",
      "\tFIPS: 49001\n",
      "==2==\n",
      "\tName: Box Elder\n",
      "\tFIPS: 49003\n",
      "==3==\n",
      "\tName: Cache\n",
      "\tFIPS: 49005\n"
     ]
    }
   ],
   "source": [
    "for row_number, county in counties.items():\n",
    "    print(f'=={row_number}==')\n",
    "    for field, value in county.items():\n",
    "        print(f'\\t{field}: {value}')"
   ]
  },
  {
   "cell_type": "markdown",
   "metadata": {},
   "source": [
    "Prior to Python 3.7, dictionaries were not guaranteed to preserve the insertion order. It was simply an ordered collection of items. ArcGIS Pro 2.7+ include Python 3.7. \n",
    "\n",
    "However, in the effort of self-documenting code and the Zen of Python's \"explicit is better than implicit\", if you need to rely on dictionary ordering, you should use the `OrderedDict` from the `collections` module"
   ]
  },
  {
   "cell_type": "code",
   "execution_count": 12,
   "metadata": {},
   "outputs": [
    {
     "name": "stdout",
     "output_type": "stream",
     "text": [
      "OrderedDict([(1, {'Name': 'Beaver', 'FIPS': 49001}), (2, {'Name': 'Box Elder', 'FIPS': 49003})])\n",
      "{'Name': 'Box Elder', 'FIPS': 49003}\n"
     ]
    }
   ],
   "source": [
    "#: First, import the OrderedDict class\n",
    "from collections import OrderedDict\n",
    "\n",
    "#: Create an OrderedDict object\n",
    "d = OrderedDict()\n",
    "\n",
    "#: Reference keys like normal\n",
    "d[1] = {'Name': 'Beaver', 'FIPS': 49001}\n",
    "d[2] = {'Name': 'Box Elder', 'FIPS': 49003}\n",
    "\n",
    "print(d)\n",
    "print(d[2])"
   ]
  },
  {
   "cell_type": "code",
   "execution_count": 14,
   "metadata": {},
   "outputs": [
    {
     "data": {
      "text/plain": [
       "dict_items([(1, {'Name': 'Beaver', 'FIPS': 49001}), (2, {'Name': 'Box Elder', 'FIPS': 49003}), (3, {'Name': 'Cache', 'FIPS': 49005})])"
      ]
     },
     "execution_count": 14,
     "metadata": {},
     "output_type": "execute_result"
    }
   ],
   "source": [
    "counties.items()"
   ]
  },
  {
   "cell_type": "markdown",
   "metadata": {},
   "source": [
    "Python uses dictionaries for a lot of the \"under the hood\" stuff to keep track of all the different objects (variables) that have been defined. You can call the `locals()` or `globals()` methods to get dictionaries of all the variables."
   ]
  },
  {
   "cell_type": "code",
   "execution_count": 24,
   "metadata": {
    "collapsed": true
   },
   "outputs": [
    {
     "data": {
      "text/plain": [
       "{'__name__': '__main__',\n",
       " '__doc__': 'Automatically created module for IPython interactive environment',\n",
       " '__package__': None,\n",
       " '__loader__': None,\n",
       " '__spec__': None,\n",
       " '__builtin__': <module 'builtins' (built-in)>,\n",
       " '__builtins__': <module 'builtins' (built-in)>,\n",
       " '_ih': ['',\n",
       "  \"city = 'BRYCE CANYON CITY'\\ncity.title()\\nprint(city)\",\n",
       "  '#: Assign the output to a variable\\ntitle_case_city = city.title()\\nprint(city)\\nprint(title_case_city)',\n",
       "  '#: overwrite the existing variable\\ncity = city.title()\\nprint(city)',\n",
       "  \"#: Ints\\nstations = {1: 'Salt Lake', 2: 'Provo', 3: 'Nephi'}\\n#: Strings\\ntrail_lengths = {'Bristlecone Loop': 1.0, 'Navajo Loop': 1.3, 'Peakboo Loop': 5.5}\",\n",
       "  \"#: Lists: won't work\\nassigned_counties = {['Jake', 'Josh'] = 'Salt Lake', ['Jordan', 'Jason'] = 'Davis'}\",\n",
       "  \"#: Lists: won't work\\nassigned_counties = {['Jake', 'Josh']: 'Salt Lake', ['Jordan', 'Jason']: 'Davis'}\",\n",
       "  \"county_assignments = {'Salt Lake': ['Jake', 'Josh'], 'Davis': ['Jason', 'Jordan']}\\ncounty_assignments['Salt Lake'].append('Steve')\\nprint(county_assignments)\",\n",
       "  \"counties = {1: {'Name': 'Beaver', 'FIPS': 49001}, 2: {'Name': 'Box Elder', 'FIPS': 49003}}\\n#: Create a new entry by referencing an unused key\\ncounties[3] = {'Name': 'Cache', 'FIPS': 49005}\\nprint(counties)\",\n",
       "  \"#: First, import the OrderedDict class\\nfrom collections import OrderedDict\\n\\n#: Create an OrderedDict object\\nd = OrderedDict()\\n\\n#: Reference keys like normal\\nd[1] = {'Name': 'Beaver', 'FIPS': 49001}\\nd[2] = {'Name': 'Box Elder', 'FIPS': 49003}\\n\\nprint(d)\",\n",
       "  \"#: First, import the OrderedDict class\\nfrom collections import OrderedDict\\n\\n#: Create an OrderedDict object\\nd = OrderedDict()\\n\\n#: Reference keys like normal\\nd[1] = {'Name': 'Beaver', 'FIPS': 49001}\\nd[2] = {'Name': 'Box Elder', 'FIPS': 49003}\\n\\nprint(d)\\nprint(d[2])\",\n",
       "  \"#: First, import the OrderedDict class\\nfrom collections import OrderedDict\\n\\n#: Create an OrderedDict object\\nd = OrderedDict()\\n\\n#: Reference keys like normal\\nd[1] = {'Name': 'Beaver', 'FIPS': 49001}\\nd[2] = {'Name': 'Box Elder', 'FIPS': 49003}\\n\\nprint(d)\\nprint(d[2])\\nprint(d[-1])\",\n",
       "  \"#: First, import the OrderedDict class\\nfrom collections import OrderedDict\\n\\n#: Create an OrderedDict object\\nd = OrderedDict()\\n\\n#: Reference keys like normal\\nd[1] = {'Name': 'Beaver', 'FIPS': 49001}\\nd[2] = {'Name': 'Box Elder', 'FIPS': 49003}\\n\\nprint(d)\\nprint(d[2])\",\n",
       "  \"counties = {1: {'Name': 'Beaver', 'FIPS': 49001}, 2: {'Name': 'Box Elder', 'FIPS': 49003}}\\n#: Create a new entry by referencing an unused key\\ncounties[3] = {'Name': 'Cache', 'FIPS': 49005}\\nprint(counties)\\n#: Accessing nested dicts\\nprint(counties[1]['Name'])\",\n",
       "  'counties.items()',\n",
       "  \"for row_number, county in counties:\\n    for field, value in county:\\n        print(f'{row_number}: {field}: {value})\",\n",
       "  \"for row_number, county in counties:\\n    for field, value in county:\\n        print(f'{row_number}: {field}: {value}')\",\n",
       "  \"for row_number, county in counties.items():\\n    for field, value in county.items():\\n        print(f'{row_number}: {field}: {value}')\",\n",
       "  \"for row_number, county in counties.items():\\n    print(f'=={row_number}==')\\n    for field, value in county.items():\\n        print(f'\\\\t{row_number}: {field}: {value}')\",\n",
       "  \"for row_number, county in counties.items():\\n    print(f'=={row_number}==')\\n    for field, value in county.items():\\n        print(f'\\\\t{field}: {value}')\",\n",
       "  'globals',\n",
       "  'globals()',\n",
       "  'locals()',\n",
       "  'globals()',\n",
       "  'locals()'],\n",
       " '_oh': {14: dict_items([(1, {'Name': 'Beaver', 'FIPS': 49001}), (2, {'Name': 'Box Elder', 'FIPS': 49003}), (3, {'Name': 'Cache', 'FIPS': 49005})]),\n",
       "  20: <function globals()>,\n",
       "  21: {...},\n",
       "  22: {...},\n",
       "  23: {...}},\n",
       " '_dh': ['c:\\\\gis\\\\git\\\\presentations\\\\UGIC\\\\2021\\\\IntroToPython'],\n",
       " 'In': ['',\n",
       "  \"city = 'BRYCE CANYON CITY'\\ncity.title()\\nprint(city)\",\n",
       "  '#: Assign the output to a variable\\ntitle_case_city = city.title()\\nprint(city)\\nprint(title_case_city)',\n",
       "  '#: overwrite the existing variable\\ncity = city.title()\\nprint(city)',\n",
       "  \"#: Ints\\nstations = {1: 'Salt Lake', 2: 'Provo', 3: 'Nephi'}\\n#: Strings\\ntrail_lengths = {'Bristlecone Loop': 1.0, 'Navajo Loop': 1.3, 'Peakboo Loop': 5.5}\",\n",
       "  \"#: Lists: won't work\\nassigned_counties = {['Jake', 'Josh'] = 'Salt Lake', ['Jordan', 'Jason'] = 'Davis'}\",\n",
       "  \"#: Lists: won't work\\nassigned_counties = {['Jake', 'Josh']: 'Salt Lake', ['Jordan', 'Jason']: 'Davis'}\",\n",
       "  \"county_assignments = {'Salt Lake': ['Jake', 'Josh'], 'Davis': ['Jason', 'Jordan']}\\ncounty_assignments['Salt Lake'].append('Steve')\\nprint(county_assignments)\",\n",
       "  \"counties = {1: {'Name': 'Beaver', 'FIPS': 49001}, 2: {'Name': 'Box Elder', 'FIPS': 49003}}\\n#: Create a new entry by referencing an unused key\\ncounties[3] = {'Name': 'Cache', 'FIPS': 49005}\\nprint(counties)\",\n",
       "  \"#: First, import the OrderedDict class\\nfrom collections import OrderedDict\\n\\n#: Create an OrderedDict object\\nd = OrderedDict()\\n\\n#: Reference keys like normal\\nd[1] = {'Name': 'Beaver', 'FIPS': 49001}\\nd[2] = {'Name': 'Box Elder', 'FIPS': 49003}\\n\\nprint(d)\",\n",
       "  \"#: First, import the OrderedDict class\\nfrom collections import OrderedDict\\n\\n#: Create an OrderedDict object\\nd = OrderedDict()\\n\\n#: Reference keys like normal\\nd[1] = {'Name': 'Beaver', 'FIPS': 49001}\\nd[2] = {'Name': 'Box Elder', 'FIPS': 49003}\\n\\nprint(d)\\nprint(d[2])\",\n",
       "  \"#: First, import the OrderedDict class\\nfrom collections import OrderedDict\\n\\n#: Create an OrderedDict object\\nd = OrderedDict()\\n\\n#: Reference keys like normal\\nd[1] = {'Name': 'Beaver', 'FIPS': 49001}\\nd[2] = {'Name': 'Box Elder', 'FIPS': 49003}\\n\\nprint(d)\\nprint(d[2])\\nprint(d[-1])\",\n",
       "  \"#: First, import the OrderedDict class\\nfrom collections import OrderedDict\\n\\n#: Create an OrderedDict object\\nd = OrderedDict()\\n\\n#: Reference keys like normal\\nd[1] = {'Name': 'Beaver', 'FIPS': 49001}\\nd[2] = {'Name': 'Box Elder', 'FIPS': 49003}\\n\\nprint(d)\\nprint(d[2])\",\n",
       "  \"counties = {1: {'Name': 'Beaver', 'FIPS': 49001}, 2: {'Name': 'Box Elder', 'FIPS': 49003}}\\n#: Create a new entry by referencing an unused key\\ncounties[3] = {'Name': 'Cache', 'FIPS': 49005}\\nprint(counties)\\n#: Accessing nested dicts\\nprint(counties[1]['Name'])\",\n",
       "  'counties.items()',\n",
       "  \"for row_number, county in counties:\\n    for field, value in county:\\n        print(f'{row_number}: {field}: {value})\",\n",
       "  \"for row_number, county in counties:\\n    for field, value in county:\\n        print(f'{row_number}: {field}: {value}')\",\n",
       "  \"for row_number, county in counties.items():\\n    for field, value in county.items():\\n        print(f'{row_number}: {field}: {value}')\",\n",
       "  \"for row_number, county in counties.items():\\n    print(f'=={row_number}==')\\n    for field, value in county.items():\\n        print(f'\\\\t{row_number}: {field}: {value}')\",\n",
       "  \"for row_number, county in counties.items():\\n    print(f'=={row_number}==')\\n    for field, value in county.items():\\n        print(f'\\\\t{field}: {value}')\",\n",
       "  'globals',\n",
       "  'globals()',\n",
       "  'locals()',\n",
       "  'globals()',\n",
       "  'locals()'],\n",
       " 'Out': {14: dict_items([(1, {'Name': 'Beaver', 'FIPS': 49001}), (2, {'Name': 'Box Elder', 'FIPS': 49003}), (3, {'Name': 'Cache', 'FIPS': 49005})]),\n",
       "  20: <function globals()>,\n",
       "  21: {...},\n",
       "  22: {...},\n",
       "  23: {...}},\n",
       " 'get_ipython': <bound method InteractiveShell.get_ipython of <ipykernel.zmqshell.ZMQInteractiveShell object at 0x000001E3800A2F48>>,\n",
       " 'exit': <IPython.core.autocall.ZMQExitAutocall at 0x1e3800e60c8>,\n",
       " 'quit': <IPython.core.autocall.ZMQExitAutocall at 0x1e3800e60c8>,\n",
       " '_': {...},\n",
       " '__': {...},\n",
       " '___': {...},\n",
       " '_i': 'globals()',\n",
       " '_ii': 'locals()',\n",
       " '_iii': 'globals()',\n",
       " '_i1': \"city = 'BRYCE CANYON CITY'\\ncity.title()\\nprint(city)\",\n",
       " 'city': 'Bryce Canyon City',\n",
       " '_i2': '#: Assign the output to a variable\\ntitle_case_city = city.title()\\nprint(city)\\nprint(title_case_city)',\n",
       " 'title_case_city': 'Bryce Canyon City',\n",
       " '_i3': '#: overwrite the existing variable\\ncity = city.title()\\nprint(city)',\n",
       " '_i4': \"#: Ints\\nstations = {1: 'Salt Lake', 2: 'Provo', 3: 'Nephi'}\\n#: Strings\\ntrail_lengths = {'Bristlecone Loop': 1.0, 'Navajo Loop': 1.3, 'Peakboo Loop': 5.5}\",\n",
       " 'stations': {1: 'Salt Lake', 2: 'Provo', 3: 'Nephi'},\n",
       " 'trail_lengths': {'Bristlecone Loop': 1.0,\n",
       "  'Navajo Loop': 1.3,\n",
       "  'Peakboo Loop': 5.5},\n",
       " '_i5': \"#: Lists: won't work\\nassigned_counties = {['Jake', 'Josh'] = 'Salt Lake', ['Jordan', 'Jason'] = 'Davis'}\",\n",
       " '_i6': \"#: Lists: won't work\\nassigned_counties = {['Jake', 'Josh']: 'Salt Lake', ['Jordan', 'Jason']: 'Davis'}\",\n",
       " '_i7': \"county_assignments = {'Salt Lake': ['Jake', 'Josh'], 'Davis': ['Jason', 'Jordan']}\\ncounty_assignments['Salt Lake'].append('Steve')\\nprint(county_assignments)\",\n",
       " 'county_assignments': {'Salt Lake': ['Jake', 'Josh', 'Steve'],\n",
       "  'Davis': ['Jason', 'Jordan']},\n",
       " '_i8': \"counties = {1: {'Name': 'Beaver', 'FIPS': 49001}, 2: {'Name': 'Box Elder', 'FIPS': 49003}}\\n#: Create a new entry by referencing an unused key\\ncounties[3] = {'Name': 'Cache', 'FIPS': 49005}\\nprint(counties)\",\n",
       " 'counties': {1: {'Name': 'Beaver', 'FIPS': 49001},\n",
       "  2: {'Name': 'Box Elder', 'FIPS': 49003},\n",
       "  3: {'Name': 'Cache', 'FIPS': 49005}},\n",
       " '_i9': \"#: First, import the OrderedDict class\\nfrom collections import OrderedDict\\n\\n#: Create an OrderedDict object\\nd = OrderedDict()\\n\\n#: Reference keys like normal\\nd[1] = {'Name': 'Beaver', 'FIPS': 49001}\\nd[2] = {'Name': 'Box Elder', 'FIPS': 49003}\\n\\nprint(d)\",\n",
       " 'OrderedDict': collections.OrderedDict,\n",
       " 'd': OrderedDict([(1, {'Name': 'Beaver', 'FIPS': 49001}),\n",
       "              (2, {'Name': 'Box Elder', 'FIPS': 49003})]),\n",
       " '_i10': \"#: First, import the OrderedDict class\\nfrom collections import OrderedDict\\n\\n#: Create an OrderedDict object\\nd = OrderedDict()\\n\\n#: Reference keys like normal\\nd[1] = {'Name': 'Beaver', 'FIPS': 49001}\\nd[2] = {'Name': 'Box Elder', 'FIPS': 49003}\\n\\nprint(d)\\nprint(d[2])\",\n",
       " '_i11': \"#: First, import the OrderedDict class\\nfrom collections import OrderedDict\\n\\n#: Create an OrderedDict object\\nd = OrderedDict()\\n\\n#: Reference keys like normal\\nd[1] = {'Name': 'Beaver', 'FIPS': 49001}\\nd[2] = {'Name': 'Box Elder', 'FIPS': 49003}\\n\\nprint(d)\\nprint(d[2])\\nprint(d[-1])\",\n",
       " '_i12': \"#: First, import the OrderedDict class\\nfrom collections import OrderedDict\\n\\n#: Create an OrderedDict object\\nd = OrderedDict()\\n\\n#: Reference keys like normal\\nd[1] = {'Name': 'Beaver', 'FIPS': 49001}\\nd[2] = {'Name': 'Box Elder', 'FIPS': 49003}\\n\\nprint(d)\\nprint(d[2])\",\n",
       " '_i13': \"counties = {1: {'Name': 'Beaver', 'FIPS': 49001}, 2: {'Name': 'Box Elder', 'FIPS': 49003}}\\n#: Create a new entry by referencing an unused key\\ncounties[3] = {'Name': 'Cache', 'FIPS': 49005}\\nprint(counties)\\n#: Accessing nested dicts\\nprint(counties[1]['Name'])\",\n",
       " '_i14': 'counties.items()',\n",
       " '_14': dict_items([(1, {'Name': 'Beaver', 'FIPS': 49001}), (2, {'Name': 'Box Elder', 'FIPS': 49003}), (3, {'Name': 'Cache', 'FIPS': 49005})]),\n",
       " '_i15': \"for row_number, county in counties:\\n    for field, value in county:\\n        print(f'{row_number}: {field}: {value})\",\n",
       " '_i16': \"for row_number, county in counties:\\n    for field, value in county:\\n        print(f'{row_number}: {field}: {value}')\",\n",
       " '_i17': \"for row_number, county in counties.items():\\n    for field, value in county.items():\\n        print(f'{row_number}: {field}: {value}')\",\n",
       " 'row_number': 3,\n",
       " 'county': {'Name': 'Cache', 'FIPS': 49005},\n",
       " 'field': 'FIPS',\n",
       " 'value': 49005,\n",
       " '_i18': \"for row_number, county in counties.items():\\n    print(f'=={row_number}==')\\n    for field, value in county.items():\\n        print(f'\\\\t{row_number}: {field}: {value}')\",\n",
       " '_i19': \"for row_number, county in counties.items():\\n    print(f'=={row_number}==')\\n    for field, value in county.items():\\n        print(f'\\\\t{field}: {value}')\",\n",
       " '_i20': 'globals',\n",
       " '_20': <function globals()>,\n",
       " '_i21': 'globals()',\n",
       " '_21': {...},\n",
       " '_i22': 'locals()',\n",
       " '_22': {...},\n",
       " '_i23': 'globals()',\n",
       " '_23': {...},\n",
       " '_i24': 'locals()'}"
      ]
     },
     "execution_count": 24,
     "metadata": {},
     "output_type": "execute_result"
    }
   ],
   "source": [
    "#: Doing this in an ipython notebook spits out all the variable associated with the notebook itself.\n",
    "locals()"
   ]
  },
  {
   "cell_type": "markdown",
   "metadata": {},
   "source": [
    "## Tuples\n",
    "\n",
    "Tuples are an unchangable group of objects—once you create a tuple, you can't change it's contents. They are commonly used when you need to quickly package a bunch of data together to move to different parts of your program. Any function/method that returns more than one object implicitely creates a tuple and returns the tuple."
   ]
  },
  {
   "cell_type": "code",
   "execution_count": 1,
   "metadata": {},
   "outputs": [
    {
     "name": "stdout",
     "output_type": "stream",
     "text": [
      "Navajo\n",
      "('Hat Shop', 'Fairyland')\n"
     ]
    }
   ],
   "source": [
    "#: Defined by ()s\n",
    "trails_to_hike = ('Bristlecone', 'Navajo', 'Hat Shop', 'Fairyland')\n",
    "#: Access through indices like lists\n",
    "print(trails_to_hike[1])\n",
    "print(trails_to_hike[2:4])"
   ]
  },
  {
   "cell_type": "code",
   "execution_count": 2,
   "metadata": {},
   "outputs": [
    {
     "ename": "TypeError",
     "evalue": "'tuple' object does not support item assignment",
     "output_type": "error",
     "traceback": [
      "\u001b[1;31m---------------------------------------------------------------------------\u001b[0m",
      "\u001b[1;31mTypeError\u001b[0m                                 Traceback (most recent call last)",
      "\u001b[1;32m<ipython-input-2-d8545d9d73e7>\u001b[0m in \u001b[0;36m<module>\u001b[1;34m\u001b[0m\n\u001b[0;32m      1\u001b[0m \u001b[1;31m#: can't modify\u001b[0m\u001b[1;33m\u001b[0m\u001b[1;33m\u001b[0m\u001b[1;33m\u001b[0m\u001b[0m\n\u001b[1;32m----> 2\u001b[1;33m \u001b[0mtrails_to_hike\u001b[0m\u001b[1;33m[\u001b[0m\u001b[1;36m1\u001b[0m\u001b[1;33m]\u001b[0m \u001b[1;33m=\u001b[0m \u001b[1;34m'Swamp Canyon'\u001b[0m\u001b[1;33m\u001b[0m\u001b[1;33m\u001b[0m\u001b[0m\n\u001b[0m",
      "\u001b[1;31mTypeError\u001b[0m: 'tuple' object does not support item assignment"
     ]
    }
   ],
   "source": [
    "#: can't modify\n",
    "trails_to_hike[1] = 'Swamp Canyon'"
   ]
  },
  {
   "cell_type": "markdown",
   "metadata": {},
   "source": [
    "Tuples can be \"unpacked\" into multiple variables in a single line of code. This is often used when a function returns multiple objects and you want to assign them meaningful names."
   ]
  },
  {
   "cell_type": "code",
   "execution_count": 3,
   "metadata": {},
   "outputs": [
    {
     "name": "stdout",
     "output_type": "stream",
     "text": [
      "45\n",
      "2.3\n"
     ]
    }
   ],
   "source": [
    "x, y = (45, 2.3)\n",
    "print(x)\n",
    "print(y)"
   ]
  },
  {
   "cell_type": "code",
   "execution_count": 4,
   "metadata": {},
   "outputs": [
    {
     "name": "stdout",
     "output_type": "stream",
     "text": [
      "9\n",
      "27\n"
     ]
    }
   ],
   "source": [
    "def square_and_cube(number):\n",
    "    square = number ** 2\n",
    "    cube = number ** 3\n",
    "    return square, cube\n",
    "\n",
    "square, cube = square_and_cube(3)\n",
    "print(square)\n",
    "print(cube)"
   ]
  },
  {
   "cell_type": "markdown",
   "metadata": {},
   "source": [
    "# Iterations\n",
    "\n",
    "\"Insanity is doing the same thing over and over again and expecting different results\" - Einstein's pet gerbil. \n",
    "\n",
    "A common task is to inspect or operate on every item in a collection. You may want to change the visibility of every layer in a map, or get a value from every feature in a feature class, or check the usage of every AGOL item in your organization. They also allow you to do something repetitively until a condition has been met. \n",
    "\n",
    "The `for` loop is probably the most-used loop."
   ]
  },
  {
   "cell_type": "code",
   "execution_count": 6,
   "metadata": {},
   "outputs": [
    {
     "name": "stdout",
     "output_type": "stream",
     "text": [
      "Bristlecone\n",
      "Navajo\n",
      "Hat Shop\n",
      "Fairyland\n"
     ]
    }
   ],
   "source": [
    "#: for <var_name> in <iterable>\n",
    "for trail in trails_to_hike:\n",
    "    print(trail)"
   ]
  },
  {
   "cell_type": "markdown",
   "metadata": {},
   "source": [
    "Under the hood, an `iterable` is any object that implements the `__iter__()` method, which returns an `iterator` object that handles the logic of returning the next item in sequence. Lists are a common iterable, but strings are also iterables too!"
   ]
  },
  {
   "cell_type": "markdown",
   "metadata": {},
   "source": [
    "Sometimes, we need the index of the currrent item. This is usually used for accessing previous values in the iterable. We use the `enumerate()` built-in fucntion, which returns a tuple of the count and the value at each step through the iterable."
   ]
  },
  {
   "cell_type": "code",
   "execution_count": 10,
   "metadata": {},
   "outputs": [
    {
     "name": "stdout",
     "output_type": "stream",
     "text": [
      "4\n",
      "9\n",
      "12\n",
      "3\n",
      "12\n"
     ]
    }
   ],
   "source": [
    "#: We want to get the distance between each station\n",
    "stations = [0, 4, 13, 25, 28, 40]\n",
    "for i, station in enumerate(stations):\n",
    "    if i == 0:\n",
    "        continue\n",
    "    distance = station - stations[i-1]\n",
    "    print(distance)"
   ]
  },
  {
   "cell_type": "markdown",
   "metadata": {},
   "source": [
    "If you're familiar with other programming langues, you might be used to always using the index to iterate. While you can do this in python using the `range()` and `len()` functions, it's considered unpythonic and should be avoided lest the PEP-8 police come after you."
   ]
  },
  {
   "cell_type": "code",
   "execution_count": 11,
   "metadata": {},
   "outputs": [
    {
     "name": "stdout",
     "output_type": "stream",
     "text": [
      "4\n",
      "9\n",
      "12\n",
      "3\n",
      "12\n"
     ]
    }
   ],
   "source": [
    "#: Generally avoided!\n",
    "stations = [0, 4, 13, 25, 28, 40]\n",
    "for i in range(0, len(stations)):\n",
    "    if i == 0:\n",
    "        continue\n",
    "    distance = stations[i] - stations[i-1]\n",
    "    print(distance)"
   ]
  },
  {
   "cell_type": "markdown",
   "metadata": {},
   "source": [
    "The `while` loop is useful when you don't know how many times you need to do something"
   ]
  },
  {
   "cell_type": "code",
   "execution_count": null,
   "metadata": {},
   "outputs": [],
   "source": []
  },
  {
   "cell_type": "markdown",
   "metadata": {},
   "source": [
    "## Breaking the iteration\n",
    "\n",
    "The example above uses the `continue` statement to skip the rest of the step if `i` is `0`. There are three different controls that give you flexibility in the loop.\n",
    "\n",
    "- `continue`: Skip the rest of the current step and move on to the next.\n",
    "- `break`: Stop the entire loop and move on to the next lines of code after the loop\n",
    "- `pass`: Do nothing."
   ]
  },
  {
   "cell_type": "code",
   "execution_count": 14,
   "metadata": {},
   "outputs": [
    {
     "name": "stdout",
     "output_type": "stream",
     "text": [
      "B\n",
      "r\n",
      "c\n",
      "e\n",
      " \n",
      "C\n",
      "a\n",
      "n\n",
      "o\n",
      "n\n"
     ]
    }
   ],
   "source": [
    "#: Use continue to skip all 'y's\n",
    "test_string = 'Bryce Canyon'\n",
    "for letter in test_string:\n",
    "    if letter == 'y':\n",
    "        continue\n",
    "    print(letter)"
   ]
  },
  {
   "cell_type": "code",
   "execution_count": 15,
   "metadata": {},
   "outputs": [
    {
     "name": "stdout",
     "output_type": "stream",
     "text": [
      "B\n",
      "r\n",
      "y\n",
      "c\n",
      "e\n"
     ]
    }
   ],
   "source": [
    "#: Use break to stop once it encounters a space\n",
    "test_string = 'Bryce Canyon'\n",
    "for letter in test_string:\n",
    "    if letter == ' ':\n",
    "        break\n",
    "    print(letter)"
   ]
  },
  {
   "cell_type": "code",
   "execution_count": 16,
   "metadata": {},
   "outputs": [
    {
     "name": "stdout",
     "output_type": "stream",
     "text": [
      "B\n",
      "r\n",
      "y\n",
      "c\n",
      "e\n",
      " \n",
      "C\n",
      "a\n",
      "n\n",
      "y\n",
      "o\n",
      "n\n"
     ]
    }
   ],
   "source": [
    "#: pass just does nothing and moves on to the next:\n",
    "test_string = 'Bryce Canyon'\n",
    "for letter in test_string:\n",
    "    if letter == 'y':\n",
    "        pass\n",
    "    print(letter)"
   ]
  },
  {
   "cell_type": "code",
   "execution_count": 17,
   "metadata": {},
   "outputs": [
    {
     "name": "stdout",
     "output_type": "stream",
     "text": [
      "Hi mom!\n"
     ]
    }
   ],
   "source": [
    "#: You can use pass for the body of a function you know you'll need but haven't written yet\n",
    "def step_one():\n",
    "    pass\n",
    "\n",
    "def step_two():\n",
    "    print('Hi mom!')\n",
    "    \n",
    "step_one()\n",
    "step_two()"
   ]
  },
  {
   "cell_type": "code",
   "execution_count": null,
   "metadata": {},
   "outputs": [],
   "source": []
  }
 ],
 "metadata": {
  "interpreter": {
   "hash": "2e9d1e5cb03400aeac5598450c2d6a7035c533e171bdcba247c246d1a39a016a"
  },
  "kernelspec": {
   "display_name": "Python 3",
   "language": "python",
   "name": "python3"
  },
  "language_info": {
   "codemirror_mode": {
    "name": "ipython",
    "version": 3
   },
   "file_extension": ".py",
   "mimetype": "text/x-python",
   "name": "python",
   "nbconvert_exporter": "python",
   "pygments_lexer": "ipython3",
   "version": "3.7.10"
  }
 },
 "nbformat": 4,
 "nbformat_minor": 2
}
