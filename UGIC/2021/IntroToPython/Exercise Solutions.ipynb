{
 "cells": [
  {
   "cell_type": "markdown",
   "metadata": {
    "heading_collapsed": true
   },
   "source": [
    "# Iteration"
   ]
  },
  {
   "cell_type": "markdown",
   "metadata": {
    "hidden": true
   },
   "source": [
    "## 1 Addition"
   ]
  },
  {
   "cell_type": "code",
   "execution_count": 1,
   "metadata": {
    "hidden": true
   },
   "outputs": [
    {
     "name": "stdout",
     "output_type": "stream",
     "text": [
      "28\n"
     ]
    }
   ],
   "source": [
    "running_total = 0\n",
    "numbers = [1, 2, 3, 4, 5, 6, 7]\n",
    "for number in numbers:\n",
    "    running_total += number\n",
    "print(running_total)"
   ]
  },
  {
   "cell_type": "markdown",
   "metadata": {
    "hidden": true
   },
   "source": [
    "## 2 Dictionaries"
   ]
  },
  {
   "cell_type": "code",
   "execution_count": 2,
   "metadata": {
    "hidden": true
   },
   "outputs": [
    {
     "name": "stdout",
     "output_type": "stream",
     "text": [
      "Oregon:\n",
      "   Crater Lake\n",
      "   Powell's Books\n",
      "   The Gorge\n",
      "California:\n",
      "   San Diego\n"
     ]
    }
   ],
   "source": [
    "locations = {'Oregon': ['Crater Lake', 'Powell\\'s Books', 'The Gorge'], 'California': ['San Diego']}\n",
    "for state in locations:\n",
    "    print(f'{state}:')\n",
    "    for destination in locations[state]:\n",
    "        print(f'   {destination}')\n",
    "          "
   ]
  },
  {
   "cell_type": "markdown",
   "metadata": {
    "hidden": true
   },
   "source": [
    "## 3 Comprehensions"
   ]
  },
  {
   "cell_type": "code",
   "execution_count": 3,
   "metadata": {
    "hidden": true
   },
   "outputs": [
    {
     "name": "stdout",
     "output_type": "stream",
     "text": [
      "[3200, 3400]\n"
     ]
    }
   ],
   "source": [
    "contours = [3200, 3240, 3280, 3320, 3360, 3400, 3440]\n",
    "index_contours = [contour for contour in contours if contour%200 == 0]\n",
    "print(index_contours)"
   ]
  },
  {
   "cell_type": "markdown",
   "metadata": {
    "heading_collapsed": true
   },
   "source": [
    "# Comparison and Segmentation"
   ]
  },
  {
   "cell_type": "markdown",
   "metadata": {
    "hidden": true
   },
   "source": [
    "## 1: String comparison and formatting"
   ]
  },
  {
   "cell_type": "code",
   "execution_count": 4,
   "metadata": {
    "hidden": true
   },
   "outputs": [
    {
     "name": "stdout",
     "output_type": "stream",
     "text": [
      "Duchesne\n",
      "Davis\n",
      "Millard\n",
      "Wasatch\n"
     ]
    }
   ],
   "source": [
    "names = ['Cache', 'DUCHESNE', 'davis', 'millard', 'wASATCH', 'Box Elder']\n",
    "for name in names:\n",
    "    if name != name.title():\n",
    "        print(name.title())"
   ]
  },
  {
   "cell_type": "markdown",
   "metadata": {
    "hidden": true
   },
   "source": [
    "## 2: String segementation (slicing)"
   ]
  },
  {
   "cell_type": "code",
   "execution_count": 5,
   "metadata": {
    "hidden": true
   },
   "outputs": [
    {
     "name": "stdout",
     "output_type": "stream",
     "text": [
      "Book: 06\n",
      "Page: 019\n",
      "Lot : 0009\n"
     ]
    }
   ],
   "source": [
    "parcel_id = '06-019-0009'\n",
    "book = parcel_id[:2]\n",
    "page = parcel_id[3:6]\n",
    "lot = parcel_id[-4:]\n",
    "print(f'Book: {book}')\n",
    "print(f'Page: {page}')\n",
    "print(f'Lot : {lot}')\n"
   ]
  },
  {
   "cell_type": "markdown",
   "metadata": {
    "hidden": true
   },
   "source": [
    "## 3: String Segmentation (string methods)"
   ]
  },
  {
   "cell_type": "code",
   "execution_count": 7,
   "metadata": {
    "hidden": true
   },
   "outputs": [
    {
     "name": "stdout",
     "output_type": "stream",
     "text": [
      "Book: 06\n",
      "Page: 019\n",
      "Lot : 0009\n"
     ]
    }
   ],
   "source": [
    "parcel_id = '06-019-0009'\n",
    "book, page, lot = parcel_id.split('-')\n",
    "print(f'Book: {book}')\n",
    "print(f'Page: {page}')\n",
    "print(f'Lot : {lot}')"
   ]
  },
  {
   "cell_type": "markdown",
   "metadata": {
    "heading_collapsed": true
   },
   "source": [
    "# Functions"
   ]
  },
  {
   "cell_type": "markdown",
   "metadata": {
    "hidden": true
   },
   "source": [
    "## 1: Basic function"
   ]
  },
  {
   "cell_type": "code",
   "execution_count": 10,
   "metadata": {
    "hidden": true
   },
   "outputs": [
    {
     "name": "stdout",
     "output_type": "stream",
     "text": [
      "['Zach', 'Jake', 'Jason', 'Jordan', 'Sam']\n"
     ]
    }
   ],
   "source": [
    "def remove_duplicates(names):\n",
    "    no_duplicates = []\n",
    "    for name in names:\n",
    "        if name not in no_duplicates:\n",
    "            no_duplicates.append(name)\n",
    "    return no_duplicates\n",
    "\n",
    "names = ['Zach', 'Jake', 'Jason', 'Jordan', 'Zach', 'Sam']\n",
    "print(remove_duplicates(names))"
   ]
  },
  {
   "cell_type": "markdown",
   "metadata": {
    "hidden": true
   },
   "source": [
    "## 2: Default arguments"
   ]
  },
  {
   "cell_type": "code",
   "execution_count": 13,
   "metadata": {
    "hidden": true
   },
   "outputs": [
    {
     "name": "stdout",
     "output_type": "stream",
     "text": [
      "['Zach', 'Jake', 'Jason', 'Jordan', 'Sam']\n",
      "['Zach', 'Jake', 'Jason', 'Jordan', 'Zach', 'Sam']\n",
      "['Zach', 'Jake', 'Jason', 'Jordan', 'Sam']\n"
     ]
    }
   ],
   "source": [
    "def remove_duplicates(names, allowed=''):\n",
    "    no_duplicates = []\n",
    "    for name in names:\n",
    "        if name not in no_duplicates or name == allowed:\n",
    "            no_duplicates.append(name)\n",
    "    return no_duplicates\n",
    "\n",
    "names = ['Zach', 'Jake', 'Jason', 'Jordan', 'Zach', 'Sam', 'Jake']\n",
    "print(remove_duplicates(names))\n",
    "print(remove_duplicates(names, 'Zach'))\n",
    "print(remove_duplicates(names, 'Jordan'))"
   ]
  },
  {
   "cell_type": "markdown",
   "metadata": {
    "hidden": true
   },
   "source": [
    "## 3: Framework Functions"
   ]
  },
  {
   "cell_type": "code",
   "execution_count": 15,
   "metadata": {
    "hidden": true
   },
   "outputs": [],
   "source": [
    "def mix_ingredients(ingredients, bowl_number):\n",
    "    return bowl_number\n",
    "\n",
    "def combine_bowls(source_bowl, destination_bowl):\n",
    "    return destination_bowl\n",
    "\n",
    "def fold_in_chips(chips_amount, bowl_number):\n",
    "    return bowl_number\n",
    "\n",
    "def pause(time):\n",
    "    return None\n",
    "\n",
    "def scoop_cookies(size_of_cookie, tray_number):\n",
    "    return number_of_cookies\n",
    "\n",
    "def bake(tray_number, temperature, time):\n",
    "    return is_burnt"
   ]
  },
  {
   "cell_type": "markdown",
   "metadata": {
    "heading_collapsed": true
   },
   "source": [
    "# Text Files"
   ]
  },
  {
   "cell_type": "markdown",
   "metadata": {
    "hidden": true
   },
   "source": [
    "## 1: Reading a csv and writing to another directory"
   ]
  },
  {
   "cell_type": "code",
   "execution_count": null,
   "metadata": {
    "hidden": true
   },
   "outputs": [],
   "source": [
    "import csv\n",
    "from pathlib import Path\n",
    "\n",
    "csv_path = Path(r'c:\\temp\\ugic\\Utah_Municipal_Boundaries.csv')\n",
    "working_dir = csv_path.parent\n",
    "output_dir = working_dir / 'output'\n",
    "output_dir.mkdir()\n",
    "out_path = output_dir / 'outfile.csv'\n",
    "\n",
    "with open(csv_path, 'r') as csv_file:\n",
    "    reader = csv.DictReader(csv_file)\n",
    "    data = [row for row in reader]\n",
    "    \n",
    "with open(out_path, 'wt', newline='', encoding='utf-8') as out_file:\n",
    "    writer = csv.DictWriter(out_file, ['NAME', 'SHORTDESC', 'FIPS'], extrasaction='ignore')\n",
    "    writer.writeheader()\n",
    "    writer.writerows(data)"
   ]
  },
  {
   "cell_type": "markdown",
   "metadata": {
    "hidden": true
   },
   "source": [
    "## 2: Imports and scripts"
   ]
  },
  {
   "cell_type": "code",
   "execution_count": null,
   "metadata": {
    "hidden": true
   },
   "outputs": [],
   "source": [
    "import csv_exercise\n",
    "csv_exercise.main()"
   ]
  },
  {
   "cell_type": "markdown",
   "metadata": {
    "heading_collapsed": true
   },
   "source": [
    "# ArcPy\n",
    "\n"
   ]
  },
  {
   "cell_type": "code",
   "execution_count": null,
   "metadata": {
    "hidden": true
   },
   "outputs": [],
   "source": [
    "import arcpy\n",
    "\n",
    "working_dir = Path(r'c:\\temp\\ugic\\arcpy')\n",
    "gdbs = list(working_dir.glob('*.gdb'))\n",
    "\n",
    "out_gdb = working_dir / 'out.gdb'\n",
    "\n",
    "print(f'Creating {out_gdb}...')\n",
    "arcpy.management.CreateFileGDB(str(working_dir), 'out.gdb')\n",
    "\n",
    "utm_spatial_reference = arcpy.SpatialReference(26912)\n",
    "\n",
    "for gdb in gdbs:\n",
    "    arcpy.env.workspace = str(gdb)\n",
    "    feature_classes = arcpy.ListFeatureClasses()\n",
    "    for feature_class in feature_classes:\n",
    "        in_path = gdb / feature_class\n",
    "        out_path = out_gdb / feature_class\n",
    "        print(f'Projecting {in_path} to {out_path}...')\n",
    "        arcpy.management.Project(str(in_path), str(out_path), utm_spatial_reference)"
   ]
  }
 ],
 "metadata": {
  "kernelspec": {
   "display_name": "Python 3",
   "language": "python",
   "name": "python3"
  },
  "language_info": {
   "codemirror_mode": {
    "name": "ipython",
    "version": 3
   },
   "file_extension": ".py",
   "mimetype": "text/x-python",
   "name": "python",
   "nbconvert_exporter": "python",
   "pygments_lexer": "ipython3",
   "version": "3.7.10"
  }
 },
 "nbformat": 4,
 "nbformat_minor": 4
}
