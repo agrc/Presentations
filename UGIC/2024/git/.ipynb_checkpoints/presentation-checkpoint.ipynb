{
 "cells": [
  {
   "cell_type": "markdown",
   "id": "8e9457c6",
   "metadata": {
    "slideshow": {
     "slide_type": "slide"
    }
   },
   "source": [
    "# Commitment Issues:\n",
    "\n",
    "## Understanding git for better version control and collaboration\n",
    "\n",
    "![git logo](images/logo@2x.png)\n",
    "\n",
    "### Jacob Adams, UGRC\n",
    "### UGIC 2024"
   ]
  },
  {
   "cell_type": "markdown",
   "id": "b6853f6f",
   "metadata": {
    "slideshow": {
     "slide_type": "slide"
    }
   },
   "source": [
    "# git: Not Just an Unpleasant Person"
   ]
  },
  {
   "cell_type": "markdown",
   "id": "fd80e08a",
   "metadata": {
    "slideshow": {
     "slide_type": "slide"
    }
   },
   "source": [
    "## Ever wish baking had an undo button?\n",
    "\n",
    "![someone baking](images/baking.jpg)\n",
    "Photo by Vaibhav Jadhav: https://www.pexels.com/photo/man-preparing-dough-for-bread-3218467/"
   ]
  },
  {
   "cell_type": "markdown",
   "id": "40d6dbfd",
   "metadata": {
    "slideshow": {
     "slide_type": "slide"
    }
   },
   "source": [
    "## All the benefits\n",
    "\n",
    "### Undo just about everything\n",
    "### Always have a known-good copy\n",
    "### Try new things without fear\n",
    "### Enable complex collaborations\n",
    "### Share your code easily"
   ]
  },
  {
   "cell_type": "markdown",
   "id": "55d197d3",
   "metadata": {
    "slideshow": {
     "slide_type": "slide"
    }
   },
   "source": [
    "![don't panic](images/dontpanic.png)"
   ]
  },
  {
   "cell_type": "markdown",
   "id": "7c9b4b56",
   "metadata": {
    "slideshow": {
     "slide_type": "slide"
    }
   },
   "source": [
    "![xkcd](images/git.png)\n",
    "https://xkcd.com/1597/"
   ]
  },
  {
   "cell_type": "markdown",
   "id": "56f43a74",
   "metadata": {
    "slideshow": {
     "slide_type": "notes"
    }
   },
   "source": [
    "- almost everything is undoable\n",
    "- it may take some learning, but you can almost always get back to a known-good state\n"
   ]
  },
  {
   "cell_type": "markdown",
   "id": "9ff4bacd",
   "metadata": {
    "slideshow": {
     "slide_type": "slide"
    }
   },
   "source": [
    "# Laying the Foundation\n",
    "![foundation](images/foundation.jpg)"
   ]
  },
  {
   "cell_type": "markdown",
   "id": "df227572",
   "metadata": {
    "slideshow": {
     "slide_type": "slide"
    }
   },
   "source": [
    "## Basic Units of git"
   ]
  },
  {
   "cell_type": "markdown",
   "id": "f2e766a2",
   "metadata": {
    "slideshow": {
     "slide_type": "slide"
    }
   },
   "source": [
    "### Blobs and trees: Storing files and directories\n",
    "\n",
    "![blobs and trees](images/blobs-and-trees.png)"
   ]
  },
  {
   "cell_type": "markdown",
   "id": "a29ec95b",
   "metadata": {
    "slideshow": {
     "slide_type": "slide"
    }
   },
   "source": [
    "### Commit: A snapshot in time\n",
    "![snapshots](images/snapshots.png)"
   ]
  },
  {
   "cell_type": "markdown",
   "id": "fb6538dd",
   "metadata": {
    "slideshow": {
     "slide_type": "slide"
    }
   },
   "source": [
    "![commits-and-parents](images/commits-and-parents.png)"
   ]
  },
  {
   "cell_type": "markdown",
   "id": "d62294b5",
   "metadata": {
    "slideshow": {
     "slide_type": "slide"
    }
   },
   "source": [
    "### Branches: A named lineage of commits\n",
    "![branches](images/branch-and-history.png)"
   ]
  },
  {
   "cell_type": "markdown",
   "id": "758e4232",
   "metadata": {
    "slideshow": {
     "slide_type": "slide"
    }
   },
   "source": [
    "### Repository: A collection of all the branches and commits\n",
    "![branches](images/advance-master.png)"
   ]
  },
  {
   "cell_type": "markdown",
   "id": "3e85fc07",
   "metadata": {
    "slideshow": {
     "slide_type": "slide"
    }
   },
   "source": [
    "### git is distributed\n",
    "![distributed](images/distributed.png)"
   ]
  },
  {
   "cell_type": "markdown",
   "id": "c75f2d07",
   "metadata": {
    "slideshow": {
     "slide_type": "slide"
    }
   },
   "source": [
    "## Hashes and Immutability"
   ]
  },
  {
   "cell_type": "markdown",
   "id": "461c44a7",
   "metadata": {
    "slideshow": {
     "slide_type": "slide"
    }
   },
   "source": [
    "### Every commit has a SHA-1 hash\n",
    "![git log](images/git-log-oneline.png)"
   ]
  },
  {
   "cell_type": "markdown",
   "id": "cd86c7bf",
   "metadata": {
    "slideshow": {
     "slide_type": "slide"
    }
   },
   "source": [
    "### What goes into the hash?\n",
    "\n",
    "- The data itself\n",
    "- Author & committer info\n",
    "- Timestamp\n",
    "- The parent commit"
   ]
  },
  {
   "cell_type": "markdown",
   "id": "877be6ad",
   "metadata": {
    "slideshow": {
     "slide_type": "slide"
    }
   },
   "source": [
    "### Commits are almost never deleted, just \"hidden\"\n",
    "![palletjack history](images/palletjack-history.png)"
   ]
  },
  {
   "cell_type": "markdown",
   "id": "b3a9e34d",
   "metadata": {
    "slideshow": {
     "slide_type": "slide"
    }
   },
   "source": [
    "### Key takeaway: commits are never modified\n",
    "\n",
    "### ☝️☝️☝️\n",
    "\n",
    "### You may make a new commit that contains the same blob but the timestamp will be different"
   ]
  },
  {
   "cell_type": "markdown",
   "id": "5de84704",
   "metadata": {
    "slideshow": {
     "slide_type": "slide"
    }
   },
   "source": [
    "## The Four Storage Areas\n",
    "\n",
    "![repo view](images/reset/reset-start.png)"
   ]
  },
  {
   "cell_type": "markdown",
   "id": "184dc89b",
   "metadata": {
    "slideshow": {
     "slide_type": "slide"
    }
   },
   "source": [
    "- **Repository**: All the blobs, trees, and commits as binary files in the `.git` folder\n",
    "- **Staging Area/Index**: Your proposed next commit\n",
    "- **Working Directory/Tree**: The current commit \"de-blobbed\" as a normal folder and files\n",
    "- **HEAD**: The currently checked out branch\n",
    "\n",
    "![three areas](images/areas.png)\n",
    "\n"
   ]
  },
  {
   "cell_type": "markdown",
   "id": "7f6e65ab",
   "metadata": {
    "slideshow": {
     "slide_type": "slide"
    }
   },
   "source": [
    "### The same file can exist in all three areas with different content\n",
    "\n",
    "- **Repository**: All your previous work on the file\n",
    "- **Index**: Changes you've made and staged for a future commit\n",
    "- **Working Tree**: Current edits that aren't finalized"
   ]
  },
  {
   "cell_type": "markdown",
   "id": "26542684",
   "metadata": {
    "slideshow": {
     "slide_type": "slide"
    }
   },
   "source": [
    "# Basic git Operations\n",
    "\n",
    "## Comitting edits\n",
    "\n",
    "## Branching\n",
    "\n",
    "## Merging\n",
    "\n",
    "## Merge conflicts\n"
   ]
  },
  {
   "cell_type": "markdown",
   "id": "3fdfedac",
   "metadata": {
    "slideshow": {
     "slide_type": "slide"
    }
   },
   "source": [
    "## Life of a file\n",
    "\n",
    "![lifecycle](images/lifecycle.png)"
   ]
  },
  {
   "cell_type": "markdown",
   "id": "12dd517b",
   "metadata": {
    "slideshow": {
     "slide_type": "slide"
    }
   },
   "source": [
    "## Committing a file: The bedrock operation"
   ]
  },
  {
   "cell_type": "markdown",
   "id": "840a0d63",
   "metadata": {
    "slideshow": {
     "slide_type": "slide"
    }
   },
   "source": [
    "### Starting point: previous work was committed\n",
    "\n",
    "![start](images/reset/reset-ex3.png)"
   ]
  },
  {
   "cell_type": "markdown",
   "id": "4b593f57",
   "metadata": {
    "slideshow": {
     "slide_type": "slide"
    }
   },
   "source": [
    "### Make some edits\n",
    "\n",
    "![edits](images/reset/reset-ex4.png)"
   ]
  },
  {
   "cell_type": "markdown",
   "id": "8fff0939",
   "metadata": {
    "slideshow": {
     "slide_type": "slide"
    }
   },
   "source": [
    "### Stage your edits\n",
    "\n",
    "![stage](images/reset/reset-ex5.png)"
   ]
  },
  {
   "cell_type": "markdown",
   "id": "23dfaf2f",
   "metadata": {
    "slideshow": {
     "slide_type": "slide"
    }
   },
   "source": [
    "### Commit your edits\n",
    "\n",
    "![commit](images/reset/reset-ex6.png)\n"
   ]
  },
  {
   "cell_type": "markdown",
   "id": "ad8681cc",
   "metadata": {
    "slideshow": {
     "slide_type": "slide"
    }
   },
   "source": [
    "## Branching\n",
    "\n",
    "### Experiment to your hearts content\n",
    "\n",
    "### Branches are cheap- don't be nervous about using them\n",
    "\n",
    "![silos](images/lr-branches-2.png)"
   ]
  },
  {
   "cell_type": "markdown",
   "id": "6adade1e",
   "metadata": {
    "slideshow": {
     "slide_type": "slide"
    }
   },
   "source": [
    "![advance master](images/advance-master.png)"
   ]
  },
  {
   "cell_type": "markdown",
   "id": "037530e9",
   "metadata": {
    "slideshow": {
     "slide_type": "slide"
    }
   },
   "source": [
    "## Checkout: Switch between branches\n",
    "\n",
    "### Replaces content in working tree, index, and Head with the last commit in the checked-out branch"
   ]
  },
  {
   "cell_type": "markdown",
   "id": "8f1d4aaa",
   "metadata": {
    "slideshow": {
     "slide_type": "slide"
    }
   },
   "source": [
    "## Merging: Bringing it all back together\n",
    "\n"
   ]
  },
  {
   "cell_type": "markdown",
   "id": "7b825956",
   "metadata": {
    "slideshow": {
     "slide_type": "slide"
    }
   },
   "source": [
    "### Fast Forward: Simply move master forward\n",
    "\n",
    "![fast forward](images/basic-branching-4.png)"
   ]
  },
  {
   "cell_type": "markdown",
   "id": "48d70a9c",
   "metadata": {
    "slideshow": {
     "slide_type": "slide"
    }
   },
   "source": [
    "### Fast Forward: Simply move master forward\n",
    "\n",
    "![fast forward 2](images/basic-branching-5.png)"
   ]
  },
  {
   "cell_type": "markdown",
   "id": "d1c80647",
   "metadata": {
    "slideshow": {
     "slide_type": "slide"
    }
   },
   "source": [
    "### Merge Commit: One commit, two ancestors\n",
    "\n",
    "![merge commit](images/basic-merging-1.png)"
   ]
  },
  {
   "cell_type": "markdown",
   "id": "96cd7118",
   "metadata": {
    "slideshow": {
     "slide_type": "slide"
    }
   },
   "source": [
    "### Merge Commit: One commit, two ancestors\n",
    "\n",
    "![merge commit](images/basic-merging-2.png)"
   ]
  },
  {
   "cell_type": "markdown",
   "id": "e3e551a8",
   "metadata": {
    "slideshow": {
     "slide_type": "slide"
    }
   },
   "source": [
    "## Conflict is inevitable\n",
    "\n",
    "### Merge conflict markers\n",
    "\n",
    "### Edit, save, commit, continue"
   ]
  },
  {
   "cell_type": "markdown",
   "id": "c14f90cf",
   "metadata": {
    "slideshow": {
     "slide_type": "slide"
    }
   },
   "source": [
    "# GitHub: A cloud git server with collaboration tools\n",
    "\n",
    "![github](images/github.png)"
   ]
  },
  {
   "cell_type": "markdown",
   "id": "c3f597b5",
   "metadata": {
    "slideshow": {
     "slide_type": "slide"
    }
   },
   "source": [
    "## Git is distributed: Remotes\n",
    "\n",
    "![origin](images/origin.png)"
   ]
  },
  {
   "cell_type": "markdown",
   "id": "204559c7",
   "metadata": {},
   "source": [
    "### Syncing work with fetch, pull, and push\n",
    "\n",
    "- **fetch**: Download all the commits from the remote that are not in your local repo\n",
    "- **pull**: Do a fetch and then merge your branch into the latest new commit (usually just a fast-forward)\n",
    "- **push**: Send your commits to the remote\n",
    "\n",
    "### Always do a fetch or pull before starting to work locally!"
   ]
  },
  {
   "cell_type": "markdown",
   "id": "5ab38624",
   "metadata": {
    "slideshow": {
     "slide_type": "slide"
    }
   },
   "source": [
    "## GitHub development model\n",
    "\n",
    "1. Create repo on GitHub\n",
    "2. Clone it to your local machine\n",
    "3. Create a local branch and commit to that\n",
    "4. Push your branch to GitHub\n",
    "5. Create Pull Request\n",
    "6. Rebase and merge into GitHub main branch, delete GitHub branch\n",
    "7. Pull GitHub main into local main\n",
    "8. Delete local branch"
   ]
  },
  {
   "cell_type": "markdown",
   "id": "9761883b",
   "metadata": {
    "slideshow": {
     "slide_type": "slide"
    }
   },
   "source": [
    "## Pull requests"
   ]
  },
  {
   "cell_type": "markdown",
   "id": "01611263",
   "metadata": {
    "slideshow": {
     "slide_type": "slide"
    }
   },
   "source": [
    "## Issue tracking"
   ]
  },
  {
   "cell_type": "markdown",
   "id": "f7bb9934",
   "metadata": {
    "slideshow": {
     "slide_type": "slide"
    }
   },
   "source": [
    "## Stick a fork in it"
   ]
  },
  {
   "cell_type": "markdown",
   "id": "b33841d5",
   "metadata": {
    "slideshow": {
     "slide_type": "slide"
    }
   },
   "source": [
    "# Advanced git: Rebase, Reset, and Recover"
   ]
  },
  {
   "cell_type": "markdown",
   "id": "049c75b7",
   "metadata": {
    "slideshow": {
     "slide_type": "slide"
    }
   },
   "source": [
    "## Rebase: Rewriting history"
   ]
  },
  {
   "cell_type": "markdown",
   "id": "65283a0c",
   "metadata": {
    "slideshow": {
     "slide_type": "slide"
    }
   },
   "source": [
    "![work on branch](images/basic-rebase-1.png)"
   ]
  },
  {
   "cell_type": "markdown",
   "id": "f3bd3150",
   "metadata": {
    "slideshow": {
     "slide_type": "slide"
    }
   },
   "source": [
    "![rebase branch on main](images/basic-rebase-3.png)"
   ]
  },
  {
   "cell_type": "markdown",
   "id": "fa180583",
   "metadata": {
    "slideshow": {
     "slide_type": "slide"
    }
   },
   "source": [
    "## Rebase and merge: \"Clean\" merges"
   ]
  },
  {
   "cell_type": "markdown",
   "id": "49617825",
   "metadata": {
    "slideshow": {
     "slide_type": "slide"
    }
   },
   "source": [
    "![fast forward merge](images/basic-rebase-4.png)"
   ]
  },
  {
   "cell_type": "markdown",
   "id": "f738cb52",
   "metadata": {
    "slideshow": {
     "slide_type": "slide"
    }
   },
   "source": [
    "## Cherry pick: Just one, please"
   ]
  },
  {
   "cell_type": "markdown",
   "id": "80f4327c",
   "metadata": {
    "slideshow": {
     "slide_type": "slide"
    }
   },
   "source": [
    "![branching history](images/cherry-pick1.png)"
   ]
  },
  {
   "cell_type": "markdown",
   "id": "826f491c",
   "metadata": {
    "slideshow": {
     "slide_type": "slide"
    }
   },
   "source": [
    "![cherry pick](images/cherry-pick2.png)"
   ]
  },
  {
   "cell_type": "markdown",
   "id": "8b25de7e",
   "metadata": {
    "slideshow": {
     "slide_type": "slide"
    }
   },
   "source": [
    "## Reset: The ultimate ctrl-z"
   ]
  },
  {
   "cell_type": "markdown",
   "id": "fa0850e5",
   "metadata": {
    "slideshow": {
     "slide_type": "slide"
    }
   },
   "source": [
    "### Soft: Move HEAD back, leave changes staged\n",
    "\n",
    "![soft reset](images/reset/reset-soft.png)"
   ]
  },
  {
   "cell_type": "markdown",
   "id": "3191ef20",
   "metadata": {
    "slideshow": {
     "slide_type": "slide"
    }
   },
   "source": [
    "### Mixed (defualt): Move HEAD, unstage changes\n",
    "\n",
    "![mixed reset](images/reset/reset-mixed.png)"
   ]
  },
  {
   "cell_type": "markdown",
   "id": "66ccb5b0",
   "metadata": {
    "slideshow": {
     "slide_type": "slide"
    }
   },
   "source": [
    "### Hard: Blow everything away\n",
    "\n",
    "![hard reset](images/reset/reset-hard.png)"
   ]
  },
  {
   "cell_type": "markdown",
   "id": "f8773a04",
   "metadata": {
    "slideshow": {
     "slide_type": "slide"
    }
   },
   "source": [
    "### Which reset should I use?\n",
    "\n",
    "#### I want to completely abandon my current line of work and pretend it never happened\n",
    "  - hard\n",
    "  - (or really just checkout a new branch at the last point you want to continue from)\n",
    "  \n",
    "#### I don't have any work in progress or anything I want to keep, I just want to point my branch at a different commit\n",
    "  - hard\n",
    "  \n",
    "#### I did a commit but I want to go back and change something about my edits without adding an extra commit in the repo tree\n",
    "  - mixed\n",
    "  \n",
    "#### I did a commit but I want to go back and make and stage more edits in addition to my original edits or change the commit message\n",
    "  - soft\n",
    "  - also `git commit --amend` for just the last commit"
   ]
  },
  {
   "cell_type": "markdown",
   "id": "39128366",
   "metadata": {
    "slideshow": {
     "slide_type": "slide"
    }
   },
   "source": [
    "## Recovery: Commits are loyal friends, always there when you need them\n",
    "\n",
    "`git reflog`\n",
    "\n",
    "git-graph: include commits mentioned by reflog"
   ]
  },
  {
   "cell_type": "markdown",
   "id": "b3d6c3da",
   "metadata": {
    "slideshow": {
     "slide_type": "slide"
    }
   },
   "source": [
    "# Help! I committed a password!\n",
    "\n",
    "Check out [git-filter-repo](https://github.com/newren/git-filter-repo)"
   ]
  },
  {
   "cell_type": "markdown",
   "id": "718a8ddd",
   "metadata": {
    "slideshow": {
     "slide_type": "slide"
    }
   },
   "source": [
    "# Resources\n",
    "\n",
    "[The git docs](https://git-scm.com/docs)\n",
    "\n",
    "[The git book](https://git-scm.com/books)\n",
    "\n",
    "Stack Exchange\n",
    "\n",
    "YouTube\n",
    "\n",
    "Pluralsight"
   ]
  }
 ],
 "metadata": {
  "celltoolbar": "Slideshow",
  "kernelspec": {
   "display_name": "Python 3 (ipykernel)",
   "language": "python",
   "name": "python3"
  },
  "language_info": {
   "codemirror_mode": {
    "name": "ipython",
    "version": 3
   },
   "file_extension": ".py",
   "mimetype": "text/x-python",
   "name": "python",
   "nbconvert_exporter": "python",
   "pygments_lexer": "ipython3",
   "version": "3.9.18"
  }
 },
 "nbformat": 4,
 "nbformat_minor": 5
}
