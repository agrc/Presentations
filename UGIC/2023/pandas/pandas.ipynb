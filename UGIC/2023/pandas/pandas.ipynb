{
 "cells": [
  {
   "cell_type": "code",
   "execution_count": 1,
   "id": "894cdc57",
   "metadata": {},
   "outputs": [],
   "source": [
    "import numpy as np\n",
    "import pandas as pd\n",
    "from arcgis import GeoAccessor, GeoSeriesAccessor"
   ]
  },
  {
   "cell_type": "markdown",
   "id": "321107bf",
   "metadata": {
    "heading_collapsed": true
   },
   "source": [
    "# Why Use pandas?"
   ]
  },
  {
   "cell_type": "markdown",
   "id": "62456191",
   "metadata": {
    "hidden": true
   },
   "source": [
    "## Easy to Reference Data\n",
    "\n",
    "pandas uses a series of **labels** for both rows and columns so that we can refer to spefic values in a table, like a spreadsheet's row number and column name, or a feature class' ObjectID and field name. These labels are a fundamental part of pandas.\n",
    "\n",
    "No more trying to remember what the \"`i`th element of the `j`th row\" refers to (and heaven help you if you're in a nested cursor)."
   ]
  },
  {
   "cell_type": "markdown",
   "id": "fe0b9ab9",
   "metadata": {
    "hidden": true
   },
   "source": [
    "## Less Overhead for Data Managment than arcpy\n",
    "Calling geoprocessing tools in arcpy requires setting up input and output layers, either on disk or in memory. The code is constantly jumping back and forth from python to the underlying geoprocessing libraries.\n",
    "\n",
    "pandas data structures are native python structures kept in memory and are easily modified. No more creating a new feature layer just to change field names. \n",
    "\n",
    "In addition, most non-spatial table operations are highly optimzied to run against a collection of data at the same time rather than operating element-by-element.  "
   ]
  },
  {
   "cell_type": "markdown",
   "id": "bb539fd4",
   "metadata": {
    "hidden": true
   },
   "source": [
    "## Potentially More Readable Code\n",
    "As a consequence of not having to deal with feature layer management and verbose geoprocessing tool calls, pandas code can be much shorter and more concise. Once you're familiar with pandas syntax and programming patterns, you can create brief, expressive statements that perform several operations all in one go. \n",
    "\n",
    "And again, no more nested cursors. Seriously. "
   ]
  },
  {
   "cell_type": "markdown",
   "id": "aea4f6a7",
   "metadata": {
    "hidden": true
   },
   "source": [
    "## Easy Interoperabilty with Other Data Sources and Processing Libraries\n",
    "As one of (if not the) main go-to python libraries for data science, the pandas ecosystem is vast. \n",
    "\n",
    "You can easily pull in data from spreadsheets, databases, web-based sources like (well-formatted) json and xml, and cloud-based tables like Google BigQuery. \n",
    "\n",
    "Once you've got your data, there's a vast body of tutorials, examples, and production code to build off of (or just shamelessly steal). Other libraries have been written to extend pandas or accept data from pandas data structures, like geopandas and the ArcGIS API for Python's spatially-enabled dataframes."
   ]
  },
  {
   "cell_type": "markdown",
   "id": "10237128",
   "metadata": {
    "heading_collapsed": true
   },
   "source": [
    "# Laying Our Foundation\n",
    "\n",
    "![foudnation](assets/foundation.jpg)"
   ]
  },
  {
   "cell_type": "markdown",
   "id": "e943d155",
   "metadata": {
    "hidden": true
   },
   "source": [
    "## Scalars and Vectors"
   ]
  },
  {
   "cell_type": "markdown",
   "id": "90aa215f",
   "metadata": {
    "hidden": true
   },
   "source": [
    "A **scalar** is just a single value.\n",
    "\n",
    "![single](assets/single.jpg)"
   ]
  },
  {
   "cell_type": "code",
   "execution_count": 2,
   "id": "4b97410d",
   "metadata": {
    "hidden": true
   },
   "outputs": [],
   "source": [
    "#: Most python variables can be considered scalars\n",
    "foo = 5\n",
    "bar = 'Midway'\n",
    "baz = True"
   ]
  },
  {
   "cell_type": "markdown",
   "id": "0e2595f3",
   "metadata": {
    "hidden": true
   },
   "source": [
    "A **vector** is a collection of scalars or other vectors"
   ]
  },
  {
   "cell_type": "markdown",
   "id": "c3ded174",
   "metadata": {
    "hidden": true
   },
   "source": [
    "![GIS Vector](assets/vector_gis.jpg)\n",
    "\n",
    "No, not that."
   ]
  },
  {
   "cell_type": "markdown",
   "id": "d8312f73",
   "metadata": {
    "hidden": true
   },
   "source": [
    "![Vector](assets/vector_despicableme.jpg)\n",
    "\n",
    "Or that."
   ]
  },
  {
   "cell_type": "code",
   "execution_count": 3,
   "id": "6c7dcb92",
   "metadata": {
    "hidden": true
   },
   "outputs": [
    {
     "data": {
      "text/plain": [
       "[[1, 2, 3], ('foo', 'bar', 'baz'), [5, 1.7, 'zen']]"
      ]
     },
     "execution_count": 3,
     "metadata": {},
     "output_type": "execute_result"
    }
   ],
   "source": [
    "#: python lists and tuples\n",
    "spam = [1, 2, 3]\n",
    "eggs = ('foo', 'bar', 'baz')\n",
    "ham = [foo, 1.7, 'zen']\n",
    "[spam, eggs, ham] #: a 2-dimensional vector"
   ]
  },
  {
   "cell_type": "markdown",
   "id": "6e8a8765",
   "metadata": {
    "hidden": true
   },
   "source": [
    "## Series and DataFrames: pandas' Fundamental Data Structures"
   ]
  },
  {
   "cell_type": "markdown",
   "id": "7e21e8e0",
   "metadata": {
    "hidden": true
   },
   "source": [
    "A **series** is a collection of scalars. Normally it should have the same data type, but it can be mixed."
   ]
  },
  {
   "cell_type": "code",
   "execution_count": 4,
   "id": "89adab57",
   "metadata": {
    "hidden": true
   },
   "outputs": [
    {
     "data": {
      "text/plain": [
       "0    a\n",
       "1    b\n",
       "2    c\n",
       "dtype: object"
      ]
     },
     "execution_count": 4,
     "metadata": {},
     "output_type": "execute_result"
    }
   ],
   "source": [
    "#: Build a series from a python list\n",
    "pd.Series(['a', 'b', 'c'])"
   ]
  },
  {
   "cell_type": "code",
   "execution_count": 5,
   "id": "c8ae3555",
   "metadata": {
    "hidden": true,
    "scrolled": true
   },
   "outputs": [
    {
     "data": {
      "text/plain": [
       "foo    1\n",
       "bar    2\n",
       "baz    3\n",
       "dtype: int64"
      ]
     },
     "execution_count": 5,
     "metadata": {},
     "output_type": "execute_result"
    }
   ],
   "source": [
    "#: Series have an index, which allows you to reference individual elements with arbitrary labels\n",
    "pd.Series([1, 2, 3], index=['foo', 'bar', 'baz'])"
   ]
  },
  {
   "cell_type": "markdown",
   "id": "5dc777e7",
   "metadata": {
    "hidden": true
   },
   "source": [
    "A **dataframe** is a two-dimensional collection of vectors with labels for both rows and columns. Basically, a spreadsheet in code."
   ]
  },
  {
   "cell_type": "code",
   "execution_count": 6,
   "id": "48c8e07e",
   "metadata": {
    "hidden": true
   },
   "outputs": [
    {
     "data": {
      "text/html": [
       "<div>\n",
       "<style scoped>\n",
       "    .dataframe tbody tr th:only-of-type {\n",
       "        vertical-align: middle;\n",
       "    }\n",
       "\n",
       "    .dataframe tbody tr th {\n",
       "        vertical-align: top;\n",
       "    }\n",
       "\n",
       "    .dataframe thead th {\n",
       "        text-align: right;\n",
       "    }\n",
       "</style>\n",
       "<table border=\"1\" class=\"dataframe\">\n",
       "  <thead>\n",
       "    <tr style=\"text-align: right;\">\n",
       "      <th></th>\n",
       "      <th>foo</th>\n",
       "      <th>bar</th>\n",
       "      <th>baz</th>\n",
       "    </tr>\n",
       "  </thead>\n",
       "  <tbody>\n",
       "    <tr>\n",
       "      <th>0</th>\n",
       "      <td>1</td>\n",
       "      <td>a</td>\n",
       "      <td>True</td>\n",
       "    </tr>\n",
       "    <tr>\n",
       "      <th>1</th>\n",
       "      <td>2</td>\n",
       "      <td>b</td>\n",
       "      <td>1.7</td>\n",
       "    </tr>\n",
       "    <tr>\n",
       "      <th>2</th>\n",
       "      <td>3</td>\n",
       "      <td>c</td>\n",
       "      <td>zen</td>\n",
       "    </tr>\n",
       "  </tbody>\n",
       "</table>\n",
       "</div>"
      ],
      "text/plain": [
       "   foo bar   baz\n",
       "0    1   a  True\n",
       "1    2   b   1.7\n",
       "2    3   c   zen"
      ]
     },
     "execution_count": 6,
     "metadata": {},
     "output_type": "execute_result"
    }
   ],
   "source": [
    "#: Build a dataframe from a dictionary, where each key is a column name and each value is a list of values for that column\n",
    "pd.DataFrame({\n",
    "    'foo': [1, 2, 3],\n",
    "    'bar': ['a', 'b', 'c'],\n",
    "    'baz': [True, 1.7, 'zen']\n",
    "})"
   ]
  },
  {
   "cell_type": "markdown",
   "id": "c777908c",
   "metadata": {
    "hidden": true
   },
   "source": [
    "Under the hood, a dataframe is stored in memory as a collection of vectors (`numpy` arrays), one for each column. Thus, a lot of pandas operations occur on a column-by-column basis, like adding two columns together and storing the result in a third:"
   ]
  },
  {
   "cell_type": "code",
   "execution_count": 7,
   "id": "5891a4be",
   "metadata": {
    "hidden": true
   },
   "outputs": [
    {
     "data": {
      "text/html": [
       "<div>\n",
       "<style scoped>\n",
       "    .dataframe tbody tr th:only-of-type {\n",
       "        vertical-align: middle;\n",
       "    }\n",
       "\n",
       "    .dataframe tbody tr th {\n",
       "        vertical-align: top;\n",
       "    }\n",
       "\n",
       "    .dataframe thead th {\n",
       "        text-align: right;\n",
       "    }\n",
       "</style>\n",
       "<table border=\"1\" class=\"dataframe\">\n",
       "  <thead>\n",
       "    <tr style=\"text-align: right;\">\n",
       "      <th></th>\n",
       "      <th>a</th>\n",
       "      <th>b</th>\n",
       "      <th>c</th>\n",
       "    </tr>\n",
       "  </thead>\n",
       "  <tbody>\n",
       "    <tr>\n",
       "      <th>0</th>\n",
       "      <td>1</td>\n",
       "      <td>4</td>\n",
       "      <td>5</td>\n",
       "    </tr>\n",
       "    <tr>\n",
       "      <th>1</th>\n",
       "      <td>2</td>\n",
       "      <td>5</td>\n",
       "      <td>7</td>\n",
       "    </tr>\n",
       "    <tr>\n",
       "      <th>2</th>\n",
       "      <td>3</td>\n",
       "      <td>6</td>\n",
       "      <td>9</td>\n",
       "    </tr>\n",
       "  </tbody>\n",
       "</table>\n",
       "</div>"
      ],
      "text/plain": [
       "   a  b  c\n",
       "0  1  4  5\n",
       "1  2  5  7\n",
       "2  3  6  9"
      ]
     },
     "execution_count": 7,
     "metadata": {},
     "output_type": "execute_result"
    }
   ],
   "source": [
    "df = pd.DataFrame({\n",
    "    'a': [1, 2, 3],\n",
    "    'b': [4, 5, 6]\n",
    "})\n",
    "df['c'] = df['a'] + df['b']\n",
    "df"
   ]
  },
  {
   "cell_type": "markdown",
   "id": "47dd25e8",
   "metadata": {
    "hidden": true
   },
   "source": [
    "## Vectorized Operations"
   ]
  },
  {
   "cell_type": "markdown",
   "id": "a4aea44f",
   "metadata": {
    "hidden": true
   },
   "source": [
    "The key to understanding pandas operations is to think in terms of **operations that are applied to every element in a vector**, rather than extracting each element and passing it to the operation one by one. "
   ]
  },
  {
   "cell_type": "code",
   "execution_count": 8,
   "id": "10561192",
   "metadata": {
    "hidden": true
   },
   "outputs": [
    {
     "name": "stdout",
     "output_type": "stream",
     "text": [
      "1.0\n",
      "1.4142135623730951\n",
      "1.7320508075688772\n"
     ]
    }
   ],
   "source": [
    "#: Standard python: we're responsible for looping through a vector and calling a function on each element:\n",
    "for element in [1, 2, 3]:\n",
    "    print(np.sqrt(element))"
   ]
  },
  {
   "cell_type": "markdown",
   "id": "e873dfad",
   "metadata": {
    "hidden": true
   },
   "source": [
    "![for loop](assets/for_loop.png)"
   ]
  },
  {
   "cell_type": "code",
   "execution_count": 9,
   "id": "75d48553",
   "metadata": {
    "hidden": true
   },
   "outputs": [
    {
     "data": {
      "text/plain": [
       "array([1.        , 1.41421356, 1.73205081])"
      ]
     },
     "execution_count": 9,
     "metadata": {},
     "output_type": "execute_result"
    }
   ],
   "source": [
    "#: Vectorized operation: pass a whole vector to a vectorized function:\n",
    "np.sqrt([1, 2, 3])"
   ]
  },
  {
   "cell_type": "code",
   "execution_count": 10,
   "id": "8ed5f13a",
   "metadata": {
    "hidden": true
   },
   "outputs": [
    {
     "data": {
      "text/plain": [
       "0    1.000000\n",
       "1    1.414214\n",
       "2    1.732051\n",
       "dtype: float64"
      ]
     },
     "execution_count": 10,
     "metadata": {},
     "output_type": "execute_result"
    }
   ],
   "source": [
    "#: pandas operation: a method on a series or dataframe\n",
    "pd.Series([1, 2, 3]).transform(np.sqrt)"
   ]
  },
  {
   "cell_type": "markdown",
   "id": "668015f3",
   "metadata": {
    "hidden": true
   },
   "source": [
    "![vectorized](assets/vectorized_sqrt.png)"
   ]
  },
  {
   "cell_type": "markdown",
   "id": "d592b37d",
   "metadata": {
    "hidden": true
   },
   "source": [
    "`for` loops in python are **computationally expensive** and require extra resources to set up the iteration. In addition, the function has to be called multiple times, requirin even more work behind the scenes for each call.\n",
    "\n",
    "In contrast, vectorized operations are **optimized to perform the same operation on multiple pieces of data**. In addition to avoiding the overhead from iteration and multiple function calls, the processor has special logic and routines for parallelizing many operations. However, to use these it needs to know the operation and the data type ahead of time, which it generally can't with python `for` loops."
   ]
  },
  {
   "cell_type": "markdown",
   "id": "539e23f2",
   "metadata": {
    "hidden": true
   },
   "source": [
    "## Think about sending a set of data to an operation, not operating on data one piece at a time.\n",
    "\n",
    "![take them all](assets/take_them_all.jpg)"
   ]
  },
  {
   "cell_type": "markdown",
   "id": "03e980b8",
   "metadata": {
    "heading_collapsed": true
   },
   "source": [
    "# Let's load a dataframe"
   ]
  },
  {
   "cell_type": "code",
   "execution_count": 11,
   "id": "21e5af0a",
   "metadata": {
    "hidden": true,
    "scrolled": false
   },
   "outputs": [
    {
     "data": {
      "text/html": [
       "<div>\n",
       "<style scoped>\n",
       "    .dataframe tbody tr th:only-of-type {\n",
       "        vertical-align: middle;\n",
       "    }\n",
       "\n",
       "    .dataframe tbody tr th {\n",
       "        vertical-align: top;\n",
       "    }\n",
       "\n",
       "    .dataframe thead th {\n",
       "        text-align: right;\n",
       "    }\n",
       "</style>\n",
       "<table border=\"1\" class=\"dataframe\">\n",
       "  <thead>\n",
       "    <tr style=\"text-align: right;\">\n",
       "      <th></th>\n",
       "      <th>OBJECTID</th>\n",
       "      <th>COUNTYNBR</th>\n",
       "      <th>ENTITYNBR</th>\n",
       "      <th>ENTITYYR</th>\n",
       "      <th>NAME</th>\n",
       "      <th>FIPS</th>\n",
       "      <th>STATEPLANE</th>\n",
       "      <th>POP_LASTCENSUS</th>\n",
       "      <th>POP_CURRESTIMATE</th>\n",
       "      <th>GlobalID</th>\n",
       "      <th>COLOR4</th>\n",
       "      <th>SHAPE</th>\n",
       "    </tr>\n",
       "    <tr>\n",
       "      <th>FIPS_STR</th>\n",
       "      <th></th>\n",
       "      <th></th>\n",
       "      <th></th>\n",
       "      <th></th>\n",
       "      <th></th>\n",
       "      <th></th>\n",
       "      <th></th>\n",
       "      <th></th>\n",
       "      <th></th>\n",
       "      <th></th>\n",
       "      <th></th>\n",
       "      <th></th>\n",
       "    </tr>\n",
       "  </thead>\n",
       "  <tbody>\n",
       "    <tr>\n",
       "      <th>49005</th>\n",
       "      <td>1</td>\n",
       "      <td>03</td>\n",
       "      <td>2.010031e+09</td>\n",
       "      <td>2010.0</td>\n",
       "      <td>CACHE</td>\n",
       "      <td>5.0</td>\n",
       "      <td>North</td>\n",
       "      <td>133154</td>\n",
       "      <td>140173</td>\n",
       "      <td>{AD3015BE-B3C9-4316-B8DC-03AFBB56B443}</td>\n",
       "      <td>2</td>\n",
       "      <td>{\"rings\": [[[-12485167.954, 5160638.807099998]...</td>\n",
       "    </tr>\n",
       "    <tr>\n",
       "      <th>49013</th>\n",
       "      <td>2</td>\n",
       "      <td>07</td>\n",
       "      <td>2.010071e+09</td>\n",
       "      <td>2010.0</td>\n",
       "      <td>DUCHESNE</td>\n",
       "      <td>13.0</td>\n",
       "      <td>Central</td>\n",
       "      <td>19596</td>\n",
       "      <td>20161</td>\n",
       "      <td>{7F6252B7-137F-4F7E-A19A-03C702111509}</td>\n",
       "      <td>4</td>\n",
       "      <td>{\"rings\": [[[-12273167.1888, 4987644.314599998...</td>\n",
       "    </tr>\n",
       "    <tr>\n",
       "      <th>49011</th>\n",
       "      <td>3</td>\n",
       "      <td>06</td>\n",
       "      <td>2.010061e+09</td>\n",
       "      <td>2010.0</td>\n",
       "      <td>DAVIS</td>\n",
       "      <td>11.0</td>\n",
       "      <td>North</td>\n",
       "      <td>362679</td>\n",
       "      <td>369948</td>\n",
       "      <td>{214E29A1-CC25-4867-9148-2817DB623088}</td>\n",
       "      <td>3</td>\n",
       "      <td>{\"rings\": [[[-12458980.0088, 5032817.971900001...</td>\n",
       "    </tr>\n",
       "    <tr>\n",
       "      <th>49027</th>\n",
       "      <td>4</td>\n",
       "      <td>14</td>\n",
       "      <td>2.010141e+09</td>\n",
       "      <td>2010.0</td>\n",
       "      <td>MILLARD</td>\n",
       "      <td>27.0</td>\n",
       "      <td>Central</td>\n",
       "      <td>12975</td>\n",
       "      <td>13330</td>\n",
       "      <td>{BC91C742-7508-4118-8469-297719E423CB}</td>\n",
       "      <td>3</td>\n",
       "      <td>{\"rings\": [[[-12494338.1205, 4801287.949100003...</td>\n",
       "    </tr>\n",
       "    <tr>\n",
       "      <th>49051</th>\n",
       "      <td>5</td>\n",
       "      <td>26</td>\n",
       "      <td>2.010261e+09</td>\n",
       "      <td>2010.0</td>\n",
       "      <td>WASATCH</td>\n",
       "      <td>51.0</td>\n",
       "      <td>Central</td>\n",
       "      <td>34788</td>\n",
       "      <td>36619</td>\n",
       "      <td>{3D0C5C1E-2650-458E-B322-2B86AA473441}</td>\n",
       "      <td>2</td>\n",
       "      <td>{\"rings\": [[[-12400515.3909, 4966751.283200003...</td>\n",
       "    </tr>\n",
       "  </tbody>\n",
       "</table>\n",
       "</div>"
      ],
      "text/plain": [
       "          OBJECTID COUNTYNBR     ENTITYNBR  ENTITYYR      NAME  FIPS  \\\n",
       "FIPS_STR                                                               \n",
       "49005            1        03  2.010031e+09    2010.0     CACHE   5.0   \n",
       "49013            2        07  2.010071e+09    2010.0  DUCHESNE  13.0   \n",
       "49011            3        06  2.010061e+09    2010.0     DAVIS  11.0   \n",
       "49027            4        14  2.010141e+09    2010.0   MILLARD  27.0   \n",
       "49051            5        26  2.010261e+09    2010.0   WASATCH  51.0   \n",
       "\n",
       "         STATEPLANE  POP_LASTCENSUS  POP_CURRESTIMATE  \\\n",
       "FIPS_STR                                                \n",
       "49005         North          133154            140173   \n",
       "49013       Central           19596             20161   \n",
       "49011         North          362679            369948   \n",
       "49027       Central           12975             13330   \n",
       "49051       Central           34788             36619   \n",
       "\n",
       "                                        GlobalID  COLOR4  \\\n",
       "FIPS_STR                                                   \n",
       "49005     {AD3015BE-B3C9-4316-B8DC-03AFBB56B443}       2   \n",
       "49013     {7F6252B7-137F-4F7E-A19A-03C702111509}       4   \n",
       "49011     {214E29A1-CC25-4867-9148-2817DB623088}       3   \n",
       "49027     {BC91C742-7508-4118-8469-297719E423CB}       3   \n",
       "49051     {3D0C5C1E-2650-458E-B322-2B86AA473441}       2   \n",
       "\n",
       "                                                      SHAPE  \n",
       "FIPS_STR                                                     \n",
       "49005     {\"rings\": [[[-12485167.954, 5160638.807099998]...  \n",
       "49013     {\"rings\": [[[-12273167.1888, 4987644.314599998...  \n",
       "49011     {\"rings\": [[[-12458980.0088, 5032817.971900001...  \n",
       "49027     {\"rings\": [[[-12494338.1205, 4801287.949100003...  \n",
       "49051     {\"rings\": [[[-12400515.3909, 4966751.283200003...  "
      ]
     },
     "execution_count": 11,
     "metadata": {},
     "output_type": "execute_result"
    }
   ],
   "source": [
    "counties_df = pd.DataFrame.spatial.from_featureclass(r'county_boundaries.gdb/Counties')\n",
    "counties_df.set_index('FIPS_STR', inplace=True)  #: Replace the default index with one of our columns\n",
    "counties_df.head()"
   ]
  },
  {
   "cell_type": "markdown",
   "id": "5c7f244a",
   "metadata": {
    "hidden": true
   },
   "source": [
    "A dataframe has rows and columns, and each of these has a collection of labels informally called an index. The row labels are considered the main DataFrame _index_, while the column labels are just called _columns_."
   ]
  },
  {
   "cell_type": "code",
   "execution_count": 12,
   "id": "39a50e5c",
   "metadata": {
    "hidden": true
   },
   "outputs": [
    {
     "data": {
      "text/plain": [
       "Index(['49005', '49013', '49011', '49027', '49051', '49003', '49057', '49023',\n",
       "       '49039', '49053', '49019', '49033', '49007', '49009', '49001', '49041',\n",
       "       '49017', '49045', '49043', '49031', '49047', '49021', '49015', '49055',\n",
       "       '49037', '49029', '49025', '49035', '49049'],\n",
       "      dtype='object', name='FIPS_STR')"
      ]
     },
     "execution_count": 12,
     "metadata": {},
     "output_type": "execute_result"
    }
   ],
   "source": [
    "counties_df.index"
   ]
  },
  {
   "cell_type": "code",
   "execution_count": 13,
   "id": "3010e079",
   "metadata": {
    "hidden": true
   },
   "outputs": [
    {
     "data": {
      "text/plain": [
       "Index(['OBJECTID', 'COUNTYNBR', 'ENTITYNBR', 'ENTITYYR', 'NAME', 'FIPS',\n",
       "       'STATEPLANE', 'POP_LASTCENSUS', 'POP_CURRESTIMATE', 'GlobalID',\n",
       "       'COLOR4', 'SHAPE'],\n",
       "      dtype='object')"
      ]
     },
     "execution_count": 13,
     "metadata": {},
     "output_type": "execute_result"
    }
   ],
   "source": [
    "counties_df.columns"
   ]
  },
  {
   "cell_type": "markdown",
   "id": "6d78a422",
   "metadata": {
    "hidden": true
   },
   "source": [
    "Each row and column in a dataframe can be extracted as an individual series."
   ]
  },
  {
   "cell_type": "code",
   "execution_count": 14,
   "id": "c06dbaf9",
   "metadata": {
    "hidden": true
   },
   "outputs": [
    {
     "data": {
      "text/plain": [
       "FIPS_STR\n",
       "49005       CACHE\n",
       "49013    DUCHESNE\n",
       "49011       DAVIS\n",
       "49027     MILLARD\n",
       "49051     WASATCH\n",
       "Name: NAME, dtype: object"
      ]
     },
     "execution_count": 14,
     "metadata": {},
     "output_type": "execute_result"
    }
   ],
   "source": [
    "#: Column- series name is column name, series index is the main dataframe index\n",
    "counties_df.loc[:, 'NAME'].head()"
   ]
  },
  {
   "cell_type": "code",
   "execution_count": 15,
   "id": "d7e3b833",
   "metadata": {
    "hidden": true
   },
   "outputs": [
    {
     "data": {
      "text/plain": [
       "OBJECTID                                                            1\n",
       "COUNTYNBR                                                          03\n",
       "ENTITYNBR                                                2010031010.0\n",
       "ENTITYYR                                                       2010.0\n",
       "NAME                                                            CACHE\n",
       "FIPS                                                              5.0\n",
       "STATEPLANE                                                      North\n",
       "POP_LASTCENSUS                                                 133154\n",
       "POP_CURRESTIMATE                                               140173\n",
       "GlobalID                       {AD3015BE-B3C9-4316-B8DC-03AFBB56B443}\n",
       "COLOR4                                                              2\n",
       "SHAPE               {'rings': [[[-12485167.954, 5160638.807099998]...\n",
       "Name: 49005, dtype: object"
      ]
     },
     "execution_count": 15,
     "metadata": {},
     "output_type": "execute_result"
    }
   ],
   "source": [
    "#: Row- series name is the row index label, series index is the column set \n",
    "counties_df.loc['49005', :]"
   ]
  },
  {
   "cell_type": "markdown",
   "id": "959fd26a",
   "metadata": {
    "heading_collapsed": true
   },
   "source": [
    "# Data Types"
   ]
  },
  {
   "cell_type": "markdown",
   "id": "dfa8ed6c",
   "metadata": {
    "hidden": true
   },
   "source": [
    "Every column has a data type, just like fields in a feature class.\n",
    "\n",
    "Most data types come from the `numpy` library (which, at least currently, provides a lot of the backend data structures for python)."
   ]
  },
  {
   "cell_type": "code",
   "execution_count": 16,
   "id": "a1674cf8",
   "metadata": {
    "hidden": true
   },
   "outputs": [
    {
     "name": "stdout",
     "output_type": "stream",
     "text": [
      "<class 'pandas.core.frame.DataFrame'>\n",
      "Index: 29 entries, 49005 to 49049\n",
      "Data columns (total 12 columns):\n",
      " #   Column            Non-Null Count  Dtype   \n",
      "---  ------            --------------  -----   \n",
      " 0   OBJECTID          29 non-null     int64   \n",
      " 1   COUNTYNBR         29 non-null     object  \n",
      " 2   ENTITYNBR         29 non-null     float64 \n",
      " 3   ENTITYYR          29 non-null     float64 \n",
      " 4   NAME              29 non-null     object  \n",
      " 5   FIPS              29 non-null     float64 \n",
      " 6   STATEPLANE        29 non-null     object  \n",
      " 7   POP_LASTCENSUS    29 non-null     int64   \n",
      " 8   POP_CURRESTIMATE  29 non-null     int64   \n",
      " 9   GlobalID          29 non-null     object  \n",
      " 10  COLOR4            29 non-null     int64   \n",
      " 11  SHAPE             29 non-null     geometry\n",
      "dtypes: float64(3), geometry(1), int64(4), object(4)\n",
      "memory usage: 4.0+ KB\n"
     ]
    }
   ],
   "source": [
    "# .info() gives us an overview of the dataframe, including the column types\n",
    "counties_df.info()"
   ]
  },
  {
   "cell_type": "markdown",
   "id": "683ab120",
   "metadata": {
    "hidden": true
   },
   "source": [
    "Strings are a special case. By default, pandas uses the `object` dtype for columns that contain text. However, it could also contain multiple types."
   ]
  },
  {
   "cell_type": "code",
   "execution_count": 17,
   "id": "7816353a",
   "metadata": {
    "hidden": true
   },
   "outputs": [
    {
     "name": "stdout",
     "output_type": "stream",
     "text": [
      "<class 'pandas.core.frame.DataFrame'>\n",
      "RangeIndex: 3 entries, 0 to 2\n",
      "Data columns (total 2 columns):\n",
      " #   Column  Non-Null Count  Dtype \n",
      "---  ------  --------------  ----- \n",
      " 0   ints    3 non-null      int64 \n",
      " 1   mixed   3 non-null      object\n",
      "dtypes: int64(1), object(1)\n",
      "memory usage: 176.0+ bytes\n"
     ]
    }
   ],
   "source": [
    "mixed_df = pd.DataFrame({\n",
    "    'ints': [1, 2, 3],\n",
    "    'mixed': ['zero', 1, 2.1]\n",
    "})\n",
    "mixed_df.info()"
   ]
  },
  {
   "cell_type": "markdown",
   "id": "19189f58",
   "metadata": {
    "hidden": true
   },
   "source": [
    "## Handling Missing Data"
   ]
  },
  {
   "cell_type": "code",
   "execution_count": 18,
   "id": "04d74287",
   "metadata": {
    "hidden": true
   },
   "outputs": [
    {
     "name": "stdout",
     "output_type": "stream",
     "text": [
      "<class 'pandas.core.frame.DataFrame'>\n",
      "RangeIndex: 3 entries, 0 to 2\n",
      "Data columns (total 2 columns):\n",
      " #   Column  Non-Null Count  Dtype  \n",
      "---  ------  --------------  -----  \n",
      " 0   foo     2 non-null      float64\n",
      " 1   bar     2 non-null      object \n",
      "dtypes: float64(1), object(1)\n",
      "memory usage: 176.0+ bytes\n",
      "None\n"
     ]
    },
    {
     "data": {
      "text/html": [
       "<div>\n",
       "<style scoped>\n",
       "    .dataframe tbody tr th:only-of-type {\n",
       "        vertical-align: middle;\n",
       "    }\n",
       "\n",
       "    .dataframe tbody tr th {\n",
       "        vertical-align: top;\n",
       "    }\n",
       "\n",
       "    .dataframe thead th {\n",
       "        text-align: right;\n",
       "    }\n",
       "</style>\n",
       "<table border=\"1\" class=\"dataframe\">\n",
       "  <thead>\n",
       "    <tr style=\"text-align: right;\">\n",
       "      <th></th>\n",
       "      <th>foo</th>\n",
       "      <th>bar</th>\n",
       "    </tr>\n",
       "  </thead>\n",
       "  <tbody>\n",
       "    <tr>\n",
       "      <th>0</th>\n",
       "      <td>1.0</td>\n",
       "      <td>four</td>\n",
       "    </tr>\n",
       "    <tr>\n",
       "      <th>1</th>\n",
       "      <td>2.0</td>\n",
       "      <td>None</td>\n",
       "    </tr>\n",
       "    <tr>\n",
       "      <th>2</th>\n",
       "      <td>NaN</td>\n",
       "      <td>six</td>\n",
       "    </tr>\n",
       "  </tbody>\n",
       "</table>\n",
       "</div>"
      ],
      "text/plain": [
       "   foo   bar\n",
       "0  1.0  four\n",
       "1  2.0  None\n",
       "2  NaN   six"
      ]
     },
     "execution_count": 18,
     "metadata": {},
     "output_type": "execute_result"
    }
   ],
   "source": [
    "#: Numeric Nones convert to np.nan, strings stay as None\n",
    "none_df = pd.DataFrame({\n",
    "    'foo': [1, 2, None],\n",
    "    'bar': ['four', None, 'six']\n",
    "})\n",
    "print(none_df.info())\n",
    "none_df"
   ]
  },
  {
   "cell_type": "code",
   "execution_count": 19,
   "id": "a6d3f6cb",
   "metadata": {
    "hidden": true
   },
   "outputs": [
    {
     "name": "stdout",
     "output_type": "stream",
     "text": [
      "<class 'pandas.core.frame.DataFrame'>\n",
      "RangeIndex: 3 entries, 0 to 2\n",
      "Data columns (total 2 columns):\n",
      " #   Column  Non-Null Count  Dtype \n",
      "---  ------  --------------  ----- \n",
      " 0   foo     2 non-null      Int64 \n",
      " 1   bar     2 non-null      string\n",
      "dtypes: Int64(1), string(1)\n",
      "memory usage: 179.0 bytes\n",
      "None\n"
     ]
    },
    {
     "data": {
      "text/html": [
       "<div>\n",
       "<style scoped>\n",
       "    .dataframe tbody tr th:only-of-type {\n",
       "        vertical-align: middle;\n",
       "    }\n",
       "\n",
       "    .dataframe tbody tr th {\n",
       "        vertical-align: top;\n",
       "    }\n",
       "\n",
       "    .dataframe thead th {\n",
       "        text-align: right;\n",
       "    }\n",
       "</style>\n",
       "<table border=\"1\" class=\"dataframe\">\n",
       "  <thead>\n",
       "    <tr style=\"text-align: right;\">\n",
       "      <th></th>\n",
       "      <th>foo</th>\n",
       "      <th>bar</th>\n",
       "    </tr>\n",
       "  </thead>\n",
       "  <tbody>\n",
       "    <tr>\n",
       "      <th>0</th>\n",
       "      <td>1</td>\n",
       "      <td>four</td>\n",
       "    </tr>\n",
       "    <tr>\n",
       "      <th>1</th>\n",
       "      <td>2</td>\n",
       "      <td>&lt;NA&gt;</td>\n",
       "    </tr>\n",
       "    <tr>\n",
       "      <th>2</th>\n",
       "      <td>&lt;NA&gt;</td>\n",
       "      <td>six</td>\n",
       "    </tr>\n",
       "  </tbody>\n",
       "</table>\n",
       "</div>"
      ],
      "text/plain": [
       "    foo   bar\n",
       "0     1  four\n",
       "1     2  <NA>\n",
       "2  <NA>   six"
      ]
     },
     "execution_count": 19,
     "metadata": {},
     "output_type": "execute_result"
    }
   ],
   "source": [
    "#: Convert to nullable types; note capitalized Int64\n",
    "converted_df = none_df.convert_dtypes()\n",
    "print(converted_df.info())\n",
    "converted_df"
   ]
  },
  {
   "cell_type": "markdown",
   "id": "11371541",
   "metadata": {
    "heading_collapsed": true
   },
   "source": [
    "# `df[]`: selecting columns and rows"
   ]
  },
  {
   "cell_type": "markdown",
   "id": "ccdf6921",
   "metadata": {
    "hidden": true
   },
   "source": [
    "The `[]` operator on DataFrames is overloaded and will do different things depending on what you pass to it:\n",
    "1. **string**: returns all rows in the indicated **column** as a series\n",
    "2. **list of strings**: returns all rows the indicated **columns** as a single data frame.\n",
    "3. **python-esque slices**: select **rows** (either by label or by index)\n",
    "4. **sequence of booleans**: all *rows* whose index matches the sequence index of a true value. This is where magic happens, because we can put conditional statements as the boolean sequence. The condition is evaluated on each row in the given column, and the resulting true/false value is passed to the indexing operator `[]` to select specific rows. \n",
    "   *The length of the sequence must match the number of rows in the dataframe.*"
   ]
  },
  {
   "cell_type": "code",
   "execution_count": 20,
   "id": "aef65741",
   "metadata": {
    "hidden": true
   },
   "outputs": [
    {
     "data": {
      "text/plain": [
       "FIPS_STR\n",
       "49005       CACHE\n",
       "49013    DUCHESNE\n",
       "49011       DAVIS\n",
       "49027     MILLARD\n",
       "49051     WASATCH\n",
       "Name: NAME, dtype: object"
      ]
     },
     "execution_count": 20,
     "metadata": {},
     "output_type": "execute_result"
    }
   ],
   "source": [
    "#: 1: single string gives a single column as a series\n",
    "counties_df['NAME'].head()"
   ]
  },
  {
   "cell_type": "code",
   "execution_count": 21,
   "id": "9713deb6",
   "metadata": {
    "hidden": true
   },
   "outputs": [
    {
     "data": {
      "text/html": [
       "<div>\n",
       "<style scoped>\n",
       "    .dataframe tbody tr th:only-of-type {\n",
       "        vertical-align: middle;\n",
       "    }\n",
       "\n",
       "    .dataframe tbody tr th {\n",
       "        vertical-align: top;\n",
       "    }\n",
       "\n",
       "    .dataframe thead th {\n",
       "        text-align: right;\n",
       "    }\n",
       "</style>\n",
       "<table border=\"1\" class=\"dataframe\">\n",
       "  <thead>\n",
       "    <tr style=\"text-align: right;\">\n",
       "      <th></th>\n",
       "      <th>NAME</th>\n",
       "      <th>POP_LASTCENSUS</th>\n",
       "    </tr>\n",
       "    <tr>\n",
       "      <th>FIPS_STR</th>\n",
       "      <th></th>\n",
       "      <th></th>\n",
       "    </tr>\n",
       "  </thead>\n",
       "  <tbody>\n",
       "    <tr>\n",
       "      <th>49005</th>\n",
       "      <td>CACHE</td>\n",
       "      <td>133154</td>\n",
       "    </tr>\n",
       "    <tr>\n",
       "      <th>49013</th>\n",
       "      <td>DUCHESNE</td>\n",
       "      <td>19596</td>\n",
       "    </tr>\n",
       "    <tr>\n",
       "      <th>49011</th>\n",
       "      <td>DAVIS</td>\n",
       "      <td>362679</td>\n",
       "    </tr>\n",
       "    <tr>\n",
       "      <th>49027</th>\n",
       "      <td>MILLARD</td>\n",
       "      <td>12975</td>\n",
       "    </tr>\n",
       "    <tr>\n",
       "      <th>49051</th>\n",
       "      <td>WASATCH</td>\n",
       "      <td>34788</td>\n",
       "    </tr>\n",
       "  </tbody>\n",
       "</table>\n",
       "</div>"
      ],
      "text/plain": [
       "              NAME  POP_LASTCENSUS\n",
       "FIPS_STR                          \n",
       "49005        CACHE          133154\n",
       "49013     DUCHESNE           19596\n",
       "49011        DAVIS          362679\n",
       "49027      MILLARD           12975\n",
       "49051      WASATCH           34788"
      ]
     },
     "execution_count": 21,
     "metadata": {},
     "output_type": "execute_result"
    }
   ],
   "source": [
    "#: 2: list of strings returns multiple columns as a dataframe\n",
    "counties_df[['NAME', 'POP_LASTCENSUS']].head()"
   ]
  },
  {
   "cell_type": "code",
   "execution_count": 22,
   "id": "384f5c01",
   "metadata": {
    "hidden": true
   },
   "outputs": [
    {
     "data": {
      "text/html": [
       "<div>\n",
       "<style scoped>\n",
       "    .dataframe tbody tr th:only-of-type {\n",
       "        vertical-align: middle;\n",
       "    }\n",
       "\n",
       "    .dataframe tbody tr th {\n",
       "        vertical-align: top;\n",
       "    }\n",
       "\n",
       "    .dataframe thead th {\n",
       "        text-align: right;\n",
       "    }\n",
       "</style>\n",
       "<table border=\"1\" class=\"dataframe\">\n",
       "  <thead>\n",
       "    <tr style=\"text-align: right;\">\n",
       "      <th></th>\n",
       "      <th>OBJECTID</th>\n",
       "      <th>COUNTYNBR</th>\n",
       "      <th>ENTITYNBR</th>\n",
       "      <th>ENTITYYR</th>\n",
       "      <th>NAME</th>\n",
       "      <th>FIPS</th>\n",
       "      <th>STATEPLANE</th>\n",
       "      <th>POP_LASTCENSUS</th>\n",
       "      <th>POP_CURRESTIMATE</th>\n",
       "      <th>GlobalID</th>\n",
       "      <th>COLOR4</th>\n",
       "      <th>SHAPE</th>\n",
       "    </tr>\n",
       "    <tr>\n",
       "      <th>FIPS_STR</th>\n",
       "      <th></th>\n",
       "      <th></th>\n",
       "      <th></th>\n",
       "      <th></th>\n",
       "      <th></th>\n",
       "      <th></th>\n",
       "      <th></th>\n",
       "      <th></th>\n",
       "      <th></th>\n",
       "      <th></th>\n",
       "      <th></th>\n",
       "      <th></th>\n",
       "    </tr>\n",
       "  </thead>\n",
       "  <tbody>\n",
       "    <tr>\n",
       "      <th>49027</th>\n",
       "      <td>4</td>\n",
       "      <td>14</td>\n",
       "      <td>2.010141e+09</td>\n",
       "      <td>2010.0</td>\n",
       "      <td>MILLARD</td>\n",
       "      <td>27.0</td>\n",
       "      <td>Central</td>\n",
       "      <td>12975</td>\n",
       "      <td>13330</td>\n",
       "      <td>{BC91C742-7508-4118-8469-297719E423CB}</td>\n",
       "      <td>3</td>\n",
       "      <td>{\"rings\": [[[-12494338.1205, 4801287.949100003...</td>\n",
       "    </tr>\n",
       "    <tr>\n",
       "      <th>49051</th>\n",
       "      <td>5</td>\n",
       "      <td>26</td>\n",
       "      <td>2.010261e+09</td>\n",
       "      <td>2010.0</td>\n",
       "      <td>WASATCH</td>\n",
       "      <td>51.0</td>\n",
       "      <td>Central</td>\n",
       "      <td>34788</td>\n",
       "      <td>36619</td>\n",
       "      <td>{3D0C5C1E-2650-458E-B322-2B86AA473441}</td>\n",
       "      <td>2</td>\n",
       "      <td>{\"rings\": [[[-12400515.3909, 4966751.283200003...</td>\n",
       "    </tr>\n",
       "  </tbody>\n",
       "</table>\n",
       "</div>"
      ],
      "text/plain": [
       "          OBJECTID COUNTYNBR     ENTITYNBR  ENTITYYR     NAME  FIPS  \\\n",
       "FIPS_STR                                                              \n",
       "49027            4        14  2.010141e+09    2010.0  MILLARD  27.0   \n",
       "49051            5        26  2.010261e+09    2010.0  WASATCH  51.0   \n",
       "\n",
       "         STATEPLANE  POP_LASTCENSUS  POP_CURRESTIMATE  \\\n",
       "FIPS_STR                                                \n",
       "49027       Central           12975             13330   \n",
       "49051       Central           34788             36619   \n",
       "\n",
       "                                        GlobalID  COLOR4  \\\n",
       "FIPS_STR                                                   \n",
       "49027     {BC91C742-7508-4118-8469-297719E423CB}       3   \n",
       "49051     {3D0C5C1E-2650-458E-B322-2B86AA473441}       2   \n",
       "\n",
       "                                                      SHAPE  \n",
       "FIPS_STR                                                     \n",
       "49027     {\"rings\": [[[-12494338.1205, 4801287.949100003...  \n",
       "49051     {\"rings\": [[[-12400515.3909, 4966751.283200003...  "
      ]
     },
     "execution_count": 22,
     "metadata": {},
     "output_type": "execute_result"
    }
   ],
   "source": [
    "#: 3: Slicing returns the rows, all-inclusive (as opposed to python's all-but-end behavior) ???\n",
    "counties_df[3:5]"
   ]
  },
  {
   "cell_type": "markdown",
   "id": "caf3516a",
   "metadata": {
    "hidden": true
   },
   "source": [
    "## 4: sequence of booleans"
   ]
  },
  {
   "cell_type": "code",
   "execution_count": 23,
   "id": "49ee5489",
   "metadata": {
    "hidden": true
   },
   "outputs": [
    {
     "data": {
      "text/html": [
       "<div>\n",
       "<style scoped>\n",
       "    .dataframe tbody tr th:only-of-type {\n",
       "        vertical-align: middle;\n",
       "    }\n",
       "\n",
       "    .dataframe tbody tr th {\n",
       "        vertical-align: top;\n",
       "    }\n",
       "\n",
       "    .dataframe thead th {\n",
       "        text-align: right;\n",
       "    }\n",
       "</style>\n",
       "<table border=\"1\" class=\"dataframe\">\n",
       "  <thead>\n",
       "    <tr style=\"text-align: right;\">\n",
       "      <th></th>\n",
       "      <th>OBJECTID</th>\n",
       "      <th>COUNTYNBR</th>\n",
       "      <th>ENTITYNBR</th>\n",
       "      <th>ENTITYYR</th>\n",
       "      <th>NAME</th>\n",
       "      <th>FIPS</th>\n",
       "      <th>STATEPLANE</th>\n",
       "      <th>POP_LASTCENSUS</th>\n",
       "      <th>POP_CURRESTIMATE</th>\n",
       "      <th>GlobalID</th>\n",
       "      <th>COLOR4</th>\n",
       "      <th>SHAPE</th>\n",
       "    </tr>\n",
       "    <tr>\n",
       "      <th>FIPS_STR</th>\n",
       "      <th></th>\n",
       "      <th></th>\n",
       "      <th></th>\n",
       "      <th></th>\n",
       "      <th></th>\n",
       "      <th></th>\n",
       "      <th></th>\n",
       "      <th></th>\n",
       "      <th></th>\n",
       "      <th></th>\n",
       "      <th></th>\n",
       "      <th></th>\n",
       "    </tr>\n",
       "  </thead>\n",
       "  <tbody>\n",
       "    <tr>\n",
       "      <th>49005</th>\n",
       "      <td>1</td>\n",
       "      <td>03</td>\n",
       "      <td>2.010031e+09</td>\n",
       "      <td>2010.0</td>\n",
       "      <td>CACHE</td>\n",
       "      <td>5.0</td>\n",
       "      <td>North</td>\n",
       "      <td>133154</td>\n",
       "      <td>140173</td>\n",
       "      <td>{AD3015BE-B3C9-4316-B8DC-03AFBB56B443}</td>\n",
       "      <td>2</td>\n",
       "      <td>{\"rings\": [[[-12485167.954, 5160638.807099998]...</td>\n",
       "    </tr>\n",
       "    <tr>\n",
       "      <th>49013</th>\n",
       "      <td>2</td>\n",
       "      <td>07</td>\n",
       "      <td>2.010071e+09</td>\n",
       "      <td>2010.0</td>\n",
       "      <td>DUCHESNE</td>\n",
       "      <td>13.0</td>\n",
       "      <td>Central</td>\n",
       "      <td>19596</td>\n",
       "      <td>20161</td>\n",
       "      <td>{7F6252B7-137F-4F7E-A19A-03C702111509}</td>\n",
       "      <td>4</td>\n",
       "      <td>{\"rings\": [[[-12273167.1888, 4987644.314599998...</td>\n",
       "    </tr>\n",
       "    <tr>\n",
       "      <th>49011</th>\n",
       "      <td>3</td>\n",
       "      <td>06</td>\n",
       "      <td>2.010061e+09</td>\n",
       "      <td>2010.0</td>\n",
       "      <td>DAVIS</td>\n",
       "      <td>11.0</td>\n",
       "      <td>North</td>\n",
       "      <td>362679</td>\n",
       "      <td>369948</td>\n",
       "      <td>{214E29A1-CC25-4867-9148-2817DB623088}</td>\n",
       "      <td>3</td>\n",
       "      <td>{\"rings\": [[[-12458980.0088, 5032817.971900001...</td>\n",
       "    </tr>\n",
       "    <tr>\n",
       "      <th>49027</th>\n",
       "      <td>4</td>\n",
       "      <td>14</td>\n",
       "      <td>2.010141e+09</td>\n",
       "      <td>2010.0</td>\n",
       "      <td>MILLARD</td>\n",
       "      <td>27.0</td>\n",
       "      <td>Central</td>\n",
       "      <td>12975</td>\n",
       "      <td>13330</td>\n",
       "      <td>{BC91C742-7508-4118-8469-297719E423CB}</td>\n",
       "      <td>3</td>\n",
       "      <td>{\"rings\": [[[-12494338.1205, 4801287.949100003...</td>\n",
       "    </tr>\n",
       "    <tr>\n",
       "      <th>49051</th>\n",
       "      <td>5</td>\n",
       "      <td>26</td>\n",
       "      <td>2.010261e+09</td>\n",
       "      <td>2010.0</td>\n",
       "      <td>WASATCH</td>\n",
       "      <td>51.0</td>\n",
       "      <td>Central</td>\n",
       "      <td>34788</td>\n",
       "      <td>36619</td>\n",
       "      <td>{3D0C5C1E-2650-458E-B322-2B86AA473441}</td>\n",
       "      <td>2</td>\n",
       "      <td>{\"rings\": [[[-12400515.3909, 4966751.283200003...</td>\n",
       "    </tr>\n",
       "  </tbody>\n",
       "</table>\n",
       "</div>"
      ],
      "text/plain": [
       "          OBJECTID COUNTYNBR     ENTITYNBR  ENTITYYR      NAME  FIPS  \\\n",
       "FIPS_STR                                                               \n",
       "49005            1        03  2.010031e+09    2010.0     CACHE   5.0   \n",
       "49013            2        07  2.010071e+09    2010.0  DUCHESNE  13.0   \n",
       "49011            3        06  2.010061e+09    2010.0     DAVIS  11.0   \n",
       "49027            4        14  2.010141e+09    2010.0   MILLARD  27.0   \n",
       "49051            5        26  2.010261e+09    2010.0   WASATCH  51.0   \n",
       "\n",
       "         STATEPLANE  POP_LASTCENSUS  POP_CURRESTIMATE  \\\n",
       "FIPS_STR                                                \n",
       "49005         North          133154            140173   \n",
       "49013       Central           19596             20161   \n",
       "49011         North          362679            369948   \n",
       "49027       Central           12975             13330   \n",
       "49051       Central           34788             36619   \n",
       "\n",
       "                                        GlobalID  COLOR4  \\\n",
       "FIPS_STR                                                   \n",
       "49005     {AD3015BE-B3C9-4316-B8DC-03AFBB56B443}       2   \n",
       "49013     {7F6252B7-137F-4F7E-A19A-03C702111509}       4   \n",
       "49011     {214E29A1-CC25-4867-9148-2817DB623088}       3   \n",
       "49027     {BC91C742-7508-4118-8469-297719E423CB}       3   \n",
       "49051     {3D0C5C1E-2650-458E-B322-2B86AA473441}       2   \n",
       "\n",
       "                                                      SHAPE  \n",
       "FIPS_STR                                                     \n",
       "49005     {\"rings\": [[[-12485167.954, 5160638.807099998]...  \n",
       "49013     {\"rings\": [[[-12273167.1888, 4987644.314599998...  \n",
       "49011     {\"rings\": [[[-12458980.0088, 5032817.971900001...  \n",
       "49027     {\"rings\": [[[-12494338.1205, 4801287.949100003...  \n",
       "49051     {\"rings\": [[[-12400515.3909, 4966751.283200003...  "
      ]
     },
     "execution_count": 23,
     "metadata": {},
     "output_type": "execute_result"
    }
   ],
   "source": [
    "head_df = counties_df.head().copy()\n",
    "head_df"
   ]
  },
  {
   "cell_type": "code",
   "execution_count": 24,
   "id": "2d434062",
   "metadata": {
    "hidden": true
   },
   "outputs": [
    {
     "data": {
      "text/html": [
       "<div>\n",
       "<style scoped>\n",
       "    .dataframe tbody tr th:only-of-type {\n",
       "        vertical-align: middle;\n",
       "    }\n",
       "\n",
       "    .dataframe tbody tr th {\n",
       "        vertical-align: top;\n",
       "    }\n",
       "\n",
       "    .dataframe thead th {\n",
       "        text-align: right;\n",
       "    }\n",
       "</style>\n",
       "<table border=\"1\" class=\"dataframe\">\n",
       "  <thead>\n",
       "    <tr style=\"text-align: right;\">\n",
       "      <th></th>\n",
       "      <th>OBJECTID</th>\n",
       "      <th>COUNTYNBR</th>\n",
       "      <th>ENTITYNBR</th>\n",
       "      <th>ENTITYYR</th>\n",
       "      <th>NAME</th>\n",
       "      <th>FIPS</th>\n",
       "      <th>STATEPLANE</th>\n",
       "      <th>POP_LASTCENSUS</th>\n",
       "      <th>POP_CURRESTIMATE</th>\n",
       "      <th>GlobalID</th>\n",
       "      <th>COLOR4</th>\n",
       "      <th>SHAPE</th>\n",
       "    </tr>\n",
       "    <tr>\n",
       "      <th>FIPS_STR</th>\n",
       "      <th></th>\n",
       "      <th></th>\n",
       "      <th></th>\n",
       "      <th></th>\n",
       "      <th></th>\n",
       "      <th></th>\n",
       "      <th></th>\n",
       "      <th></th>\n",
       "      <th></th>\n",
       "      <th></th>\n",
       "      <th></th>\n",
       "      <th></th>\n",
       "    </tr>\n",
       "  </thead>\n",
       "  <tbody>\n",
       "    <tr>\n",
       "      <th>49005</th>\n",
       "      <td>1</td>\n",
       "      <td>03</td>\n",
       "      <td>2.010031e+09</td>\n",
       "      <td>2010.0</td>\n",
       "      <td>CACHE</td>\n",
       "      <td>5.0</td>\n",
       "      <td>North</td>\n",
       "      <td>133154</td>\n",
       "      <td>140173</td>\n",
       "      <td>{AD3015BE-B3C9-4316-B8DC-03AFBB56B443}</td>\n",
       "      <td>2</td>\n",
       "      <td>{\"rings\": [[[-12485167.954, 5160638.807099998]...</td>\n",
       "    </tr>\n",
       "    <tr>\n",
       "      <th>49011</th>\n",
       "      <td>3</td>\n",
       "      <td>06</td>\n",
       "      <td>2.010061e+09</td>\n",
       "      <td>2010.0</td>\n",
       "      <td>DAVIS</td>\n",
       "      <td>11.0</td>\n",
       "      <td>North</td>\n",
       "      <td>362679</td>\n",
       "      <td>369948</td>\n",
       "      <td>{214E29A1-CC25-4867-9148-2817DB623088}</td>\n",
       "      <td>3</td>\n",
       "      <td>{\"rings\": [[[-12458980.0088, 5032817.971900001...</td>\n",
       "    </tr>\n",
       "    <tr>\n",
       "      <th>49027</th>\n",
       "      <td>4</td>\n",
       "      <td>14</td>\n",
       "      <td>2.010141e+09</td>\n",
       "      <td>2010.0</td>\n",
       "      <td>MILLARD</td>\n",
       "      <td>27.0</td>\n",
       "      <td>Central</td>\n",
       "      <td>12975</td>\n",
       "      <td>13330</td>\n",
       "      <td>{BC91C742-7508-4118-8469-297719E423CB}</td>\n",
       "      <td>3</td>\n",
       "      <td>{\"rings\": [[[-12494338.1205, 4801287.949100003...</td>\n",
       "    </tr>\n",
       "  </tbody>\n",
       "</table>\n",
       "</div>"
      ],
      "text/plain": [
       "          OBJECTID COUNTYNBR     ENTITYNBR  ENTITYYR     NAME  FIPS  \\\n",
       "FIPS_STR                                                              \n",
       "49005            1        03  2.010031e+09    2010.0    CACHE   5.0   \n",
       "49011            3        06  2.010061e+09    2010.0    DAVIS  11.0   \n",
       "49027            4        14  2.010141e+09    2010.0  MILLARD  27.0   \n",
       "\n",
       "         STATEPLANE  POP_LASTCENSUS  POP_CURRESTIMATE  \\\n",
       "FIPS_STR                                                \n",
       "49005         North          133154            140173   \n",
       "49011         North          362679            369948   \n",
       "49027       Central           12975             13330   \n",
       "\n",
       "                                        GlobalID  COLOR4  \\\n",
       "FIPS_STR                                                   \n",
       "49005     {AD3015BE-B3C9-4316-B8DC-03AFBB56B443}       2   \n",
       "49011     {214E29A1-CC25-4867-9148-2817DB623088}       3   \n",
       "49027     {BC91C742-7508-4118-8469-297719E423CB}       3   \n",
       "\n",
       "                                                      SHAPE  \n",
       "FIPS_STR                                                     \n",
       "49005     {\"rings\": [[[-12485167.954, 5160638.807099998]...  \n",
       "49011     {\"rings\": [[[-12458980.0088, 5032817.971900001...  \n",
       "49027     {\"rings\": [[[-12494338.1205, 4801287.949100003...  "
      ]
     },
     "execution_count": 24,
     "metadata": {},
     "output_type": "execute_result"
    }
   ],
   "source": [
    "head_df[[True, False, True, True, False]]  #: Note the list is the same length as our dataframe index"
   ]
  },
  {
   "cell_type": "code",
   "execution_count": 25,
   "id": "22cfd2aa",
   "metadata": {
    "hidden": true
   },
   "outputs": [
    {
     "data": {
      "text/plain": [
       "FIPS_STR\n",
       "49005    133154\n",
       "49013     19596\n",
       "49011    362679\n",
       "49027     12975\n",
       "49051     34788\n",
       "Name: POP_LASTCENSUS, dtype: int64"
      ]
     },
     "execution_count": 25,
     "metadata": {},
     "output_type": "execute_result"
    }
   ],
   "source": [
    "pop_series = head_df['POP_LASTCENSUS'].copy()\n",
    "pop_series"
   ]
  },
  {
   "cell_type": "code",
   "execution_count": 26,
   "id": "3497c572",
   "metadata": {
    "hidden": true
   },
   "outputs": [
    {
     "data": {
      "text/plain": [
       "FIPS_STR\n",
       "49005     True\n",
       "49013    False\n",
       "49011     True\n",
       "49027    False\n",
       "49051    False\n",
       "Name: POP_LASTCENSUS, dtype: bool"
      ]
     },
     "execution_count": 26,
     "metadata": {},
     "output_type": "execute_result"
    }
   ],
   "source": [
    "#: Performing a comparison on a series returns a new series with the result of each comparison\n",
    "pop_gt_100k = pop_series > 100000\n",
    "pop_gt_100k"
   ]
  },
  {
   "cell_type": "code",
   "execution_count": 27,
   "id": "26e22046",
   "metadata": {
    "hidden": true
   },
   "outputs": [
    {
     "data": {
      "text/html": [
       "<div>\n",
       "<style scoped>\n",
       "    .dataframe tbody tr th:only-of-type {\n",
       "        vertical-align: middle;\n",
       "    }\n",
       "\n",
       "    .dataframe tbody tr th {\n",
       "        vertical-align: top;\n",
       "    }\n",
       "\n",
       "    .dataframe thead th {\n",
       "        text-align: right;\n",
       "    }\n",
       "</style>\n",
       "<table border=\"1\" class=\"dataframe\">\n",
       "  <thead>\n",
       "    <tr style=\"text-align: right;\">\n",
       "      <th></th>\n",
       "      <th>OBJECTID</th>\n",
       "      <th>COUNTYNBR</th>\n",
       "      <th>ENTITYNBR</th>\n",
       "      <th>ENTITYYR</th>\n",
       "      <th>NAME</th>\n",
       "      <th>FIPS</th>\n",
       "      <th>STATEPLANE</th>\n",
       "      <th>POP_LASTCENSUS</th>\n",
       "      <th>POP_CURRESTIMATE</th>\n",
       "      <th>GlobalID</th>\n",
       "      <th>COLOR4</th>\n",
       "      <th>SHAPE</th>\n",
       "    </tr>\n",
       "    <tr>\n",
       "      <th>FIPS_STR</th>\n",
       "      <th></th>\n",
       "      <th></th>\n",
       "      <th></th>\n",
       "      <th></th>\n",
       "      <th></th>\n",
       "      <th></th>\n",
       "      <th></th>\n",
       "      <th></th>\n",
       "      <th></th>\n",
       "      <th></th>\n",
       "      <th></th>\n",
       "      <th></th>\n",
       "    </tr>\n",
       "  </thead>\n",
       "  <tbody>\n",
       "    <tr>\n",
       "      <th>49005</th>\n",
       "      <td>1</td>\n",
       "      <td>03</td>\n",
       "      <td>2.010031e+09</td>\n",
       "      <td>2010.0</td>\n",
       "      <td>CACHE</td>\n",
       "      <td>5.0</td>\n",
       "      <td>North</td>\n",
       "      <td>133154</td>\n",
       "      <td>140173</td>\n",
       "      <td>{AD3015BE-B3C9-4316-B8DC-03AFBB56B443}</td>\n",
       "      <td>2</td>\n",
       "      <td>{\"rings\": [[[-12485167.954, 5160638.807099998]...</td>\n",
       "    </tr>\n",
       "    <tr>\n",
       "      <th>49011</th>\n",
       "      <td>3</td>\n",
       "      <td>06</td>\n",
       "      <td>2.010061e+09</td>\n",
       "      <td>2010.0</td>\n",
       "      <td>DAVIS</td>\n",
       "      <td>11.0</td>\n",
       "      <td>North</td>\n",
       "      <td>362679</td>\n",
       "      <td>369948</td>\n",
       "      <td>{214E29A1-CC25-4867-9148-2817DB623088}</td>\n",
       "      <td>3</td>\n",
       "      <td>{\"rings\": [[[-12458980.0088, 5032817.971900001...</td>\n",
       "    </tr>\n",
       "  </tbody>\n",
       "</table>\n",
       "</div>"
      ],
      "text/plain": [
       "          OBJECTID COUNTYNBR     ENTITYNBR  ENTITYYR   NAME  FIPS STATEPLANE  \\\n",
       "FIPS_STR                                                                       \n",
       "49005            1        03  2.010031e+09    2010.0  CACHE   5.0      North   \n",
       "49011            3        06  2.010061e+09    2010.0  DAVIS  11.0      North   \n",
       "\n",
       "          POP_LASTCENSUS  POP_CURRESTIMATE  \\\n",
       "FIPS_STR                                     \n",
       "49005             133154            140173   \n",
       "49011             362679            369948   \n",
       "\n",
       "                                        GlobalID  COLOR4  \\\n",
       "FIPS_STR                                                   \n",
       "49005     {AD3015BE-B3C9-4316-B8DC-03AFBB56B443}       2   \n",
       "49011     {214E29A1-CC25-4867-9148-2817DB623088}       3   \n",
       "\n",
       "                                                      SHAPE  \n",
       "FIPS_STR                                                     \n",
       "49005     {\"rings\": [[[-12485167.954, 5160638.807099998]...  \n",
       "49011     {\"rings\": [[[-12458980.0088, 5032817.971900001...  "
      ]
     },
     "execution_count": 27,
     "metadata": {},
     "output_type": "execute_result"
    }
   ],
   "source": [
    "#: Pass our new boolean series as a boolean indexer\n",
    "head_df[pop_gt_100k]"
   ]
  },
  {
   "cell_type": "code",
   "execution_count": 28,
   "id": "475f7520",
   "metadata": {
    "hidden": true,
    "scrolled": true
   },
   "outputs": [
    {
     "data": {
      "text/html": [
       "<div>\n",
       "<style scoped>\n",
       "    .dataframe tbody tr th:only-of-type {\n",
       "        vertical-align: middle;\n",
       "    }\n",
       "\n",
       "    .dataframe tbody tr th {\n",
       "        vertical-align: top;\n",
       "    }\n",
       "\n",
       "    .dataframe thead th {\n",
       "        text-align: right;\n",
       "    }\n",
       "</style>\n",
       "<table border=\"1\" class=\"dataframe\">\n",
       "  <thead>\n",
       "    <tr style=\"text-align: right;\">\n",
       "      <th></th>\n",
       "      <th>OBJECTID</th>\n",
       "      <th>COUNTYNBR</th>\n",
       "      <th>ENTITYNBR</th>\n",
       "      <th>ENTITYYR</th>\n",
       "      <th>NAME</th>\n",
       "      <th>FIPS</th>\n",
       "      <th>STATEPLANE</th>\n",
       "      <th>POP_LASTCENSUS</th>\n",
       "      <th>POP_CURRESTIMATE</th>\n",
       "      <th>GlobalID</th>\n",
       "      <th>COLOR4</th>\n",
       "      <th>SHAPE</th>\n",
       "    </tr>\n",
       "    <tr>\n",
       "      <th>FIPS_STR</th>\n",
       "      <th></th>\n",
       "      <th></th>\n",
       "      <th></th>\n",
       "      <th></th>\n",
       "      <th></th>\n",
       "      <th></th>\n",
       "      <th></th>\n",
       "      <th></th>\n",
       "      <th></th>\n",
       "      <th></th>\n",
       "      <th></th>\n",
       "      <th></th>\n",
       "    </tr>\n",
       "  </thead>\n",
       "  <tbody>\n",
       "    <tr>\n",
       "      <th>49005</th>\n",
       "      <td>1</td>\n",
       "      <td>03</td>\n",
       "      <td>2.010031e+09</td>\n",
       "      <td>2010.0</td>\n",
       "      <td>CACHE</td>\n",
       "      <td>5.0</td>\n",
       "      <td>North</td>\n",
       "      <td>133154</td>\n",
       "      <td>140173</td>\n",
       "      <td>{AD3015BE-B3C9-4316-B8DC-03AFBB56B443}</td>\n",
       "      <td>2</td>\n",
       "      <td>{\"rings\": [[[-12485167.954, 5160638.807099998]...</td>\n",
       "    </tr>\n",
       "    <tr>\n",
       "      <th>49011</th>\n",
       "      <td>3</td>\n",
       "      <td>06</td>\n",
       "      <td>2.010061e+09</td>\n",
       "      <td>2010.0</td>\n",
       "      <td>DAVIS</td>\n",
       "      <td>11.0</td>\n",
       "      <td>North</td>\n",
       "      <td>362679</td>\n",
       "      <td>369948</td>\n",
       "      <td>{214E29A1-CC25-4867-9148-2817DB623088}</td>\n",
       "      <td>3</td>\n",
       "      <td>{\"rings\": [[[-12458980.0088, 5032817.971900001...</td>\n",
       "    </tr>\n",
       "  </tbody>\n",
       "</table>\n",
       "</div>"
      ],
      "text/plain": [
       "          OBJECTID COUNTYNBR     ENTITYNBR  ENTITYYR   NAME  FIPS STATEPLANE  \\\n",
       "FIPS_STR                                                                       \n",
       "49005            1        03  2.010031e+09    2010.0  CACHE   5.0      North   \n",
       "49011            3        06  2.010061e+09    2010.0  DAVIS  11.0      North   \n",
       "\n",
       "          POP_LASTCENSUS  POP_CURRESTIMATE  \\\n",
       "FIPS_STR                                     \n",
       "49005             133154            140173   \n",
       "49011             362679            369948   \n",
       "\n",
       "                                        GlobalID  COLOR4  \\\n",
       "FIPS_STR                                                   \n",
       "49005     {AD3015BE-B3C9-4316-B8DC-03AFBB56B443}       2   \n",
       "49011     {214E29A1-CC25-4867-9148-2817DB623088}       3   \n",
       "\n",
       "                                                      SHAPE  \n",
       "FIPS_STR                                                     \n",
       "49005     {\"rings\": [[[-12485167.954, 5160638.807099998]...  \n",
       "49011     {\"rings\": [[[-12458980.0088, 5032817.971900001...  "
      ]
     },
     "execution_count": 28,
     "metadata": {},
     "output_type": "execute_result"
    }
   ],
   "source": [
    "#: All the previous steps, just in one line of code\n",
    "head_df[head_df['POP_LASTCENSUS'] > 100000]"
   ]
  },
  {
   "cell_type": "code",
   "execution_count": 29,
   "id": "6d895739",
   "metadata": {
    "hidden": true
   },
   "outputs": [
    {
     "data": {
      "text/html": [
       "<div>\n",
       "<style scoped>\n",
       "    .dataframe tbody tr th:only-of-type {\n",
       "        vertical-align: middle;\n",
       "    }\n",
       "\n",
       "    .dataframe tbody tr th {\n",
       "        vertical-align: top;\n",
       "    }\n",
       "\n",
       "    .dataframe thead th {\n",
       "        text-align: right;\n",
       "    }\n",
       "</style>\n",
       "<table border=\"1\" class=\"dataframe\">\n",
       "  <thead>\n",
       "    <tr style=\"text-align: right;\">\n",
       "      <th></th>\n",
       "      <th>OBJECTID</th>\n",
       "      <th>COUNTYNBR</th>\n",
       "      <th>ENTITYNBR</th>\n",
       "      <th>ENTITYYR</th>\n",
       "      <th>NAME</th>\n",
       "      <th>FIPS</th>\n",
       "      <th>STATEPLANE</th>\n",
       "      <th>POP_LASTCENSUS</th>\n",
       "      <th>POP_CURRESTIMATE</th>\n",
       "      <th>GlobalID</th>\n",
       "      <th>COLOR4</th>\n",
       "      <th>SHAPE</th>\n",
       "    </tr>\n",
       "    <tr>\n",
       "      <th>FIPS_STR</th>\n",
       "      <th></th>\n",
       "      <th></th>\n",
       "      <th></th>\n",
       "      <th></th>\n",
       "      <th></th>\n",
       "      <th></th>\n",
       "      <th></th>\n",
       "      <th></th>\n",
       "      <th></th>\n",
       "      <th></th>\n",
       "      <th></th>\n",
       "      <th></th>\n",
       "    </tr>\n",
       "  </thead>\n",
       "  <tbody>\n",
       "    <tr>\n",
       "      <th>49005</th>\n",
       "      <td>1</td>\n",
       "      <td>03</td>\n",
       "      <td>2.010031e+09</td>\n",
       "      <td>2010.0</td>\n",
       "      <td>CACHE</td>\n",
       "      <td>5.0</td>\n",
       "      <td>North</td>\n",
       "      <td>133154</td>\n",
       "      <td>140173</td>\n",
       "      <td>{AD3015BE-B3C9-4316-B8DC-03AFBB56B443}</td>\n",
       "      <td>2</td>\n",
       "      <td>{\"rings\": [[[-12485167.954, 5160638.807099998]...</td>\n",
       "    </tr>\n",
       "    <tr>\n",
       "      <th>49011</th>\n",
       "      <td>3</td>\n",
       "      <td>06</td>\n",
       "      <td>2.010061e+09</td>\n",
       "      <td>2010.0</td>\n",
       "      <td>DAVIS</td>\n",
       "      <td>11.0</td>\n",
       "      <td>North</td>\n",
       "      <td>362679</td>\n",
       "      <td>369948</td>\n",
       "      <td>{214E29A1-CC25-4867-9148-2817DB623088}</td>\n",
       "      <td>3</td>\n",
       "      <td>{\"rings\": [[[-12458980.0088, 5032817.971900001...</td>\n",
       "    </tr>\n",
       "    <tr>\n",
       "      <th>49027</th>\n",
       "      <td>4</td>\n",
       "      <td>14</td>\n",
       "      <td>2.010141e+09</td>\n",
       "      <td>2010.0</td>\n",
       "      <td>MILLARD</td>\n",
       "      <td>27.0</td>\n",
       "      <td>Central</td>\n",
       "      <td>12975</td>\n",
       "      <td>13330</td>\n",
       "      <td>{BC91C742-7508-4118-8469-297719E423CB}</td>\n",
       "      <td>3</td>\n",
       "      <td>{\"rings\": [[[-12494338.1205, 4801287.949100003...</td>\n",
       "    </tr>\n",
       "    <tr>\n",
       "      <th>49051</th>\n",
       "      <td>5</td>\n",
       "      <td>26</td>\n",
       "      <td>2.010261e+09</td>\n",
       "      <td>2010.0</td>\n",
       "      <td>WASATCH</td>\n",
       "      <td>51.0</td>\n",
       "      <td>Central</td>\n",
       "      <td>34788</td>\n",
       "      <td>36619</td>\n",
       "      <td>{3D0C5C1E-2650-458E-B322-2B86AA473441}</td>\n",
       "      <td>2</td>\n",
       "      <td>{\"rings\": [[[-12400515.3909, 4966751.283200003...</td>\n",
       "    </tr>\n",
       "  </tbody>\n",
       "</table>\n",
       "</div>"
      ],
      "text/plain": [
       "          OBJECTID COUNTYNBR     ENTITYNBR  ENTITYYR     NAME  FIPS  \\\n",
       "FIPS_STR                                                              \n",
       "49005            1        03  2.010031e+09    2010.0    CACHE   5.0   \n",
       "49011            3        06  2.010061e+09    2010.0    DAVIS  11.0   \n",
       "49027            4        14  2.010141e+09    2010.0  MILLARD  27.0   \n",
       "49051            5        26  2.010261e+09    2010.0  WASATCH  51.0   \n",
       "\n",
       "         STATEPLANE  POP_LASTCENSUS  POP_CURRESTIMATE  \\\n",
       "FIPS_STR                                                \n",
       "49005         North          133154            140173   \n",
       "49011         North          362679            369948   \n",
       "49027       Central           12975             13330   \n",
       "49051       Central           34788             36619   \n",
       "\n",
       "                                        GlobalID  COLOR4  \\\n",
       "FIPS_STR                                                   \n",
       "49005     {AD3015BE-B3C9-4316-B8DC-03AFBB56B443}       2   \n",
       "49011     {214E29A1-CC25-4867-9148-2817DB623088}       3   \n",
       "49027     {BC91C742-7508-4118-8469-297719E423CB}       3   \n",
       "49051     {3D0C5C1E-2650-458E-B322-2B86AA473441}       2   \n",
       "\n",
       "                                                      SHAPE  \n",
       "FIPS_STR                                                     \n",
       "49005     {\"rings\": [[[-12485167.954, 5160638.807099998]...  \n",
       "49011     {\"rings\": [[[-12458980.0088, 5032817.971900001...  \n",
       "49027     {\"rings\": [[[-12494338.1205, 4801287.949100003...  \n",
       "49051     {\"rings\": [[[-12400515.3909, 4966751.283200003...  "
      ]
     },
     "execution_count": 29,
     "metadata": {},
     "output_type": "execute_result"
    }
   ],
   "source": [
    "#: Use .isin() to filter based on membership in a sequence\n",
    "head_df[head_df['COLOR4'].isin([2, 3])]"
   ]
  },
  {
   "cell_type": "code",
   "execution_count": 30,
   "id": "f5773259",
   "metadata": {
    "hidden": true
   },
   "outputs": [
    {
     "data": {
      "text/plain": [
       "FIPS_STR\n",
       "49005     True\n",
       "49013    False\n",
       "49011     True\n",
       "49027     True\n",
       "49051     True\n",
       "Name: COLOR4, dtype: bool"
      ]
     },
     "execution_count": 30,
     "metadata": {},
     "output_type": "execute_result"
    }
   ],
   "source": [
    "head_df['COLOR4'].isin([2, 3])"
   ]
  },
  {
   "cell_type": "markdown",
   "id": "ef37c5e4",
   "metadata": {
    "heading_collapsed": true
   },
   "source": [
    "# `.loc` and `.iloc`: Selecting by Label/Index"
   ]
  },
  {
   "cell_type": "markdown",
   "id": "981b046c",
   "metadata": {
    "hidden": true
   },
   "source": [
    " ## `.loc`: Label-based"
   ]
  },
  {
   "cell_type": "code",
   "execution_count": 31,
   "id": "00d3c235",
   "metadata": {
    "hidden": true
   },
   "outputs": [
    {
     "data": {
      "text/plain": [
       "OBJECTID                                                            5\n",
       "COUNTYNBR                                                          26\n",
       "ENTITYNBR                                                2010261010.0\n",
       "ENTITYYR                                                       2010.0\n",
       "NAME                                                          WASATCH\n",
       "FIPS                                                             51.0\n",
       "STATEPLANE                                                    Central\n",
       "POP_LASTCENSUS                                                  34788\n",
       "POP_CURRESTIMATE                                                36619\n",
       "GlobalID                       {3D0C5C1E-2650-458E-B322-2B86AA473441}\n",
       "COLOR4                                                              2\n",
       "SHAPE               {'rings': [[[-12400515.3909, 4966751.283200003...\n",
       "Name: 49051, dtype: object"
      ]
     },
     "execution_count": 31,
     "metadata": {},
     "output_type": "execute_result"
    }
   ],
   "source": [
    "#: Single value: index label\n",
    "counties_df.loc['49051']"
   ]
  },
  {
   "cell_type": "code",
   "execution_count": 32,
   "id": "7341a02e",
   "metadata": {
    "hidden": true
   },
   "outputs": [
    {
     "data": {
      "text/plain": [
       "'WASATCH'"
      ]
     },
     "execution_count": 32,
     "metadata": {},
     "output_type": "execute_result"
    }
   ],
   "source": [
    "#: Two values: index label, column label\n",
    "counties_df.loc['49051', 'NAME']"
   ]
  },
  {
   "cell_type": "code",
   "execution_count": 33,
   "id": "0624664f",
   "metadata": {
    "hidden": true
   },
   "outputs": [
    {
     "data": {
      "text/plain": [
       "FIPS_STR\n",
       "49005       CACHE\n",
       "49013    DUCHESNE\n",
       "49011       DAVIS\n",
       "49027     MILLARD\n",
       "49051     WASATCH\n",
       "Name: NAME, dtype: object"
      ]
     },
     "execution_count": 33,
     "metadata": {},
     "output_type": "execute_result"
    }
   ],
   "source": [
    "#: Two values with everything slice: column as series\n",
    "counties_df.loc[:, 'NAME'].head()"
   ]
  },
  {
   "cell_type": "code",
   "execution_count": 34,
   "id": "a2883b66",
   "metadata": {
    "hidden": true
   },
   "outputs": [
    {
     "data": {
      "text/html": [
       "<div>\n",
       "<style scoped>\n",
       "    .dataframe tbody tr th:only-of-type {\n",
       "        vertical-align: middle;\n",
       "    }\n",
       "\n",
       "    .dataframe tbody tr th {\n",
       "        vertical-align: top;\n",
       "    }\n",
       "\n",
       "    .dataframe thead th {\n",
       "        text-align: right;\n",
       "    }\n",
       "</style>\n",
       "<table border=\"1\" class=\"dataframe\">\n",
       "  <thead>\n",
       "    <tr style=\"text-align: right;\">\n",
       "      <th></th>\n",
       "      <th>NAME</th>\n",
       "      <th>POP_LASTCENSUS</th>\n",
       "    </tr>\n",
       "    <tr>\n",
       "      <th>FIPS_STR</th>\n",
       "      <th></th>\n",
       "      <th></th>\n",
       "    </tr>\n",
       "  </thead>\n",
       "  <tbody>\n",
       "    <tr>\n",
       "      <th>49005</th>\n",
       "      <td>CACHE</td>\n",
       "      <td>133154</td>\n",
       "    </tr>\n",
       "    <tr>\n",
       "      <th>49013</th>\n",
       "      <td>DUCHESNE</td>\n",
       "      <td>19596</td>\n",
       "    </tr>\n",
       "    <tr>\n",
       "      <th>49011</th>\n",
       "      <td>DAVIS</td>\n",
       "      <td>362679</td>\n",
       "    </tr>\n",
       "    <tr>\n",
       "      <th>49027</th>\n",
       "      <td>MILLARD</td>\n",
       "      <td>12975</td>\n",
       "    </tr>\n",
       "    <tr>\n",
       "      <th>49051</th>\n",
       "      <td>WASATCH</td>\n",
       "      <td>34788</td>\n",
       "    </tr>\n",
       "  </tbody>\n",
       "</table>\n",
       "</div>"
      ],
      "text/plain": [
       "              NAME  POP_LASTCENSUS\n",
       "FIPS_STR                          \n",
       "49005        CACHE          133154\n",
       "49013     DUCHESNE           19596\n",
       "49011        DAVIS          362679\n",
       "49027      MILLARD           12975\n",
       "49051      WASATCH           34788"
      ]
     },
     "execution_count": 34,
     "metadata": {},
     "output_type": "execute_result"
    }
   ],
   "source": [
    "#: everything slice and list of labels: columns as DataFrame\n",
    "counties_df.loc[:, ['NAME', 'POP_LASTCENSUS']].head()"
   ]
  },
  {
   "cell_type": "code",
   "execution_count": 35,
   "id": "0d04a33f",
   "metadata": {
    "hidden": true
   },
   "outputs": [
    {
     "data": {
      "text/html": [
       "<div>\n",
       "<style scoped>\n",
       "    .dataframe tbody tr th:only-of-type {\n",
       "        vertical-align: middle;\n",
       "    }\n",
       "\n",
       "    .dataframe tbody tr th {\n",
       "        vertical-align: top;\n",
       "    }\n",
       "\n",
       "    .dataframe thead th {\n",
       "        text-align: right;\n",
       "    }\n",
       "</style>\n",
       "<table border=\"1\" class=\"dataframe\">\n",
       "  <thead>\n",
       "    <tr style=\"text-align: right;\">\n",
       "      <th></th>\n",
       "      <th>OBJECTID</th>\n",
       "      <th>COUNTYNBR</th>\n",
       "      <th>ENTITYNBR</th>\n",
       "      <th>ENTITYYR</th>\n",
       "      <th>NAME</th>\n",
       "      <th>FIPS</th>\n",
       "      <th>STATEPLANE</th>\n",
       "      <th>POP_LASTCENSUS</th>\n",
       "      <th>POP_CURRESTIMATE</th>\n",
       "      <th>GlobalID</th>\n",
       "      <th>COLOR4</th>\n",
       "      <th>SHAPE</th>\n",
       "    </tr>\n",
       "    <tr>\n",
       "      <th>FIPS_STR</th>\n",
       "      <th></th>\n",
       "      <th></th>\n",
       "      <th></th>\n",
       "      <th></th>\n",
       "      <th></th>\n",
       "      <th></th>\n",
       "      <th></th>\n",
       "      <th></th>\n",
       "      <th></th>\n",
       "      <th></th>\n",
       "      <th></th>\n",
       "      <th></th>\n",
       "    </tr>\n",
       "  </thead>\n",
       "  <tbody>\n",
       "    <tr>\n",
       "      <th>49001</th>\n",
       "      <td>15</td>\n",
       "      <td>01</td>\n",
       "      <td>2.010011e+09</td>\n",
       "      <td>2010.0</td>\n",
       "      <td>BEAVER</td>\n",
       "      <td>1.0</td>\n",
       "      <td>South</td>\n",
       "      <td>7072</td>\n",
       "      <td>7327</td>\n",
       "      <td>{04ADA80E-57CF-40BB-8C5C-6FDED3D82E74}</td>\n",
       "      <td>4</td>\n",
       "      <td>{\"rings\": [[[-12525157.6426, 4660669.5066], [-...</td>\n",
       "    </tr>\n",
       "    <tr>\n",
       "      <th>49003</th>\n",
       "      <td>6</td>\n",
       "      <td>02</td>\n",
       "      <td>2.010021e+09</td>\n",
       "      <td>2010.0</td>\n",
       "      <td>BOX ELDER</td>\n",
       "      <td>3.0</td>\n",
       "      <td>North</td>\n",
       "      <td>57666</td>\n",
       "      <td>61498</td>\n",
       "      <td>{82F842F7-FCE7-402B-9144-34F50FCCA4E5}</td>\n",
       "      <td>4</td>\n",
       "      <td>{\"rings\": [[[-12631966.5192, 5159977.284500003...</td>\n",
       "    </tr>\n",
       "  </tbody>\n",
       "</table>\n",
       "</div>"
      ],
      "text/plain": [
       "          OBJECTID COUNTYNBR     ENTITYNBR  ENTITYYR       NAME  FIPS  \\\n",
       "FIPS_STR                                                                \n",
       "49001           15        01  2.010011e+09    2010.0     BEAVER   1.0   \n",
       "49003            6        02  2.010021e+09    2010.0  BOX ELDER   3.0   \n",
       "\n",
       "         STATEPLANE  POP_LASTCENSUS  POP_CURRESTIMATE  \\\n",
       "FIPS_STR                                                \n",
       "49001         South            7072              7327   \n",
       "49003         North           57666             61498   \n",
       "\n",
       "                                        GlobalID  COLOR4  \\\n",
       "FIPS_STR                                                   \n",
       "49001     {04ADA80E-57CF-40BB-8C5C-6FDED3D82E74}       4   \n",
       "49003     {82F842F7-FCE7-402B-9144-34F50FCCA4E5}       4   \n",
       "\n",
       "                                                      SHAPE  \n",
       "FIPS_STR                                                     \n",
       "49001     {\"rings\": [[[-12525157.6426, 4660669.5066], [-...  \n",
       "49003     {\"rings\": [[[-12631966.5192, 5159977.284500003...  "
      ]
     },
     "execution_count": 35,
     "metadata": {},
     "output_type": "execute_result"
    }
   ],
   "source": [
    "#: everything slice and list of labels reversed: rows as DataFrame\n",
    "counties_df.loc[['49001', '49003'], :]"
   ]
  },
  {
   "cell_type": "markdown",
   "id": "b6805c8b",
   "metadata": {
    "hidden": true
   },
   "source": [
    "## `.iloc`: Position-based"
   ]
  },
  {
   "cell_type": "code",
   "execution_count": 36,
   "id": "38b6f49c",
   "metadata": {
    "hidden": true
   },
   "outputs": [
    {
     "data": {
      "text/plain": [
       "OBJECTID                                                            1\n",
       "COUNTYNBR                                                          03\n",
       "ENTITYNBR                                                2010031010.0\n",
       "ENTITYYR                                                       2010.0\n",
       "NAME                                                            CACHE\n",
       "FIPS                                                              5.0\n",
       "STATEPLANE                                                      North\n",
       "POP_LASTCENSUS                                                 133154\n",
       "POP_CURRESTIMATE                                               140173\n",
       "GlobalID                       {AD3015BE-B3C9-4316-B8DC-03AFBB56B443}\n",
       "COLOR4                                                              2\n",
       "SHAPE               {'rings': [[[-12485167.954, 5160638.807099998]...\n",
       "Name: 49005, dtype: object"
      ]
     },
     "execution_count": 36,
     "metadata": {},
     "output_type": "execute_result"
    }
   ],
   "source": [
    "#: Get the first row:\n",
    "counties_df.iloc[0]"
   ]
  },
  {
   "cell_type": "code",
   "execution_count": 37,
   "id": "0e105c2a",
   "metadata": {
    "hidden": true
   },
   "outputs": [
    {
     "data": {
      "text/plain": [
       "FIPS_STR\n",
       "49005    1\n",
       "49013    2\n",
       "49011    3\n",
       "49027    4\n",
       "49051    5\n",
       "Name: OBJECTID, dtype: int64"
      ]
     },
     "execution_count": 37,
     "metadata": {},
     "output_type": "execute_result"
    }
   ],
   "source": [
    "#: Use slicing to get the first column for the first five rows:\n",
    "counties_df.iloc[:5, 0]"
   ]
  },
  {
   "cell_type": "code",
   "execution_count": 38,
   "id": "770c11a2",
   "metadata": {
    "hidden": true
   },
   "outputs": [
    {
     "data": {
      "text/plain": [
       "OBJECTID                                                           29\n",
       "COUNTYNBR                                                          25\n",
       "ENTITYNBR                                                2010251010.0\n",
       "ENTITYYR                                                       2010.0\n",
       "NAME                                                             UTAH\n",
       "FIPS                                                             49.0\n",
       "STATEPLANE                                                    Central\n",
       "POP_LASTCENSUS                                                 659399\n",
       "POP_CURRESTIMATE                                               702434\n",
       "GlobalID                       {8DF99710-DCB1-4C52-8EAD-E9555C83618F}\n",
       "COLOR4                                                              3\n",
       "SHAPE               {'rings': [[[-12422592.7433, 4950159.090400003...\n",
       "Name: 49049, dtype: object"
      ]
     },
     "execution_count": 38,
     "metadata": {},
     "output_type": "execute_result"
    }
   ],
   "source": [
    "#: investigate the last row\n",
    "counties_df.iloc[-1]"
   ]
  },
  {
   "cell_type": "markdown",
   "id": "0c081d92",
   "metadata": {
    "heading_collapsed": true
   },
   "source": [
    "# Working With Columns"
   ]
  },
  {
   "cell_type": "markdown",
   "id": "b6fc22cb",
   "metadata": {
    "hidden": true
   },
   "source": [
    "Pandas makes working with columns really easy. Whether renaming, re-ordering, or re-calculating, it's usually just a single line of code.\n",
    "\n",
    "Let's take our counties dataset and calculate the population density, creating a new dataframe with just the relevant columns."
   ]
  },
  {
   "cell_type": "code",
   "execution_count": 39,
   "id": "cfacef46",
   "metadata": {
    "hidden": true
   },
   "outputs": [],
   "source": [
    "#: Create a copy to avoid altering the original\n",
    "density_df = counties_df.copy()"
   ]
  },
  {
   "cell_type": "code",
   "execution_count": 40,
   "id": "304ab117",
   "metadata": {
    "hidden": true
   },
   "outputs": [
    {
     "data": {
      "text/html": [
       "<div>\n",
       "<style scoped>\n",
       "    .dataframe tbody tr th:only-of-type {\n",
       "        vertical-align: middle;\n",
       "    }\n",
       "\n",
       "    .dataframe tbody tr th {\n",
       "        vertical-align: top;\n",
       "    }\n",
       "\n",
       "    .dataframe thead th {\n",
       "        text-align: right;\n",
       "    }\n",
       "</style>\n",
       "<table border=\"1\" class=\"dataframe\">\n",
       "  <thead>\n",
       "    <tr style=\"text-align: right;\">\n",
       "      <th></th>\n",
       "      <th>OBJECTID</th>\n",
       "      <th>COUNTYNBR</th>\n",
       "      <th>ENTITYNBR</th>\n",
       "      <th>ENTITYYR</th>\n",
       "      <th>NAME</th>\n",
       "      <th>FIPS</th>\n",
       "      <th>STATEPLANE</th>\n",
       "      <th>POP_LASTCENSUS</th>\n",
       "      <th>POP_CURRESTIMATE</th>\n",
       "      <th>GlobalID</th>\n",
       "      <th>COLOR4</th>\n",
       "      <th>SHAPE</th>\n",
       "      <th>sq_km</th>\n",
       "      <th>density</th>\n",
       "    </tr>\n",
       "    <tr>\n",
       "      <th>FIPS_STR</th>\n",
       "      <th></th>\n",
       "      <th></th>\n",
       "      <th></th>\n",
       "      <th></th>\n",
       "      <th></th>\n",
       "      <th></th>\n",
       "      <th></th>\n",
       "      <th></th>\n",
       "      <th></th>\n",
       "      <th></th>\n",
       "      <th></th>\n",
       "      <th></th>\n",
       "      <th></th>\n",
       "      <th></th>\n",
       "    </tr>\n",
       "  </thead>\n",
       "  <tbody>\n",
       "    <tr>\n",
       "      <th>49005</th>\n",
       "      <td>1</td>\n",
       "      <td>03</td>\n",
       "      <td>2.010031e+09</td>\n",
       "      <td>2010.0</td>\n",
       "      <td>CACHE</td>\n",
       "      <td>5.0</td>\n",
       "      <td>North</td>\n",
       "      <td>133154</td>\n",
       "      <td>140173</td>\n",
       "      <td>{AD3015BE-B3C9-4316-B8DC-03AFBB56B443}</td>\n",
       "      <td>2</td>\n",
       "      <td>{\"rings\": [[[-12485167.954, 5160638.807099998]...</td>\n",
       "      <td>5456.779633</td>\n",
       "      <td>24.401572</td>\n",
       "    </tr>\n",
       "    <tr>\n",
       "      <th>49013</th>\n",
       "      <td>2</td>\n",
       "      <td>07</td>\n",
       "      <td>2.010071e+09</td>\n",
       "      <td>2010.0</td>\n",
       "      <td>DUCHESNE</td>\n",
       "      <td>13.0</td>\n",
       "      <td>Central</td>\n",
       "      <td>19596</td>\n",
       "      <td>20161</td>\n",
       "      <td>{7F6252B7-137F-4F7E-A19A-03C702111509}</td>\n",
       "      <td>4</td>\n",
       "      <td>{\"rings\": [[[-12273167.1888, 4987644.314599998...</td>\n",
       "      <td>14489.452124</td>\n",
       "      <td>1.352432</td>\n",
       "    </tr>\n",
       "    <tr>\n",
       "      <th>49011</th>\n",
       "      <td>3</td>\n",
       "      <td>06</td>\n",
       "      <td>2.010061e+09</td>\n",
       "      <td>2010.0</td>\n",
       "      <td>DAVIS</td>\n",
       "      <td>11.0</td>\n",
       "      <td>North</td>\n",
       "      <td>362679</td>\n",
       "      <td>369948</td>\n",
       "      <td>{214E29A1-CC25-4867-9148-2817DB623088}</td>\n",
       "      <td>3</td>\n",
       "      <td>{\"rings\": [[[-12458980.0088, 5032817.971900001...</td>\n",
       "      <td>2889.969718</td>\n",
       "      <td>125.495779</td>\n",
       "    </tr>\n",
       "    <tr>\n",
       "      <th>49027</th>\n",
       "      <td>4</td>\n",
       "      <td>14</td>\n",
       "      <td>2.010141e+09</td>\n",
       "      <td>2010.0</td>\n",
       "      <td>MILLARD</td>\n",
       "      <td>27.0</td>\n",
       "      <td>Central</td>\n",
       "      <td>12975</td>\n",
       "      <td>13330</td>\n",
       "      <td>{BC91C742-7508-4118-8469-297719E423CB}</td>\n",
       "      <td>3</td>\n",
       "      <td>{\"rings\": [[[-12494338.1205, 4801287.949100003...</td>\n",
       "      <td>29421.994253</td>\n",
       "      <td>0.440997</td>\n",
       "    </tr>\n",
       "    <tr>\n",
       "      <th>49051</th>\n",
       "      <td>5</td>\n",
       "      <td>26</td>\n",
       "      <td>2.010261e+09</td>\n",
       "      <td>2010.0</td>\n",
       "      <td>WASATCH</td>\n",
       "      <td>51.0</td>\n",
       "      <td>Central</td>\n",
       "      <td>34788</td>\n",
       "      <td>36619</td>\n",
       "      <td>{3D0C5C1E-2650-458E-B322-2B86AA473441}</td>\n",
       "      <td>2</td>\n",
       "      <td>{\"rings\": [[[-12400515.3909, 4966751.283200003...</td>\n",
       "      <td>5396.133031</td>\n",
       "      <td>6.446839</td>\n",
       "    </tr>\n",
       "  </tbody>\n",
       "</table>\n",
       "</div>"
      ],
      "text/plain": [
       "          OBJECTID COUNTYNBR     ENTITYNBR  ENTITYYR      NAME  FIPS  \\\n",
       "FIPS_STR                                                               \n",
       "49005            1        03  2.010031e+09    2010.0     CACHE   5.0   \n",
       "49013            2        07  2.010071e+09    2010.0  DUCHESNE  13.0   \n",
       "49011            3        06  2.010061e+09    2010.0     DAVIS  11.0   \n",
       "49027            4        14  2.010141e+09    2010.0   MILLARD  27.0   \n",
       "49051            5        26  2.010261e+09    2010.0   WASATCH  51.0   \n",
       "\n",
       "         STATEPLANE  POP_LASTCENSUS  POP_CURRESTIMATE  \\\n",
       "FIPS_STR                                                \n",
       "49005         North          133154            140173   \n",
       "49013       Central           19596             20161   \n",
       "49011         North          362679            369948   \n",
       "49027       Central           12975             13330   \n",
       "49051       Central           34788             36619   \n",
       "\n",
       "                                        GlobalID  COLOR4  \\\n",
       "FIPS_STR                                                   \n",
       "49005     {AD3015BE-B3C9-4316-B8DC-03AFBB56B443}       2   \n",
       "49013     {7F6252B7-137F-4F7E-A19A-03C702111509}       4   \n",
       "49011     {214E29A1-CC25-4867-9148-2817DB623088}       3   \n",
       "49027     {BC91C742-7508-4118-8469-297719E423CB}       3   \n",
       "49051     {3D0C5C1E-2650-458E-B322-2B86AA473441}       2   \n",
       "\n",
       "                                                      SHAPE         sq_km  \\\n",
       "FIPS_STR                                                                    \n",
       "49005     {\"rings\": [[[-12485167.954, 5160638.807099998]...   5456.779633   \n",
       "49013     {\"rings\": [[[-12273167.1888, 4987644.314599998...  14489.452124   \n",
       "49011     {\"rings\": [[[-12458980.0088, 5032817.971900001...   2889.969718   \n",
       "49027     {\"rings\": [[[-12494338.1205, 4801287.949100003...  29421.994253   \n",
       "49051     {\"rings\": [[[-12400515.3909, 4966751.283200003...   5396.133031   \n",
       "\n",
       "             density  \n",
       "FIPS_STR              \n",
       "49005      24.401572  \n",
       "49013       1.352432  \n",
       "49011     125.495779  \n",
       "49027       0.440997  \n",
       "49051       6.446839  "
      ]
     },
     "execution_count": 40,
     "metadata": {},
     "output_type": "execute_result"
    }
   ],
   "source": [
    "#: Create a new column by assigning the results of a calculation against another column\n",
    "# density_df['sq_km'] = density_df['SHAPE_Area'] / 1000000  #: shapely\n",
    "density_df['sq_km'] = density_df['SHAPE'].apply(lambda x: x.area / 1000000)  #: arcpy\n",
    "density_df['density'] = density_df['POP_LASTCENSUS'] / density_df['sq_km']\n",
    "density_df.head()"
   ]
  },
  {
   "cell_type": "code",
   "execution_count": 41,
   "id": "46ad93de",
   "metadata": {
    "hidden": true
   },
   "outputs": [
    {
     "data": {
      "text/html": [
       "<div>\n",
       "<style scoped>\n",
       "    .dataframe tbody tr th:only-of-type {\n",
       "        vertical-align: middle;\n",
       "    }\n",
       "\n",
       "    .dataframe tbody tr th {\n",
       "        vertical-align: top;\n",
       "    }\n",
       "\n",
       "    .dataframe thead th {\n",
       "        text-align: right;\n",
       "    }\n",
       "</style>\n",
       "<table border=\"1\" class=\"dataframe\">\n",
       "  <thead>\n",
       "    <tr style=\"text-align: right;\">\n",
       "      <th></th>\n",
       "      <th>OBJECTID</th>\n",
       "      <th>COUNTYNBR</th>\n",
       "      <th>ENTITYNBR</th>\n",
       "      <th>ENTITYYR</th>\n",
       "      <th>NAME</th>\n",
       "      <th>FIPS</th>\n",
       "      <th>STATEPLANE</th>\n",
       "      <th>POP_LASTCENSUS</th>\n",
       "      <th>POP_CURRESTIMATE</th>\n",
       "      <th>GlobalID</th>\n",
       "      <th>COLOR4</th>\n",
       "      <th>SHAPE</th>\n",
       "      <th>sq_km</th>\n",
       "      <th>density</th>\n",
       "    </tr>\n",
       "    <tr>\n",
       "      <th>FIPS_STR</th>\n",
       "      <th></th>\n",
       "      <th></th>\n",
       "      <th></th>\n",
       "      <th></th>\n",
       "      <th></th>\n",
       "      <th></th>\n",
       "      <th></th>\n",
       "      <th></th>\n",
       "      <th></th>\n",
       "      <th></th>\n",
       "      <th></th>\n",
       "      <th></th>\n",
       "      <th></th>\n",
       "      <th></th>\n",
       "    </tr>\n",
       "  </thead>\n",
       "  <tbody>\n",
       "    <tr>\n",
       "      <th>49005</th>\n",
       "      <td>1</td>\n",
       "      <td>03</td>\n",
       "      <td>2.010031e+09</td>\n",
       "      <td>2010.0</td>\n",
       "      <td>CACHE</td>\n",
       "      <td>5</td>\n",
       "      <td>North</td>\n",
       "      <td>133154</td>\n",
       "      <td>140173</td>\n",
       "      <td>{AD3015BE-B3C9-4316-B8DC-03AFBB56B443}</td>\n",
       "      <td>2</td>\n",
       "      <td>{\"rings\": [[[-12485167.954, 5160638.807099998]...</td>\n",
       "      <td>5456.779633</td>\n",
       "      <td>24.401572</td>\n",
       "    </tr>\n",
       "    <tr>\n",
       "      <th>49013</th>\n",
       "      <td>2</td>\n",
       "      <td>07</td>\n",
       "      <td>2.010071e+09</td>\n",
       "      <td>2010.0</td>\n",
       "      <td>DUCHESNE</td>\n",
       "      <td>13</td>\n",
       "      <td>Central</td>\n",
       "      <td>19596</td>\n",
       "      <td>20161</td>\n",
       "      <td>{7F6252B7-137F-4F7E-A19A-03C702111509}</td>\n",
       "      <td>4</td>\n",
       "      <td>{\"rings\": [[[-12273167.1888, 4987644.314599998...</td>\n",
       "      <td>14489.452124</td>\n",
       "      <td>1.352432</td>\n",
       "    </tr>\n",
       "    <tr>\n",
       "      <th>49011</th>\n",
       "      <td>3</td>\n",
       "      <td>06</td>\n",
       "      <td>2.010061e+09</td>\n",
       "      <td>2010.0</td>\n",
       "      <td>DAVIS</td>\n",
       "      <td>11</td>\n",
       "      <td>North</td>\n",
       "      <td>362679</td>\n",
       "      <td>369948</td>\n",
       "      <td>{214E29A1-CC25-4867-9148-2817DB623088}</td>\n",
       "      <td>3</td>\n",
       "      <td>{\"rings\": [[[-12458980.0088, 5032817.971900001...</td>\n",
       "      <td>2889.969718</td>\n",
       "      <td>125.495779</td>\n",
       "    </tr>\n",
       "    <tr>\n",
       "      <th>49027</th>\n",
       "      <td>4</td>\n",
       "      <td>14</td>\n",
       "      <td>2.010141e+09</td>\n",
       "      <td>2010.0</td>\n",
       "      <td>MILLARD</td>\n",
       "      <td>27</td>\n",
       "      <td>Central</td>\n",
       "      <td>12975</td>\n",
       "      <td>13330</td>\n",
       "      <td>{BC91C742-7508-4118-8469-297719E423CB}</td>\n",
       "      <td>3</td>\n",
       "      <td>{\"rings\": [[[-12494338.1205, 4801287.949100003...</td>\n",
       "      <td>29421.994253</td>\n",
       "      <td>0.440997</td>\n",
       "    </tr>\n",
       "    <tr>\n",
       "      <th>49051</th>\n",
       "      <td>5</td>\n",
       "      <td>26</td>\n",
       "      <td>2.010261e+09</td>\n",
       "      <td>2010.0</td>\n",
       "      <td>WASATCH</td>\n",
       "      <td>51</td>\n",
       "      <td>Central</td>\n",
       "      <td>34788</td>\n",
       "      <td>36619</td>\n",
       "      <td>{3D0C5C1E-2650-458E-B322-2B86AA473441}</td>\n",
       "      <td>2</td>\n",
       "      <td>{\"rings\": [[[-12400515.3909, 4966751.283200003...</td>\n",
       "      <td>5396.133031</td>\n",
       "      <td>6.446839</td>\n",
       "    </tr>\n",
       "  </tbody>\n",
       "</table>\n",
       "</div>"
      ],
      "text/plain": [
       "          OBJECTID COUNTYNBR     ENTITYNBR  ENTITYYR      NAME  FIPS  \\\n",
       "FIPS_STR                                                               \n",
       "49005            1        03  2.010031e+09    2010.0     CACHE     5   \n",
       "49013            2        07  2.010071e+09    2010.0  DUCHESNE    13   \n",
       "49011            3        06  2.010061e+09    2010.0     DAVIS    11   \n",
       "49027            4        14  2.010141e+09    2010.0   MILLARD    27   \n",
       "49051            5        26  2.010261e+09    2010.0   WASATCH    51   \n",
       "\n",
       "         STATEPLANE  POP_LASTCENSUS  POP_CURRESTIMATE  \\\n",
       "FIPS_STR                                                \n",
       "49005         North          133154            140173   \n",
       "49013       Central           19596             20161   \n",
       "49011         North          362679            369948   \n",
       "49027       Central           12975             13330   \n",
       "49051       Central           34788             36619   \n",
       "\n",
       "                                        GlobalID  COLOR4  \\\n",
       "FIPS_STR                                                   \n",
       "49005     {AD3015BE-B3C9-4316-B8DC-03AFBB56B443}       2   \n",
       "49013     {7F6252B7-137F-4F7E-A19A-03C702111509}       4   \n",
       "49011     {214E29A1-CC25-4867-9148-2817DB623088}       3   \n",
       "49027     {BC91C742-7508-4118-8469-297719E423CB}       3   \n",
       "49051     {3D0C5C1E-2650-458E-B322-2B86AA473441}       2   \n",
       "\n",
       "                                                      SHAPE         sq_km  \\\n",
       "FIPS_STR                                                                    \n",
       "49005     {\"rings\": [[[-12485167.954, 5160638.807099998]...   5456.779633   \n",
       "49013     {\"rings\": [[[-12273167.1888, 4987644.314599998...  14489.452124   \n",
       "49011     {\"rings\": [[[-12458980.0088, 5032817.971900001...   2889.969718   \n",
       "49027     {\"rings\": [[[-12494338.1205, 4801287.949100003...  29421.994253   \n",
       "49051     {\"rings\": [[[-12400515.3909, 4966751.283200003...   5396.133031   \n",
       "\n",
       "             density  \n",
       "FIPS_STR              \n",
       "49005      24.401572  \n",
       "49013       1.352432  \n",
       "49011     125.495779  \n",
       "49027       0.440997  \n",
       "49051       6.446839  "
      ]
     },
     "execution_count": 41,
     "metadata": {},
     "output_type": "execute_result"
    }
   ],
   "source": [
    "#: Change dtype of FIPS column\n",
    "density_df['FIPS'] = density_df['FIPS'].astype(int)\n",
    "density_df.head()"
   ]
  },
  {
   "cell_type": "code",
   "execution_count": 42,
   "id": "6ed1be44",
   "metadata": {
    "hidden": true
   },
   "outputs": [
    {
     "data": {
      "text/html": [
       "<div>\n",
       "<style scoped>\n",
       "    .dataframe tbody tr th:only-of-type {\n",
       "        vertical-align: middle;\n",
       "    }\n",
       "\n",
       "    .dataframe tbody tr th {\n",
       "        vertical-align: top;\n",
       "    }\n",
       "\n",
       "    .dataframe thead th {\n",
       "        text-align: right;\n",
       "    }\n",
       "</style>\n",
       "<table border=\"1\" class=\"dataframe\">\n",
       "  <thead>\n",
       "    <tr style=\"text-align: right;\">\n",
       "      <th></th>\n",
       "      <th>OBJECTID</th>\n",
       "      <th>COUNTYNBR</th>\n",
       "      <th>ENTITYNBR</th>\n",
       "      <th>ENTITYYR</th>\n",
       "      <th>NAME</th>\n",
       "      <th>FIPS</th>\n",
       "      <th>STATEPLANE</th>\n",
       "      <th>pop_2020</th>\n",
       "      <th>POP_CURRESTIMATE</th>\n",
       "      <th>GlobalID</th>\n",
       "      <th>COLOR4</th>\n",
       "      <th>SHAPE</th>\n",
       "      <th>sq_km</th>\n",
       "      <th>population_per_sq_km</th>\n",
       "    </tr>\n",
       "    <tr>\n",
       "      <th>FIPS_STR</th>\n",
       "      <th></th>\n",
       "      <th></th>\n",
       "      <th></th>\n",
       "      <th></th>\n",
       "      <th></th>\n",
       "      <th></th>\n",
       "      <th></th>\n",
       "      <th></th>\n",
       "      <th></th>\n",
       "      <th></th>\n",
       "      <th></th>\n",
       "      <th></th>\n",
       "      <th></th>\n",
       "      <th></th>\n",
       "    </tr>\n",
       "  </thead>\n",
       "  <tbody>\n",
       "    <tr>\n",
       "      <th>49005</th>\n",
       "      <td>1</td>\n",
       "      <td>03</td>\n",
       "      <td>2.010031e+09</td>\n",
       "      <td>2010.0</td>\n",
       "      <td>CACHE</td>\n",
       "      <td>5</td>\n",
       "      <td>North</td>\n",
       "      <td>133154</td>\n",
       "      <td>140173</td>\n",
       "      <td>{AD3015BE-B3C9-4316-B8DC-03AFBB56B443}</td>\n",
       "      <td>2</td>\n",
       "      <td>{\"rings\": [[[-12485167.954, 5160638.807099998]...</td>\n",
       "      <td>5456.779633</td>\n",
       "      <td>24.401572</td>\n",
       "    </tr>\n",
       "    <tr>\n",
       "      <th>49013</th>\n",
       "      <td>2</td>\n",
       "      <td>07</td>\n",
       "      <td>2.010071e+09</td>\n",
       "      <td>2010.0</td>\n",
       "      <td>DUCHESNE</td>\n",
       "      <td>13</td>\n",
       "      <td>Central</td>\n",
       "      <td>19596</td>\n",
       "      <td>20161</td>\n",
       "      <td>{7F6252B7-137F-4F7E-A19A-03C702111509}</td>\n",
       "      <td>4</td>\n",
       "      <td>{\"rings\": [[[-12273167.1888, 4987644.314599998...</td>\n",
       "      <td>14489.452124</td>\n",
       "      <td>1.352432</td>\n",
       "    </tr>\n",
       "    <tr>\n",
       "      <th>49011</th>\n",
       "      <td>3</td>\n",
       "      <td>06</td>\n",
       "      <td>2.010061e+09</td>\n",
       "      <td>2010.0</td>\n",
       "      <td>DAVIS</td>\n",
       "      <td>11</td>\n",
       "      <td>North</td>\n",
       "      <td>362679</td>\n",
       "      <td>369948</td>\n",
       "      <td>{214E29A1-CC25-4867-9148-2817DB623088}</td>\n",
       "      <td>3</td>\n",
       "      <td>{\"rings\": [[[-12458980.0088, 5032817.971900001...</td>\n",
       "      <td>2889.969718</td>\n",
       "      <td>125.495779</td>\n",
       "    </tr>\n",
       "    <tr>\n",
       "      <th>49027</th>\n",
       "      <td>4</td>\n",
       "      <td>14</td>\n",
       "      <td>2.010141e+09</td>\n",
       "      <td>2010.0</td>\n",
       "      <td>MILLARD</td>\n",
       "      <td>27</td>\n",
       "      <td>Central</td>\n",
       "      <td>12975</td>\n",
       "      <td>13330</td>\n",
       "      <td>{BC91C742-7508-4118-8469-297719E423CB}</td>\n",
       "      <td>3</td>\n",
       "      <td>{\"rings\": [[[-12494338.1205, 4801287.949100003...</td>\n",
       "      <td>29421.994253</td>\n",
       "      <td>0.440997</td>\n",
       "    </tr>\n",
       "    <tr>\n",
       "      <th>49051</th>\n",
       "      <td>5</td>\n",
       "      <td>26</td>\n",
       "      <td>2.010261e+09</td>\n",
       "      <td>2010.0</td>\n",
       "      <td>WASATCH</td>\n",
       "      <td>51</td>\n",
       "      <td>Central</td>\n",
       "      <td>34788</td>\n",
       "      <td>36619</td>\n",
       "      <td>{3D0C5C1E-2650-458E-B322-2B86AA473441}</td>\n",
       "      <td>2</td>\n",
       "      <td>{\"rings\": [[[-12400515.3909, 4966751.283200003...</td>\n",
       "      <td>5396.133031</td>\n",
       "      <td>6.446839</td>\n",
       "    </tr>\n",
       "  </tbody>\n",
       "</table>\n",
       "</div>"
      ],
      "text/plain": [
       "          OBJECTID COUNTYNBR     ENTITYNBR  ENTITYYR      NAME  FIPS  \\\n",
       "FIPS_STR                                                               \n",
       "49005            1        03  2.010031e+09    2010.0     CACHE     5   \n",
       "49013            2        07  2.010071e+09    2010.0  DUCHESNE    13   \n",
       "49011            3        06  2.010061e+09    2010.0     DAVIS    11   \n",
       "49027            4        14  2.010141e+09    2010.0   MILLARD    27   \n",
       "49051            5        26  2.010261e+09    2010.0   WASATCH    51   \n",
       "\n",
       "         STATEPLANE  pop_2020  POP_CURRESTIMATE  \\\n",
       "FIPS_STR                                          \n",
       "49005         North    133154            140173   \n",
       "49013       Central     19596             20161   \n",
       "49011         North    362679            369948   \n",
       "49027       Central     12975             13330   \n",
       "49051       Central     34788             36619   \n",
       "\n",
       "                                        GlobalID  COLOR4  \\\n",
       "FIPS_STR                                                   \n",
       "49005     {AD3015BE-B3C9-4316-B8DC-03AFBB56B443}       2   \n",
       "49013     {7F6252B7-137F-4F7E-A19A-03C702111509}       4   \n",
       "49011     {214E29A1-CC25-4867-9148-2817DB623088}       3   \n",
       "49027     {BC91C742-7508-4118-8469-297719E423CB}       3   \n",
       "49051     {3D0C5C1E-2650-458E-B322-2B86AA473441}       2   \n",
       "\n",
       "                                                      SHAPE         sq_km  \\\n",
       "FIPS_STR                                                                    \n",
       "49005     {\"rings\": [[[-12485167.954, 5160638.807099998]...   5456.779633   \n",
       "49013     {\"rings\": [[[-12273167.1888, 4987644.314599998...  14489.452124   \n",
       "49011     {\"rings\": [[[-12458980.0088, 5032817.971900001...   2889.969718   \n",
       "49027     {\"rings\": [[[-12494338.1205, 4801287.949100003...  29421.994253   \n",
       "49051     {\"rings\": [[[-12400515.3909, 4966751.283200003...   5396.133031   \n",
       "\n",
       "          population_per_sq_km  \n",
       "FIPS_STR                        \n",
       "49005                24.401572  \n",
       "49013                 1.352432  \n",
       "49011               125.495779  \n",
       "49027                 0.440997  \n",
       "49051                 6.446839  "
      ]
     },
     "execution_count": 42,
     "metadata": {},
     "output_type": "execute_result"
    }
   ],
   "source": [
    "#: Rename columns with .rename() and a dictionary\n",
    "density_df.rename(columns={'density': 'population_per_sq_km', 'POP_LASTCENSUS': 'pop_2020'}, inplace=True)\n",
    "density_df.head()"
   ]
  },
  {
   "cell_type": "code",
   "execution_count": 43,
   "id": "c1cea129",
   "metadata": {
    "hidden": true,
    "scrolled": true
   },
   "outputs": [
    {
     "data": {
      "text/html": [
       "<div>\n",
       "<style scoped>\n",
       "    .dataframe tbody tr th:only-of-type {\n",
       "        vertical-align: middle;\n",
       "    }\n",
       "\n",
       "    .dataframe tbody tr th {\n",
       "        vertical-align: top;\n",
       "    }\n",
       "\n",
       "    .dataframe thead th {\n",
       "        text-align: right;\n",
       "    }\n",
       "</style>\n",
       "<table border=\"1\" class=\"dataframe\">\n",
       "  <thead>\n",
       "    <tr style=\"text-align: right;\">\n",
       "      <th></th>\n",
       "      <th>population_per_sq_km</th>\n",
       "      <th>NAME</th>\n",
       "      <th>ENTITYYR</th>\n",
       "      <th>STATEPLANE</th>\n",
       "    </tr>\n",
       "    <tr>\n",
       "      <th>FIPS_STR</th>\n",
       "      <th></th>\n",
       "      <th></th>\n",
       "      <th></th>\n",
       "      <th></th>\n",
       "    </tr>\n",
       "  </thead>\n",
       "  <tbody>\n",
       "    <tr>\n",
       "      <th>49005</th>\n",
       "      <td>24.401572</td>\n",
       "      <td>CACHE</td>\n",
       "      <td>2010.0</td>\n",
       "      <td>North</td>\n",
       "    </tr>\n",
       "    <tr>\n",
       "      <th>49013</th>\n",
       "      <td>1.352432</td>\n",
       "      <td>DUCHESNE</td>\n",
       "      <td>2010.0</td>\n",
       "      <td>Central</td>\n",
       "    </tr>\n",
       "    <tr>\n",
       "      <th>49011</th>\n",
       "      <td>125.495779</td>\n",
       "      <td>DAVIS</td>\n",
       "      <td>2010.0</td>\n",
       "      <td>North</td>\n",
       "    </tr>\n",
       "    <tr>\n",
       "      <th>49027</th>\n",
       "      <td>0.440997</td>\n",
       "      <td>MILLARD</td>\n",
       "      <td>2010.0</td>\n",
       "      <td>Central</td>\n",
       "    </tr>\n",
       "    <tr>\n",
       "      <th>49051</th>\n",
       "      <td>6.446839</td>\n",
       "      <td>WASATCH</td>\n",
       "      <td>2010.0</td>\n",
       "      <td>Central</td>\n",
       "    </tr>\n",
       "  </tbody>\n",
       "</table>\n",
       "</div>"
      ],
      "text/plain": [
       "          population_per_sq_km      NAME  ENTITYYR STATEPLANE\n",
       "FIPS_STR                                                     \n",
       "49005                24.401572     CACHE    2010.0      North\n",
       "49013                 1.352432  DUCHESNE    2010.0    Central\n",
       "49011               125.495779     DAVIS    2010.0      North\n",
       "49027                 0.440997   MILLARD    2010.0    Central\n",
       "49051                 6.446839   WASATCH    2010.0    Central"
      ]
     },
     "execution_count": 43,
     "metadata": {},
     "output_type": "execute_result"
    }
   ],
   "source": [
    "#: Subset down to just the desired columns; reindex doesn't have inplace option\n",
    "density_df = density_df.reindex(columns=['population_per_sq_km', 'NAME', 'ENTITYYR', 'STATEPLANE'])\n",
    "density_df.head()"
   ]
  },
  {
   "cell_type": "code",
   "execution_count": 44,
   "id": "d98182be",
   "metadata": {
    "hidden": true
   },
   "outputs": [
    {
     "data": {
      "text/html": [
       "<div>\n",
       "<style scoped>\n",
       "    .dataframe tbody tr th:only-of-type {\n",
       "        vertical-align: middle;\n",
       "    }\n",
       "\n",
       "    .dataframe tbody tr th {\n",
       "        vertical-align: top;\n",
       "    }\n",
       "\n",
       "    .dataframe thead th {\n",
       "        text-align: right;\n",
       "    }\n",
       "</style>\n",
       "<table border=\"1\" class=\"dataframe\">\n",
       "  <thead>\n",
       "    <tr style=\"text-align: right;\">\n",
       "      <th></th>\n",
       "      <th>population_per_sq_km</th>\n",
       "      <th>NAME</th>\n",
       "      <th>ENTITYYR</th>\n",
       "    </tr>\n",
       "    <tr>\n",
       "      <th>FIPS_STR</th>\n",
       "      <th></th>\n",
       "      <th></th>\n",
       "      <th></th>\n",
       "    </tr>\n",
       "  </thead>\n",
       "  <tbody>\n",
       "    <tr>\n",
       "      <th>49005</th>\n",
       "      <td>24.401572</td>\n",
       "      <td>CACHE</td>\n",
       "      <td>2010.0</td>\n",
       "    </tr>\n",
       "    <tr>\n",
       "      <th>49013</th>\n",
       "      <td>1.352432</td>\n",
       "      <td>DUCHESNE</td>\n",
       "      <td>2010.0</td>\n",
       "    </tr>\n",
       "    <tr>\n",
       "      <th>49011</th>\n",
       "      <td>125.495779</td>\n",
       "      <td>DAVIS</td>\n",
       "      <td>2010.0</td>\n",
       "    </tr>\n",
       "    <tr>\n",
       "      <th>49027</th>\n",
       "      <td>0.440997</td>\n",
       "      <td>MILLARD</td>\n",
       "      <td>2010.0</td>\n",
       "    </tr>\n",
       "    <tr>\n",
       "      <th>49051</th>\n",
       "      <td>6.446839</td>\n",
       "      <td>WASATCH</td>\n",
       "      <td>2010.0</td>\n",
       "    </tr>\n",
       "  </tbody>\n",
       "</table>\n",
       "</div>"
      ],
      "text/plain": [
       "          population_per_sq_km      NAME  ENTITYYR\n",
       "FIPS_STR                                          \n",
       "49005                24.401572     CACHE    2010.0\n",
       "49013                 1.352432  DUCHESNE    2010.0\n",
       "49011               125.495779     DAVIS    2010.0\n",
       "49027                 0.440997   MILLARD    2010.0\n",
       "49051                 6.446839   WASATCH    2010.0"
      ]
     },
     "execution_count": 44,
     "metadata": {},
     "output_type": "execute_result"
    }
   ],
   "source": [
    "#: Another way to delete individual columns\n",
    "del density_df['STATEPLANE']\n",
    "density_df.head()"
   ]
  },
  {
   "cell_type": "code",
   "execution_count": 45,
   "id": "5241f065",
   "metadata": {
    "hidden": true
   },
   "outputs": [
    {
     "data": {
      "text/html": [
       "<div>\n",
       "<style scoped>\n",
       "    .dataframe tbody tr th:only-of-type {\n",
       "        vertical-align: middle;\n",
       "    }\n",
       "\n",
       "    .dataframe tbody tr th {\n",
       "        vertical-align: top;\n",
       "    }\n",
       "\n",
       "    .dataframe thead th {\n",
       "        text-align: right;\n",
       "    }\n",
       "</style>\n",
       "<table border=\"1\" class=\"dataframe\">\n",
       "  <thead>\n",
       "    <tr style=\"text-align: right;\">\n",
       "      <th></th>\n",
       "      <th>population_per_sq_km</th>\n",
       "      <th>ENTITYYR</th>\n",
       "    </tr>\n",
       "    <tr>\n",
       "      <th>FIPS_STR</th>\n",
       "      <th></th>\n",
       "      <th></th>\n",
       "    </tr>\n",
       "  </thead>\n",
       "  <tbody>\n",
       "    <tr>\n",
       "      <th>49005</th>\n",
       "      <td>24.401572</td>\n",
       "      <td>2010.0</td>\n",
       "    </tr>\n",
       "    <tr>\n",
       "      <th>49013</th>\n",
       "      <td>1.352432</td>\n",
       "      <td>2010.0</td>\n",
       "    </tr>\n",
       "    <tr>\n",
       "      <th>49011</th>\n",
       "      <td>125.495779</td>\n",
       "      <td>2010.0</td>\n",
       "    </tr>\n",
       "    <tr>\n",
       "      <th>49027</th>\n",
       "      <td>0.440997</td>\n",
       "      <td>2010.0</td>\n",
       "    </tr>\n",
       "    <tr>\n",
       "      <th>49051</th>\n",
       "      <td>6.446839</td>\n",
       "      <td>2010.0</td>\n",
       "    </tr>\n",
       "  </tbody>\n",
       "</table>\n",
       "</div>"
      ],
      "text/plain": [
       "          population_per_sq_km  ENTITYYR\n",
       "FIPS_STR                                \n",
       "49005                24.401572    2010.0\n",
       "49013                 1.352432    2010.0\n",
       "49011               125.495779    2010.0\n",
       "49027                 0.440997    2010.0\n",
       "49051                 6.446839    2010.0"
      ]
     },
     "execution_count": 45,
     "metadata": {},
     "output_type": "execute_result"
    }
   ],
   "source": [
    "#: Or .drop, which returns a new dataframe\n",
    "density_df.drop('NAME', axis='columns').head()"
   ]
  },
  {
   "cell_type": "code",
   "execution_count": 46,
   "id": "83a93a85",
   "metadata": {
    "hidden": true
   },
   "outputs": [
    {
     "data": {
      "text/html": [
       "<div>\n",
       "<style scoped>\n",
       "    .dataframe tbody tr th:only-of-type {\n",
       "        vertical-align: middle;\n",
       "    }\n",
       "\n",
       "    .dataframe tbody tr th {\n",
       "        vertical-align: top;\n",
       "    }\n",
       "\n",
       "    .dataframe thead th {\n",
       "        text-align: right;\n",
       "    }\n",
       "</style>\n",
       "<table border=\"1\" class=\"dataframe\">\n",
       "  <thead>\n",
       "    <tr style=\"text-align: right;\">\n",
       "      <th></th>\n",
       "      <th>population_per_sq_km</th>\n",
       "      <th>NAME</th>\n",
       "      <th>ENTITYYR</th>\n",
       "    </tr>\n",
       "    <tr>\n",
       "      <th>FIPS_STR</th>\n",
       "      <th></th>\n",
       "      <th></th>\n",
       "      <th></th>\n",
       "    </tr>\n",
       "  </thead>\n",
       "  <tbody>\n",
       "    <tr>\n",
       "      <th>49005</th>\n",
       "      <td>24.401572</td>\n",
       "      <td>CACHE</td>\n",
       "      <td>2020</td>\n",
       "    </tr>\n",
       "    <tr>\n",
       "      <th>49013</th>\n",
       "      <td>1.352432</td>\n",
       "      <td>DUCHESNE</td>\n",
       "      <td>2020</td>\n",
       "    </tr>\n",
       "    <tr>\n",
       "      <th>49011</th>\n",
       "      <td>125.495779</td>\n",
       "      <td>DAVIS</td>\n",
       "      <td>2020</td>\n",
       "    </tr>\n",
       "    <tr>\n",
       "      <th>49027</th>\n",
       "      <td>0.440997</td>\n",
       "      <td>MILLARD</td>\n",
       "      <td>2020</td>\n",
       "    </tr>\n",
       "    <tr>\n",
       "      <th>49051</th>\n",
       "      <td>6.446839</td>\n",
       "      <td>WASATCH</td>\n",
       "      <td>2020</td>\n",
       "    </tr>\n",
       "  </tbody>\n",
       "</table>\n",
       "</div>"
      ],
      "text/plain": [
       "          population_per_sq_km      NAME  ENTITYYR\n",
       "FIPS_STR                                          \n",
       "49005                24.401572     CACHE      2020\n",
       "49013                 1.352432  DUCHESNE      2020\n",
       "49011               125.495779     DAVIS      2020\n",
       "49027                 0.440997   MILLARD      2020\n",
       "49051                 6.446839   WASATCH      2020"
      ]
     },
     "execution_count": 46,
     "metadata": {},
     "output_type": "execute_result"
    }
   ],
   "source": [
    "#: Update ENTITYYR\n",
    "density_df['ENTITYYR'] = 2020\n",
    "density_df.head()"
   ]
  },
  {
   "cell_type": "code",
   "execution_count": 47,
   "id": "76fd9d48",
   "metadata": {
    "hidden": true,
    "scrolled": true
   },
   "outputs": [
    {
     "name": "stdout",
     "output_type": "stream",
     "text": [
      "<class 'pandas.core.frame.DataFrame'>\n",
      "Index: 29 entries, 49005 to 49049\n",
      "Data columns (total 3 columns):\n",
      " #   Column                Non-Null Count  Dtype  \n",
      "---  ------                --------------  -----  \n",
      " 0   population_per_sq_km  29 non-null     float64\n",
      " 1   NAME                  29 non-null     object \n",
      " 2   ENTITYYR              29 non-null     int64  \n",
      "dtypes: float64(1), int64(1), object(1)\n",
      "memory usage: 2.0+ KB\n"
     ]
    }
   ],
   "source": [
    "density_df.info()"
   ]
  },
  {
   "cell_type": "markdown",
   "id": "65743288",
   "metadata": {
    "hidden": true
   },
   "source": [
    "## Working with strings"
   ]
  },
  {
   "cell_type": "code",
   "execution_count": 48,
   "id": "a3fb44d6",
   "metadata": {
    "hidden": true,
    "scrolled": true
   },
   "outputs": [
    {
     "data": {
      "text/html": [
       "<div>\n",
       "<style scoped>\n",
       "    .dataframe tbody tr th:only-of-type {\n",
       "        vertical-align: middle;\n",
       "    }\n",
       "\n",
       "    .dataframe tbody tr th {\n",
       "        vertical-align: top;\n",
       "    }\n",
       "\n",
       "    .dataframe thead th {\n",
       "        text-align: right;\n",
       "    }\n",
       "</style>\n",
       "<table border=\"1\" class=\"dataframe\">\n",
       "  <thead>\n",
       "    <tr style=\"text-align: right;\">\n",
       "      <th></th>\n",
       "      <th>population_per_sq_km</th>\n",
       "      <th>NAME</th>\n",
       "      <th>ENTITYYR</th>\n",
       "    </tr>\n",
       "    <tr>\n",
       "      <th>FIPS_STR</th>\n",
       "      <th></th>\n",
       "      <th></th>\n",
       "      <th></th>\n",
       "    </tr>\n",
       "  </thead>\n",
       "  <tbody>\n",
       "    <tr>\n",
       "      <th>49005</th>\n",
       "      <td>24.401572</td>\n",
       "      <td>Cache County</td>\n",
       "      <td>2020</td>\n",
       "    </tr>\n",
       "    <tr>\n",
       "      <th>49013</th>\n",
       "      <td>1.352432</td>\n",
       "      <td>Duchesne County</td>\n",
       "      <td>2020</td>\n",
       "    </tr>\n",
       "    <tr>\n",
       "      <th>49011</th>\n",
       "      <td>125.495779</td>\n",
       "      <td>Davis County</td>\n",
       "      <td>2020</td>\n",
       "    </tr>\n",
       "    <tr>\n",
       "      <th>49027</th>\n",
       "      <td>0.440997</td>\n",
       "      <td>Millard County</td>\n",
       "      <td>2020</td>\n",
       "    </tr>\n",
       "    <tr>\n",
       "      <th>49051</th>\n",
       "      <td>6.446839</td>\n",
       "      <td>Wasatch County</td>\n",
       "      <td>2020</td>\n",
       "    </tr>\n",
       "  </tbody>\n",
       "</table>\n",
       "</div>"
      ],
      "text/plain": [
       "          population_per_sq_km             NAME  ENTITYYR\n",
       "FIPS_STR                                                 \n",
       "49005                24.401572     Cache County      2020\n",
       "49013                 1.352432  Duchesne County      2020\n",
       "49011               125.495779     Davis County      2020\n",
       "49027                 0.440997   Millard County      2020\n",
       "49051                 6.446839   Wasatch County      2020"
      ]
     },
     "execution_count": 48,
     "metadata": {},
     "output_type": "execute_result"
    }
   ],
   "source": [
    "#: Use .str to access string methods of a series\n",
    "density_df['NAME'] = density_df['NAME'].str.title() + ' County'\n",
    "density_df.head()"
   ]
  },
  {
   "cell_type": "code",
   "execution_count": 49,
   "id": "f95fa109",
   "metadata": {
    "hidden": true
   },
   "outputs": [
    {
     "data": {
      "text/plain": [
       "FIPS_STR\n",
       "49005       Cache\n",
       "49013    Duchesne\n",
       "49011       Davis\n",
       "49027     Millard\n",
       "49051     Wasatch\n",
       "Name: NAME, dtype: object"
      ]
     },
     "execution_count": 49,
     "metadata": {},
     "output_type": "execute_result"
    }
   ],
   "source": [
    "#: Chain multiple .str calls together to get the first result from a split operation\n",
    "density_df['NAME'].str.split().str[0].head()"
   ]
  },
  {
   "cell_type": "markdown",
   "id": "ecaeaabd",
   "metadata": {
    "heading_collapsed": true
   },
   "source": [
    "# Working with Rows: `.apply()`"
   ]
  },
  {
   "cell_type": "code",
   "execution_count": 50,
   "id": "e0d22a36",
   "metadata": {
    "hidden": true
   },
   "outputs": [
    {
     "name": "stdout",
     "output_type": "stream",
     "text": [
      "11.0\n",
      "57.0\n",
      "35.0\n",
      "49.0\n"
     ]
    }
   ],
   "source": [
    "#: Get the values of each row as a named tuple- \"fastest\" iteration if you absolutely have to iterate\n",
    "#: Find the FIPS value of all counties with population over 200,000\n",
    "for row in counties_df.itertuples():\n",
    "    if row.POP_LASTCENSUS > 200000:\n",
    "        print(row.FIPS)"
   ]
  },
  {
   "cell_type": "markdown",
   "id": "00839eca",
   "metadata": {
    "hidden": true
   },
   "source": [
    "Iterating over the rows of a dataframe is like using using a a set of pliers to drive in a nail. It can be done, but it's slow and everyone will tell you to use a hammer instead.\n",
    "\n",
    "![not a hammer](assets/pliers_hammer.png)\n",
    "\n",
    "Instead, change your thought process. Think about how your output could be a expressed as a **function of other columns** within the dataframe. Using pandas' built-in vectorized functions is much faster and ultimately more readable."
   ]
  },
  {
   "cell_type": "code",
   "execution_count": 51,
   "id": "2120c076",
   "metadata": {
    "hidden": true
   },
   "outputs": [
    {
     "data": {
      "text/plain": [
       "[11.0, 57.0, 35.0, 49.0]"
      ]
     },
     "execution_count": 51,
     "metadata": {},
     "output_type": "execute_result"
    }
   ],
   "source": [
    "#: use filtering and lists\n",
    "list(counties_df[counties_df['POP_LASTCENSUS'] > 200000]['FIPS'])"
   ]
  },
  {
   "cell_type": "markdown",
   "id": "4c19bd49",
   "metadata": {
    "hidden": true
   },
   "source": [
    "## Use `.apply` Instead"
   ]
  },
  {
   "cell_type": "markdown",
   "id": "441ee56c",
   "metadata": {
    "hidden": true
   },
   "source": [
    "The `.apply()` method can be used to perform an aribtrary operation against data in a DataFrame. This is a shift in thinking: instead of extracting the data _from_ the dataframe to pass to another function, you pass the _function_ to the dataframe. This is much faster than iterating over the rows to get individual elements.\n",
    "\n",
    "`.apply` sends a series of data to the specified function and combines the resulting data. If called directly on a series, it just sends that data. If called on a DataFrame, it either sends each column as the series of values in each row or each row as the series of values in each column. \n",
    "\n",
    "The function passed via `.apply` can either **aggregate** the data (create a new output that is a function of the inputs) or **transform** the data (create a new element for eact input element). "
   ]
  },
  {
   "cell_type": "code",
   "execution_count": 52,
   "id": "6d8f0175",
   "metadata": {
    "hidden": true,
    "scrolled": true
   },
   "outputs": [
    {
     "data": {
      "text/html": [
       "<div>\n",
       "<style scoped>\n",
       "    .dataframe tbody tr th:only-of-type {\n",
       "        vertical-align: middle;\n",
       "    }\n",
       "\n",
       "    .dataframe tbody tr th {\n",
       "        vertical-align: top;\n",
       "    }\n",
       "\n",
       "    .dataframe thead th {\n",
       "        text-align: right;\n",
       "    }\n",
       "</style>\n",
       "<table border=\"1\" class=\"dataframe\">\n",
       "  <thead>\n",
       "    <tr style=\"text-align: right;\">\n",
       "      <th></th>\n",
       "      <th>POP_LASTCENSUS</th>\n",
       "      <th>POP_CURRESTIMATE</th>\n",
       "    </tr>\n",
       "    <tr>\n",
       "      <th>FIPS_STR</th>\n",
       "      <th></th>\n",
       "      <th></th>\n",
       "    </tr>\n",
       "  </thead>\n",
       "  <tbody>\n",
       "    <tr>\n",
       "      <th>49005</th>\n",
       "      <td>133154</td>\n",
       "      <td>140173</td>\n",
       "    </tr>\n",
       "    <tr>\n",
       "      <th>49013</th>\n",
       "      <td>19596</td>\n",
       "      <td>20161</td>\n",
       "    </tr>\n",
       "    <tr>\n",
       "      <th>49011</th>\n",
       "      <td>362679</td>\n",
       "      <td>369948</td>\n",
       "    </tr>\n",
       "    <tr>\n",
       "      <th>49027</th>\n",
       "      <td>12975</td>\n",
       "      <td>13330</td>\n",
       "    </tr>\n",
       "    <tr>\n",
       "      <th>49051</th>\n",
       "      <td>34788</td>\n",
       "      <td>36619</td>\n",
       "    </tr>\n",
       "  </tbody>\n",
       "</table>\n",
       "</div>"
      ],
      "text/plain": [
       "          POP_LASTCENSUS  POP_CURRESTIMATE\n",
       "FIPS_STR                                  \n",
       "49005             133154            140173\n",
       "49013              19596             20161\n",
       "49011             362679            369948\n",
       "49027              12975             13330\n",
       "49051              34788             36619"
      ]
     },
     "execution_count": 52,
     "metadata": {},
     "output_type": "execute_result"
    }
   ],
   "source": [
    "#: Get some numeric data to work on\n",
    "county_pop_df = counties_df[['POP_LASTCENSUS', 'POP_CURRESTIMATE']]\n",
    "county_pop_df.head()"
   ]
  },
  {
   "cell_type": "markdown",
   "id": "7852951a",
   "metadata": {
    "hidden": true
   },
   "source": [
    "## Aggrevating Aggregation"
   ]
  },
  {
   "cell_type": "markdown",
   "id": "196d62f6",
   "metadata": {
    "hidden": true
   },
   "source": [
    "An **agregation** function takes a set of data and computes a value for each set. The output will have one dimension less than the input. Applying to a dataframe will result in a series, like taking the average of values:"
   ]
  },
  {
   "cell_type": "code",
   "execution_count": 53,
   "id": "fe6ed281",
   "metadata": {
    "hidden": true
   },
   "outputs": [
    {
     "data": {
      "text/plain": [
       "POP_LASTCENSUS      112814.344828\n",
       "POP_CURRESTIMATE    116579.310345\n",
       "dtype: float64"
      ]
     },
     "execution_count": 53,
     "metadata": {},
     "output_type": "execute_result"
    }
   ],
   "source": [
    "county_pop_df.apply(np.mean)  #: default is axis='rows', which applies the function to every row in a column"
   ]
  },
  {
   "cell_type": "code",
   "execution_count": 54,
   "id": "33252ead",
   "metadata": {
    "hidden": true,
    "scrolled": false
   },
   "outputs": [
    {
     "data": {
      "text/plain": [
       "FIPS_STR\n",
       "49005    136663.5\n",
       "49013     19878.5\n",
       "49011    366313.5\n",
       "49027     13152.5\n",
       "49051     35703.5\n",
       "dtype: float64"
      ]
     },
     "execution_count": 54,
     "metadata": {},
     "output_type": "execute_result"
    }
   ],
   "source": [
    "county_pop_df.apply(np.mean, axis='columns').head()  #: change to pass columns (applied along the columns)"
   ]
  },
  {
   "cell_type": "markdown",
   "id": "a6864944",
   "metadata": {
    "hidden": true
   },
   "source": [
    "Note the differences with `axis='columns'` in aggregating functions. This parameter controls the contents of the series that is passed to the function. \n",
    "\n",
    "The default (`axis='rows'`) sends a series containing all the row values in a column to the function, repeating for however many columns there are. Thus, the function is applied along the rows."
   ]
  },
  {
   "cell_type": "markdown",
   "id": "c94b016e",
   "metadata": {
    "hidden": true
   },
   "source": [
    "![aggreation/rows](assets/apply_aggregation_rows.png)"
   ]
  },
  {
   "cell_type": "markdown",
   "id": "acb5ef8e",
   "metadata": {
    "hidden": true
   },
   "source": [
    "Using `axis='columns'` instead sends a series containing all the columns to the function, repeating for however many rows are in the dataframe. Thus, the function is applied along the columns."
   ]
  },
  {
   "cell_type": "markdown",
   "id": "16bceffc",
   "metadata": {
    "hidden": true
   },
   "source": [
    "![apply/columns](assets/apply_aggregation_columns.png)"
   ]
  },
  {
   "cell_type": "markdown",
   "id": "ce81b3bf",
   "metadata": {
    "hidden": true
   },
   "source": [
    " ## Transcontinental Transformations"
   ]
  },
  {
   "cell_type": "markdown",
   "id": "cce554e3",
   "metadata": {
    "hidden": true
   },
   "source": [
    "A **transformation** function returns an output for every input and thus has the same dimensions as the input, such as taking the square root of all the values in the dataframe:"
   ]
  },
  {
   "cell_type": "code",
   "execution_count": 55,
   "id": "932391a6",
   "metadata": {
    "hidden": true,
    "scrolled": false
   },
   "outputs": [
    {
     "data": {
      "text/html": [
       "<div>\n",
       "<style scoped>\n",
       "    .dataframe tbody tr th:only-of-type {\n",
       "        vertical-align: middle;\n",
       "    }\n",
       "\n",
       "    .dataframe tbody tr th {\n",
       "        vertical-align: top;\n",
       "    }\n",
       "\n",
       "    .dataframe thead th {\n",
       "        text-align: right;\n",
       "    }\n",
       "</style>\n",
       "<table border=\"1\" class=\"dataframe\">\n",
       "  <thead>\n",
       "    <tr style=\"text-align: right;\">\n",
       "      <th></th>\n",
       "      <th>POP_LASTCENSUS</th>\n",
       "      <th>POP_CURRESTIMATE</th>\n",
       "    </tr>\n",
       "    <tr>\n",
       "      <th>FIPS_STR</th>\n",
       "      <th></th>\n",
       "      <th></th>\n",
       "    </tr>\n",
       "  </thead>\n",
       "  <tbody>\n",
       "    <tr>\n",
       "      <th>49005</th>\n",
       "      <td>364.902727</td>\n",
       "      <td>374.396848</td>\n",
       "    </tr>\n",
       "    <tr>\n",
       "      <th>49013</th>\n",
       "      <td>139.985714</td>\n",
       "      <td>141.989436</td>\n",
       "    </tr>\n",
       "    <tr>\n",
       "      <th>49011</th>\n",
       "      <td>602.228362</td>\n",
       "      <td>608.233508</td>\n",
       "    </tr>\n",
       "    <tr>\n",
       "      <th>49027</th>\n",
       "      <td>113.907857</td>\n",
       "      <td>115.455619</td>\n",
       "    </tr>\n",
       "    <tr>\n",
       "      <th>49051</th>\n",
       "      <td>186.515415</td>\n",
       "      <td>191.360916</td>\n",
       "    </tr>\n",
       "  </tbody>\n",
       "</table>\n",
       "</div>"
      ],
      "text/plain": [
       "          POP_LASTCENSUS  POP_CURRESTIMATE\n",
       "FIPS_STR                                  \n",
       "49005         364.902727        374.396848\n",
       "49013         139.985714        141.989436\n",
       "49011         602.228362        608.233508\n",
       "49027         113.907857        115.455619\n",
       "49051         186.515415        191.360916"
      ]
     },
     "execution_count": 55,
     "metadata": {},
     "output_type": "execute_result"
    }
   ],
   "source": [
    "county_pop_df.apply(np.sqrt).head()"
   ]
  },
  {
   "cell_type": "markdown",
   "id": "3fdd8be8",
   "metadata": {
    "hidden": true
   },
   "source": [
    "![apply/transformation](assets/apply_transformation_columns.png)"
   ]
  },
  {
   "cell_type": "markdown",
   "id": "6db1b9af",
   "metadata": {
    "hidden": true
   },
   "source": [
    "## Using `lambda` Functions for Arbitrary Operations"
   ]
  },
  {
   "cell_type": "markdown",
   "id": "183a1120",
   "metadata": {
    "hidden": true
   },
   "source": [
    "`lambda` functions are small, one-line functions that don't use the normal `def function_name(args):` syntax.\n",
    "\n",
    "They are useful for creating simple bits of code you can use with `.apply` without having to declare a normal function elsewhere in your code."
   ]
  },
  {
   "cell_type": "code",
   "execution_count": 56,
   "id": "df8bb53c",
   "metadata": {
    "hidden": true
   },
   "outputs": [
    {
     "data": {
      "text/plain": [
       "FIPS_STR\n",
       "49005     5456.779633\n",
       "49013    14489.452124\n",
       "49011     2889.969718\n",
       "49027    29421.994253\n",
       "49051     5396.133031\n",
       "Name: SHAPE, dtype: float64"
      ]
     },
     "execution_count": 56,
     "metadata": {},
     "output_type": "execute_result"
    }
   ],
   "source": [
    "#: Calculate the square kilometers of a geometry \n",
    "def get_sq_km(geometry):\n",
    "    return geometry.area / 1000000\n",
    "\n",
    "counties_df['SHAPE'].apply(get_sq_km).head()"
   ]
  },
  {
   "cell_type": "code",
   "execution_count": 57,
   "id": "4c732e70",
   "metadata": {
    "hidden": true,
    "scrolled": true
   },
   "outputs": [
    {
     "data": {
      "text/plain": [
       "FIPS_STR\n",
       "49005     5456.779633\n",
       "49013    14489.452124\n",
       "49011     2889.969718\n",
       "49027    29421.994253\n",
       "49051     5396.133031\n",
       "Name: SHAPE, dtype: float64"
      ]
     },
     "execution_count": 57,
     "metadata": {},
     "output_type": "execute_result"
    }
   ],
   "source": [
    "#: Access the `.area` property of each geometry in the SHAPE column by applying a lambda function instead\n",
    "counties_df['SHAPE'].apply(lambda x: x.area / 1000000).head()"
   ]
  },
  {
   "cell_type": "markdown",
   "id": "e8babdf4",
   "metadata": {
    "hidden": true
   },
   "source": [
    "`lambda` functions are defined with the statement `lambda var_name: <operations on var_name>`. \n",
    "\n",
    "`var_name` is a name you choose to refer to the input; `x` is used by convention but you can choose another name that is more applicable to your problem. \n",
    "\n",
    "The body of the statement, everything after `:`, is what you want to do with the input \n",
    "\n",
    "Rather than explicitely using a `return` statement, it implicitely returns whatever the operation creates."
   ]
  },
  {
   "cell_type": "code",
   "execution_count": 58,
   "id": "75eaeede",
   "metadata": {
    "hidden": true
   },
   "outputs": [
    {
     "data": {
      "text/plain": [
       "FIPS_STR\n",
       "49005    136663.5\n",
       "49013     19878.5\n",
       "49011    366313.5\n",
       "49027     13152.5\n",
       "49051     35703.5\n",
       "dtype: float64"
      ]
     },
     "execution_count": 58,
     "metadata": {},
     "output_type": "execute_result"
    }
   ],
   "source": [
    "#: Create a custom aggregation function for each row that references the column names \n",
    "county_pop_df.apply(lambda row: (row['POP_LASTCENSUS'] + row['POP_CURRESTIMATE'])/2, axis='columns').head()"
   ]
  },
  {
   "cell_type": "markdown",
   "id": "bed8fab9",
   "metadata": {
    "heading_collapsed": true
   },
   "source": [
    "# Groupby: Aggregation and Summarization by Category"
   ]
  },
  {
   "cell_type": "markdown",
   "id": "a79dc0ae",
   "metadata": {
    "hidden": true
   },
   "source": [
    "`.groupby` **splits** a dataframe by the values of a column, **applies** an operation on that each chunk's sub-frame, and then **combines** the results into a data structure based on the type of operation performed. "
   ]
  },
  {
   "cell_type": "code",
   "execution_count": 59,
   "id": "9beccb6e",
   "metadata": {
    "hidden": true
   },
   "outputs": [
    {
     "data": {
      "text/plain": [
       "STATEPLANE\n",
       "Central    163228.076923\n",
       "North      109227.375000\n",
       "South       34479.000000\n",
       "Name: POP_LASTCENSUS, dtype: float64"
      ]
     },
     "execution_count": 59,
     "metadata": {},
     "output_type": "execute_result"
    }
   ],
   "source": [
    "#: Split by the different state plane projections, compute the mean of the population column, and recombine into a series\n",
    "counties_df.groupby('STATEPLANE')['POP_LASTCENSUS'].mean()"
   ]
  },
  {
   "cell_type": "markdown",
   "id": "737f16c7",
   "metadata": {
    "hidden": true
   },
   "source": [
    "![groupby](assets/groupby_aggregation.png)"
   ]
  },
  {
   "cell_type": "code",
   "execution_count": 60,
   "id": "72e7eb2b",
   "metadata": {
    "hidden": true
   },
   "outputs": [],
   "source": [
    "#: calculate the percent contribution of each county's population to the group's total\n",
    "# plane_pop_df = counties_df[['STATEPLANE', 'POP_LASTCENSUS', 'POP_CURRESTIMATE']]\n",
    "# plane_pop_df.groupby('STATEPLANE').apply(lambda x: x/x.sum())"
   ]
  },
  {
   "cell_type": "markdown",
   "id": "a3d45222",
   "metadata": {
    "hidden": true
   },
   "source": [
    "Each groupby chunk is its own dataframe, and any operation that can be done on a dataframe can be done to the chunk. Frequently, you will operate on a single column within that chunk using the `['column_name']` notation."
   ]
  },
  {
   "cell_type": "code",
   "execution_count": 61,
   "id": "76f2d9b3",
   "metadata": {
    "hidden": true
   },
   "outputs": [
    {
     "data": {
      "text/plain": [
       "{'Central': ['49013', '49027', '49051', '49023', '49039', '49019', '49007', '49041', '49045', '49047', '49015', '49035', '49049'], 'North': ['49005', '49011', '49003', '49057', '49033', '49009', '49043', '49029'], 'South': ['49053', '49001', '49017', '49031', '49021', '49055', '49037', '49025']}"
      ]
     },
     "execution_count": 61,
     "metadata": {},
     "output_type": "execute_result"
    }
   ],
   "source": [
    "#: Get a groupby object and list the groups\n",
    "grouped = counties_df.groupby('STATEPLANE')\n",
    "grouped.groups"
   ]
  },
  {
   "cell_type": "code",
   "execution_count": 62,
   "id": "8988ab7f",
   "metadata": {
    "hidden": true
   },
   "outputs": [
    {
     "data": {
      "text/html": [
       "<div>\n",
       "<style scoped>\n",
       "    .dataframe tbody tr th:only-of-type {\n",
       "        vertical-align: middle;\n",
       "    }\n",
       "\n",
       "    .dataframe tbody tr th {\n",
       "        vertical-align: top;\n",
       "    }\n",
       "\n",
       "    .dataframe thead th {\n",
       "        text-align: right;\n",
       "    }\n",
       "</style>\n",
       "<table border=\"1\" class=\"dataframe\">\n",
       "  <thead>\n",
       "    <tr style=\"text-align: right;\">\n",
       "      <th></th>\n",
       "      <th>OBJECTID</th>\n",
       "      <th>COUNTYNBR</th>\n",
       "      <th>ENTITYNBR</th>\n",
       "      <th>ENTITYYR</th>\n",
       "      <th>NAME</th>\n",
       "      <th>FIPS</th>\n",
       "      <th>STATEPLANE</th>\n",
       "      <th>POP_LASTCENSUS</th>\n",
       "      <th>POP_CURRESTIMATE</th>\n",
       "      <th>GlobalID</th>\n",
       "      <th>COLOR4</th>\n",
       "      <th>SHAPE</th>\n",
       "    </tr>\n",
       "    <tr>\n",
       "      <th>FIPS_STR</th>\n",
       "      <th></th>\n",
       "      <th></th>\n",
       "      <th></th>\n",
       "      <th></th>\n",
       "      <th></th>\n",
       "      <th></th>\n",
       "      <th></th>\n",
       "      <th></th>\n",
       "      <th></th>\n",
       "      <th></th>\n",
       "      <th></th>\n",
       "      <th></th>\n",
       "    </tr>\n",
       "  </thead>\n",
       "  <tbody>\n",
       "    <tr>\n",
       "      <th>49053</th>\n",
       "      <td>10</td>\n",
       "      <td>27</td>\n",
       "      <td>2.010271e+09</td>\n",
       "      <td>2010.0</td>\n",
       "      <td>WASHINGTON</td>\n",
       "      <td>53.0</td>\n",
       "      <td>South</td>\n",
       "      <td>180279</td>\n",
       "      <td>197680</td>\n",
       "      <td>{83A50666-0CF4-475E-8766-4B034A67F5CB}</td>\n",
       "      <td>1</td>\n",
       "      <td>{\"rings\": [[[-12631933.3297, 4524079.526000001...</td>\n",
       "    </tr>\n",
       "    <tr>\n",
       "      <th>49001</th>\n",
       "      <td>15</td>\n",
       "      <td>01</td>\n",
       "      <td>2.010011e+09</td>\n",
       "      <td>2010.0</td>\n",
       "      <td>BEAVER</td>\n",
       "      <td>1.0</td>\n",
       "      <td>South</td>\n",
       "      <td>7072</td>\n",
       "      <td>7327</td>\n",
       "      <td>{04ADA80E-57CF-40BB-8C5C-6FDED3D82E74}</td>\n",
       "      <td>4</td>\n",
       "      <td>{\"rings\": [[[-12525157.6426, 4660669.5066], [-...</td>\n",
       "    </tr>\n",
       "    <tr>\n",
       "      <th>49017</th>\n",
       "      <td>17</td>\n",
       "      <td>09</td>\n",
       "      <td>2.010091e+09</td>\n",
       "      <td>2010.0</td>\n",
       "      <td>GARFIELD</td>\n",
       "      <td>17.0</td>\n",
       "      <td>South</td>\n",
       "      <td>5083</td>\n",
       "      <td>5281</td>\n",
       "      <td>{BC231D40-6F41-45B1-B85D-8182B762CB64}</td>\n",
       "      <td>1</td>\n",
       "      <td>{\"rings\": [[[-12497349.647300001, 4600620.4720...</td>\n",
       "    </tr>\n",
       "    <tr>\n",
       "      <th>49031</th>\n",
       "      <td>20</td>\n",
       "      <td>16</td>\n",
       "      <td>2.010161e+09</td>\n",
       "      <td>2010.0</td>\n",
       "      <td>PIUTE</td>\n",
       "      <td>31.0</td>\n",
       "      <td>South</td>\n",
       "      <td>1438</td>\n",
       "      <td>1487</td>\n",
       "      <td>{D6B3A246-ECFB-42BF-96AA-970553380419}</td>\n",
       "      <td>2</td>\n",
       "      <td>{\"rings\": [[[-12504544.7647, 4651843.050300002...</td>\n",
       "    </tr>\n",
       "    <tr>\n",
       "      <th>49021</th>\n",
       "      <td>22</td>\n",
       "      <td>11</td>\n",
       "      <td>2.010111e+09</td>\n",
       "      <td>2010.0</td>\n",
       "      <td>IRON</td>\n",
       "      <td>21.0</td>\n",
       "      <td>South</td>\n",
       "      <td>57289</td>\n",
       "      <td>62429</td>\n",
       "      <td>{2ACA2EB9-31B5-4D6A-A858-A0F6B16C64E2}</td>\n",
       "      <td>3</td>\n",
       "      <td>{\"rings\": [[[-12619832.6598, 4600452.2751], [-...</td>\n",
       "    </tr>\n",
       "    <tr>\n",
       "      <th>49055</th>\n",
       "      <td>24</td>\n",
       "      <td>28</td>\n",
       "      <td>2.010281e+09</td>\n",
       "      <td>2010.0</td>\n",
       "      <td>WAYNE</td>\n",
       "      <td>55.0</td>\n",
       "      <td>South</td>\n",
       "      <td>2486</td>\n",
       "      <td>2645</td>\n",
       "      <td>{6DBB5842-2FDB-4CAA-A08A-AEB8CDC70090}</td>\n",
       "      <td>4</td>\n",
       "      <td>{\"rings\": [[[-12435226.4528, 4651746.087300003...</td>\n",
       "    </tr>\n",
       "    <tr>\n",
       "      <th>49037</th>\n",
       "      <td>25</td>\n",
       "      <td>19</td>\n",
       "      <td>2.006191e+09</td>\n",
       "      <td>2006.0</td>\n",
       "      <td>SAN JUAN</td>\n",
       "      <td>37.0</td>\n",
       "      <td>South</td>\n",
       "      <td>14518</td>\n",
       "      <td>14359</td>\n",
       "      <td>{EC858EAC-D7E7-4748-B7A5-B2B744668178}</td>\n",
       "      <td>3</td>\n",
       "      <td>{\"rings\": [[[-12219669.3387, 4438861.324900001...</td>\n",
       "    </tr>\n",
       "    <tr>\n",
       "      <th>49025</th>\n",
       "      <td>27</td>\n",
       "      <td>13</td>\n",
       "      <td>2.010131e+09</td>\n",
       "      <td>2010.0</td>\n",
       "      <td>KANE</td>\n",
       "      <td>25.0</td>\n",
       "      <td>South</td>\n",
       "      <td>7667</td>\n",
       "      <td>8227</td>\n",
       "      <td>{A250C849-8914-4E00-A80F-C1B45CD8F0A7}</td>\n",
       "      <td>4</td>\n",
       "      <td>{\"rings\": [[[-12450569.3404, 4514055.761600003...</td>\n",
       "    </tr>\n",
       "  </tbody>\n",
       "</table>\n",
       "</div>"
      ],
      "text/plain": [
       "          OBJECTID COUNTYNBR     ENTITYNBR  ENTITYYR        NAME  FIPS  \\\n",
       "FIPS_STR                                                                 \n",
       "49053           10        27  2.010271e+09    2010.0  WASHINGTON  53.0   \n",
       "49001           15        01  2.010011e+09    2010.0      BEAVER   1.0   \n",
       "49017           17        09  2.010091e+09    2010.0    GARFIELD  17.0   \n",
       "49031           20        16  2.010161e+09    2010.0       PIUTE  31.0   \n",
       "49021           22        11  2.010111e+09    2010.0        IRON  21.0   \n",
       "49055           24        28  2.010281e+09    2010.0       WAYNE  55.0   \n",
       "49037           25        19  2.006191e+09    2006.0    SAN JUAN  37.0   \n",
       "49025           27        13  2.010131e+09    2010.0        KANE  25.0   \n",
       "\n",
       "         STATEPLANE  POP_LASTCENSUS  POP_CURRESTIMATE  \\\n",
       "FIPS_STR                                                \n",
       "49053         South          180279            197680   \n",
       "49001         South            7072              7327   \n",
       "49017         South            5083              5281   \n",
       "49031         South            1438              1487   \n",
       "49021         South           57289             62429   \n",
       "49055         South            2486              2645   \n",
       "49037         South           14518             14359   \n",
       "49025         South            7667              8227   \n",
       "\n",
       "                                        GlobalID  COLOR4  \\\n",
       "FIPS_STR                                                   \n",
       "49053     {83A50666-0CF4-475E-8766-4B034A67F5CB}       1   \n",
       "49001     {04ADA80E-57CF-40BB-8C5C-6FDED3D82E74}       4   \n",
       "49017     {BC231D40-6F41-45B1-B85D-8182B762CB64}       1   \n",
       "49031     {D6B3A246-ECFB-42BF-96AA-970553380419}       2   \n",
       "49021     {2ACA2EB9-31B5-4D6A-A858-A0F6B16C64E2}       3   \n",
       "49055     {6DBB5842-2FDB-4CAA-A08A-AEB8CDC70090}       4   \n",
       "49037     {EC858EAC-D7E7-4748-B7A5-B2B744668178}       3   \n",
       "49025     {A250C849-8914-4E00-A80F-C1B45CD8F0A7}       4   \n",
       "\n",
       "                                                      SHAPE  \n",
       "FIPS_STR                                                     \n",
       "49053     {\"rings\": [[[-12631933.3297, 4524079.526000001...  \n",
       "49001     {\"rings\": [[[-12525157.6426, 4660669.5066], [-...  \n",
       "49017     {\"rings\": [[[-12497349.647300001, 4600620.4720...  \n",
       "49031     {\"rings\": [[[-12504544.7647, 4651843.050300002...  \n",
       "49021     {\"rings\": [[[-12619832.6598, 4600452.2751], [-...  \n",
       "49055     {\"rings\": [[[-12435226.4528, 4651746.087300003...  \n",
       "49037     {\"rings\": [[[-12219669.3387, 4438861.324900001...  \n",
       "49025     {\"rings\": [[[-12450569.3404, 4514055.761600003...  "
      ]
     },
     "execution_count": 62,
     "metadata": {},
     "output_type": "execute_result"
    }
   ],
   "source": [
    "#: Access an individual group's dataframe\n",
    "grouped.get_group('South')"
   ]
  },
  {
   "cell_type": "markdown",
   "id": "ebe1c729",
   "metadata": {
    "hidden": true
   },
   "source": [
    "## `.groupby` and `.apply`"
   ]
  },
  {
   "cell_type": "markdown",
   "id": "cc1af170",
   "metadata": {
    "hidden": true
   },
   "source": [
    "Because `.groupby` creates dataframes and iterates an operation on each one, we can use `.apply` to perform any arbitrary function on each dataframe. \n",
    "\n",
    "The function passed by `.apply` operates on the rows or columns of each chunk sub-frame just like it would when you use `.apply` on a normal dataframe, and the results from each group are combined back together.\n",
    "\n",
    "(how different return types are concatted together)"
   ]
  },
  {
   "cell_type": "markdown",
   "id": "42366669",
   "metadata": {
    "hidden": true
   },
   "source": [
    "If you use a **tranformation** function that returns a value for each input value, `.apply` thus returns a dataframe. The groubpy combine step then concats all the dataframes together into a new dataframe with the same index as the original. \n",
    "\n",
    "This can be useful if you want to compare a value to the group's average, or apply a different correction value to each group."
   ]
  },
  {
   "cell_type": "code",
   "execution_count": 64,
   "id": "bbc918ef",
   "metadata": {
    "hidden": true
   },
   "outputs": [
    {
     "data": {
      "text/html": [
       "<div>\n",
       "<style scoped>\n",
       "    .dataframe tbody tr th:only-of-type {\n",
       "        vertical-align: middle;\n",
       "    }\n",
       "\n",
       "    .dataframe tbody tr th {\n",
       "        vertical-align: top;\n",
       "    }\n",
       "\n",
       "    .dataframe thead th {\n",
       "        text-align: right;\n",
       "    }\n",
       "</style>\n",
       "<table border=\"1\" class=\"dataframe\">\n",
       "  <thead>\n",
       "    <tr style=\"text-align: right;\">\n",
       "      <th></th>\n",
       "      <th>POP_LASTCENSUS</th>\n",
       "      <th>POP_CURRESTIMATE</th>\n",
       "    </tr>\n",
       "    <tr>\n",
       "      <th>FIPS_STR</th>\n",
       "      <th></th>\n",
       "      <th></th>\n",
       "    </tr>\n",
       "  </thead>\n",
       "  <tbody>\n",
       "    <tr>\n",
       "      <th>49005</th>\n",
       "      <td>0.152382</td>\n",
       "      <td>0.155628</td>\n",
       "    </tr>\n",
       "    <tr>\n",
       "      <th>49013</th>\n",
       "      <td>0.009235</td>\n",
       "      <td>0.009245</td>\n",
       "    </tr>\n",
       "    <tr>\n",
       "      <th>49011</th>\n",
       "      <td>0.415050</td>\n",
       "      <td>0.410738</td>\n",
       "    </tr>\n",
       "    <tr>\n",
       "      <th>49027</th>\n",
       "      <td>0.006115</td>\n",
       "      <td>0.006113</td>\n",
       "    </tr>\n",
       "    <tr>\n",
       "      <th>49051</th>\n",
       "      <td>0.016394</td>\n",
       "      <td>0.016793</td>\n",
       "    </tr>\n",
       "  </tbody>\n",
       "</table>\n",
       "</div>"
      ],
      "text/plain": [
       "          POP_LASTCENSUS  POP_CURRESTIMATE\n",
       "FIPS_STR                                  \n",
       "49005           0.152382          0.155628\n",
       "49013           0.009235          0.009245\n",
       "49011           0.415050          0.410738\n",
       "49027           0.006115          0.006113\n",
       "49051           0.016394          0.016793"
      ]
     },
     "execution_count": 64,
     "metadata": {},
     "output_type": "execute_result"
    }
   ],
   "source": [
    "#: calculate the percent contribution of each county's population to the group's total\n",
    "plane_pop_df = counties_df[['STATEPLANE', 'POP_LASTCENSUS', 'POP_CURRESTIMATE']]\n",
    "plane_pop_df.groupby('STATEPLANE').apply(lambda x: x/x.sum()).head()"
   ]
  },
  {
   "cell_type": "markdown",
   "id": "52f90e73",
   "metadata": {
    "hidden": true
   },
   "source": [
    "If you use an **aggregation function that returns a series** for each group, the combine step concats these series into a new dataframe. \n",
    "\n",
    "This can be useful for running the same operation on multiple columns in each group, like a descriptive statistic."
   ]
  },
  {
   "cell_type": "code",
   "execution_count": 69,
   "id": "5197eefa",
   "metadata": {
    "hidden": true
   },
   "outputs": [
    {
     "data": {
      "text/html": [
       "<div>\n",
       "<style scoped>\n",
       "    .dataframe tbody tr th:only-of-type {\n",
       "        vertical-align: middle;\n",
       "    }\n",
       "\n",
       "    .dataframe tbody tr th {\n",
       "        vertical-align: top;\n",
       "    }\n",
       "\n",
       "    .dataframe thead th {\n",
       "        text-align: right;\n",
       "    }\n",
       "</style>\n",
       "<table border=\"1\" class=\"dataframe\">\n",
       "  <thead>\n",
       "    <tr style=\"text-align: right;\">\n",
       "      <th></th>\n",
       "      <th>POP_LASTCENSUS</th>\n",
       "      <th>POP_CURRESTIMATE</th>\n",
       "    </tr>\n",
       "    <tr>\n",
       "      <th>STATEPLANE</th>\n",
       "      <th></th>\n",
       "      <th></th>\n",
       "    </tr>\n",
       "  </thead>\n",
       "  <tbody>\n",
       "    <tr>\n",
       "      <th>Central</th>\n",
       "      <td>163228.076923</td>\n",
       "      <td>167744.230769</td>\n",
       "    </tr>\n",
       "    <tr>\n",
       "      <th>North</th>\n",
       "      <td>109227.375000</td>\n",
       "      <td>112586.250000</td>\n",
       "    </tr>\n",
       "    <tr>\n",
       "      <th>South</th>\n",
       "      <td>34479.000000</td>\n",
       "      <td>37429.375000</td>\n",
       "    </tr>\n",
       "  </tbody>\n",
       "</table>\n",
       "</div>"
      ],
      "text/plain": [
       "            POP_LASTCENSUS  POP_CURRESTIMATE\n",
       "STATEPLANE                                  \n",
       "Central      163228.076923     167744.230769\n",
       "North        109227.375000     112586.250000\n",
       "South         34479.000000      37429.375000"
      ]
     },
     "execution_count": 69,
     "metadata": {},
     "output_type": "execute_result"
    }
   ],
   "source": [
    "#: Get the average for each column by group. The apply acts across two series for each group dataframe and returns\n",
    "#: a series for each, and then these are added as columns of our new dataframe\n",
    "plane_pop_df.groupby('STATEPLANE')[['POP_LASTCENSUS', 'POP_CURRESTIMATE']].apply(np.mean)"
   ]
  },
  {
   "cell_type": "markdown",
   "id": "00c958be",
   "metadata": {
    "hidden": true
   },
   "source": [
    "Finally, if you use an **aggregation function that returns a single value** for each group, they are combined into a series. \n",
    "\n",
    "A commone use case is to get the total value for each group, like summing populations."
   ]
  },
  {
   "cell_type": "code",
   "execution_count": 70,
   "id": "1961ae09",
   "metadata": {
    "hidden": true
   },
   "outputs": [
    {
     "data": {
      "text/plain": [
       "STATEPLANE\n",
       "Central    2121965\n",
       "North       873819\n",
       "South       275832\n",
       "Name: POP_LASTCENSUS, dtype: int64"
      ]
     },
     "execution_count": 70,
     "metadata": {},
     "output_type": "execute_result"
    }
   ],
   "source": [
    "plane_pop_df.groupby('STATEPLANE')['POP_LASTCENSUS'].sum()"
   ]
  },
  {
   "cell_type": "markdown",
   "id": "d05f073d",
   "metadata": {
    "hidden": true
   },
   "source": [
    "While these different recombinations may seem a little trivial, it's important to understand them when you pass more cpomlicated functions. I'll show an example later."
   ]
  },
  {
   "cell_type": "markdown",
   "id": "3a488812",
   "metadata": {
    "heading_collapsed": true
   },
   "source": [
    "# Joing Datasets: concat and merge"
   ]
  },
  {
   "cell_type": "markdown",
   "id": "7e0d9d43",
   "metadata": {
    "hidden": true
   },
   "source": [
    "## Concat: Adding rows or columns"
   ]
  },
  {
   "cell_type": "markdown",
   "id": "26bda6d9",
   "metadata": {
    "hidden": true
   },
   "source": [
    "Mainly useful when an operation creates another dataframe with the same column labels (ie, adding rows with the same schema) or the same index labels (ie, creating new columns for existing data)."
   ]
  },
  {
   "cell_type": "code",
   "execution_count": 71,
   "id": "96527ea1",
   "metadata": {
    "hidden": true
   },
   "outputs": [
    {
     "data": {
      "text/html": [
       "<div>\n",
       "<style scoped>\n",
       "    .dataframe tbody tr th:only-of-type {\n",
       "        vertical-align: middle;\n",
       "    }\n",
       "\n",
       "    .dataframe tbody tr th {\n",
       "        vertical-align: top;\n",
       "    }\n",
       "\n",
       "    .dataframe thead th {\n",
       "        text-align: right;\n",
       "    }\n",
       "</style>\n",
       "<table border=\"1\" class=\"dataframe\">\n",
       "  <thead>\n",
       "    <tr style=\"text-align: right;\">\n",
       "      <th></th>\n",
       "      <th>name</th>\n",
       "      <th>type</th>\n",
       "    </tr>\n",
       "  </thead>\n",
       "  <tbody>\n",
       "    <tr>\n",
       "      <th>0</th>\n",
       "      <td>Main Street Trail</td>\n",
       "      <td>sidewalk</td>\n",
       "    </tr>\n",
       "    <tr>\n",
       "      <th>1</th>\n",
       "      <td>Benches</td>\n",
       "      <td>paved</td>\n",
       "    </tr>\n",
       "    <tr>\n",
       "      <th>2</th>\n",
       "      <td>Beltway</td>\n",
       "      <td>paved</td>\n",
       "    </tr>\n",
       "  </tbody>\n",
       "</table>\n",
       "</div>"
      ],
      "text/plain": [
       "                name      type\n",
       "0  Main Street Trail  sidewalk\n",
       "1            Benches     paved\n",
       "2            Beltway     paved"
      ]
     },
     "execution_count": 71,
     "metadata": {},
     "output_type": "execute_result"
    }
   ],
   "source": [
    "#: Create a new dataframe of bike routes\n",
    "bike_routes_df = pd.DataFrame({\n",
    "    'name': ['Main Street Trail', 'Benches', 'Beltway'],\n",
    "    'type': ['sidewalk', 'paved', 'paved']\n",
    "})\n",
    "bike_routes_df"
   ]
  },
  {
   "cell_type": "code",
   "execution_count": 72,
   "id": "777e00ff",
   "metadata": {
    "hidden": true
   },
   "outputs": [
    {
     "data": {
      "text/html": [
       "<div>\n",
       "<style scoped>\n",
       "    .dataframe tbody tr th:only-of-type {\n",
       "        vertical-align: middle;\n",
       "    }\n",
       "\n",
       "    .dataframe tbody tr th {\n",
       "        vertical-align: top;\n",
       "    }\n",
       "\n",
       "    .dataframe thead th {\n",
       "        text-align: right;\n",
       "    }\n",
       "</style>\n",
       "<table border=\"1\" class=\"dataframe\">\n",
       "  <thead>\n",
       "    <tr style=\"text-align: right;\">\n",
       "      <th></th>\n",
       "      <th>name</th>\n",
       "      <th>type</th>\n",
       "    </tr>\n",
       "  </thead>\n",
       "  <tbody>\n",
       "    <tr>\n",
       "      <th>0</th>\n",
       "      <td>Main Street Trail</td>\n",
       "      <td>sidewalk</td>\n",
       "    </tr>\n",
       "    <tr>\n",
       "      <th>1</th>\n",
       "      <td>Benches</td>\n",
       "      <td>paved</td>\n",
       "    </tr>\n",
       "    <tr>\n",
       "      <th>2</th>\n",
       "      <td>Beltway</td>\n",
       "      <td>paved</td>\n",
       "    </tr>\n",
       "    <tr>\n",
       "      <th>0</th>\n",
       "      <td>Provo Express</td>\n",
       "      <td>paved</td>\n",
       "    </tr>\n",
       "  </tbody>\n",
       "</table>\n",
       "</div>"
      ],
      "text/plain": [
       "                name      type\n",
       "0  Main Street Trail  sidewalk\n",
       "1            Benches     paved\n",
       "2            Beltway     paved\n",
       "0      Provo Express     paved"
      ]
     },
     "execution_count": 72,
     "metadata": {},
     "output_type": "execute_result"
    }
   ],
   "source": [
    "#: Add another row\n",
    "new_trail_df = pd.DataFrame({\n",
    "    'name': ['Provo Express'],\n",
    "    'type': ['paved']\n",
    "})\n",
    "combined_df = pd.concat([bike_routes_df, new_trail_df])\n",
    "combined_df"
   ]
  },
  {
   "cell_type": "code",
   "execution_count": 73,
   "id": "a315e776",
   "metadata": {
    "hidden": true
   },
   "outputs": [
    {
     "name": "stdout",
     "output_type": "stream",
     "text": [
      "Int64Index([0, 1, 2, 0], dtype='int64')\n",
      "RangeIndex(start=0, stop=4, step=1)\n"
     ]
    },
    {
     "ename": "InvalidIndexError",
     "evalue": "Reindexing only valid with uniquely valued Index objects",
     "output_type": "error",
     "traceback": [
      "\u001b[1;31m---------------------------------------------------------------------------\u001b[0m",
      "\u001b[1;31mInvalidIndexError\u001b[0m                         Traceback (most recent call last)",
      "\u001b[1;32m<ipython-input-73-0b2eada4ee89>\u001b[0m in \u001b[0;36m<module>\u001b[1;34m\u001b[0m\n\u001b[0;32m      6\u001b[0m \u001b[0mprint\u001b[0m\u001b[1;33m(\u001b[0m\u001b[0mcombined_df\u001b[0m\u001b[1;33m.\u001b[0m\u001b[0mindex\u001b[0m\u001b[1;33m)\u001b[0m\u001b[1;33m\u001b[0m\u001b[1;33m\u001b[0m\u001b[0m\n\u001b[0;32m      7\u001b[0m \u001b[0mprint\u001b[0m\u001b[1;33m(\u001b[0m\u001b[0mnew_columns_df\u001b[0m\u001b[1;33m.\u001b[0m\u001b[0mindex\u001b[0m\u001b[1;33m)\u001b[0m\u001b[1;33m\u001b[0m\u001b[1;33m\u001b[0m\u001b[0m\n\u001b[1;32m----> 8\u001b[1;33m \u001b[0mnew_combined_df\u001b[0m \u001b[1;33m=\u001b[0m \u001b[0mpd\u001b[0m\u001b[1;33m.\u001b[0m\u001b[0mconcat\u001b[0m\u001b[1;33m(\u001b[0m\u001b[1;33m[\u001b[0m\u001b[0mcombined_df\u001b[0m\u001b[1;33m,\u001b[0m \u001b[0mnew_columns_df\u001b[0m\u001b[1;33m]\u001b[0m\u001b[1;33m,\u001b[0m \u001b[0maxis\u001b[0m\u001b[1;33m=\u001b[0m\u001b[1;36m1\u001b[0m\u001b[1;33m)\u001b[0m  \u001b[1;31m#: Note axis=1 to append columns instead of rows\u001b[0m\u001b[1;33m\u001b[0m\u001b[1;33m\u001b[0m\u001b[0m\n\u001b[0m",
      "\u001b[1;32m~\\AppData\\Local\\Programs\\ArcGIS\\Pro\\bin\\Python\\envs\\arcpy\\lib\\site-packages\\pandas\\util\\_decorators.py\u001b[0m in \u001b[0;36mwrapper\u001b[1;34m(*args, **kwargs)\u001b[0m\n\u001b[0;32m    309\u001b[0m                     \u001b[0mstacklevel\u001b[0m\u001b[1;33m=\u001b[0m\u001b[0mstacklevel\u001b[0m\u001b[1;33m,\u001b[0m\u001b[1;33m\u001b[0m\u001b[1;33m\u001b[0m\u001b[0m\n\u001b[0;32m    310\u001b[0m                 )\n\u001b[1;32m--> 311\u001b[1;33m             \u001b[1;32mreturn\u001b[0m \u001b[0mfunc\u001b[0m\u001b[1;33m(\u001b[0m\u001b[1;33m*\u001b[0m\u001b[0margs\u001b[0m\u001b[1;33m,\u001b[0m \u001b[1;33m**\u001b[0m\u001b[0mkwargs\u001b[0m\u001b[1;33m)\u001b[0m\u001b[1;33m\u001b[0m\u001b[1;33m\u001b[0m\u001b[0m\n\u001b[0m\u001b[0;32m    312\u001b[0m \u001b[1;33m\u001b[0m\u001b[0m\n\u001b[0;32m    313\u001b[0m         \u001b[1;32mreturn\u001b[0m \u001b[0mwrapper\u001b[0m\u001b[1;33m\u001b[0m\u001b[1;33m\u001b[0m\u001b[0m\n",
      "\u001b[1;32m~\\AppData\\Local\\Programs\\ArcGIS\\Pro\\bin\\Python\\envs\\arcpy\\lib\\site-packages\\pandas\\core\\reshape\\concat.py\u001b[0m in \u001b[0;36mconcat\u001b[1;34m(objs, axis, join, ignore_index, keys, levels, names, verify_integrity, sort, copy)\u001b[0m\n\u001b[0;32m    305\u001b[0m     )\n\u001b[0;32m    306\u001b[0m \u001b[1;33m\u001b[0m\u001b[0m\n\u001b[1;32m--> 307\u001b[1;33m     \u001b[1;32mreturn\u001b[0m \u001b[0mop\u001b[0m\u001b[1;33m.\u001b[0m\u001b[0mget_result\u001b[0m\u001b[1;33m(\u001b[0m\u001b[1;33m)\u001b[0m\u001b[1;33m\u001b[0m\u001b[1;33m\u001b[0m\u001b[0m\n\u001b[0m\u001b[0;32m    308\u001b[0m \u001b[1;33m\u001b[0m\u001b[0m\n\u001b[0;32m    309\u001b[0m \u001b[1;33m\u001b[0m\u001b[0m\n",
      "\u001b[1;32m~\\AppData\\Local\\Programs\\ArcGIS\\Pro\\bin\\Python\\envs\\arcpy\\lib\\site-packages\\pandas\\core\\reshape\\concat.py\u001b[0m in \u001b[0;36mget_result\u001b[1;34m(self)\u001b[0m\n\u001b[0;32m    526\u001b[0m                     \u001b[0mobj_labels\u001b[0m \u001b[1;33m=\u001b[0m \u001b[0mobj\u001b[0m\u001b[1;33m.\u001b[0m\u001b[0maxes\u001b[0m\u001b[1;33m[\u001b[0m\u001b[1;36m1\u001b[0m \u001b[1;33m-\u001b[0m \u001b[0max\u001b[0m\u001b[1;33m]\u001b[0m\u001b[1;33m\u001b[0m\u001b[1;33m\u001b[0m\u001b[0m\n\u001b[0;32m    527\u001b[0m                     \u001b[1;32mif\u001b[0m \u001b[1;32mnot\u001b[0m \u001b[0mnew_labels\u001b[0m\u001b[1;33m.\u001b[0m\u001b[0mequals\u001b[0m\u001b[1;33m(\u001b[0m\u001b[0mobj_labels\u001b[0m\u001b[1;33m)\u001b[0m\u001b[1;33m:\u001b[0m\u001b[1;33m\u001b[0m\u001b[1;33m\u001b[0m\u001b[0m\n\u001b[1;32m--> 528\u001b[1;33m                         \u001b[0mindexers\u001b[0m\u001b[1;33m[\u001b[0m\u001b[0max\u001b[0m\u001b[1;33m]\u001b[0m \u001b[1;33m=\u001b[0m \u001b[0mobj_labels\u001b[0m\u001b[1;33m.\u001b[0m\u001b[0mget_indexer\u001b[0m\u001b[1;33m(\u001b[0m\u001b[0mnew_labels\u001b[0m\u001b[1;33m)\u001b[0m\u001b[1;33m\u001b[0m\u001b[1;33m\u001b[0m\u001b[0m\n\u001b[0m\u001b[0;32m    529\u001b[0m \u001b[1;33m\u001b[0m\u001b[0m\n\u001b[0;32m    530\u001b[0m                 \u001b[0mmgrs_indexers\u001b[0m\u001b[1;33m.\u001b[0m\u001b[0mappend\u001b[0m\u001b[1;33m(\u001b[0m\u001b[1;33m(\u001b[0m\u001b[0mobj\u001b[0m\u001b[1;33m.\u001b[0m\u001b[0m_mgr\u001b[0m\u001b[1;33m,\u001b[0m \u001b[0mindexers\u001b[0m\u001b[1;33m)\u001b[0m\u001b[1;33m)\u001b[0m\u001b[1;33m\u001b[0m\u001b[1;33m\u001b[0m\u001b[0m\n",
      "\u001b[1;32m~\\AppData\\Local\\Programs\\ArcGIS\\Pro\\bin\\Python\\envs\\arcpy\\lib\\site-packages\\pandas\\core\\indexes\\base.py\u001b[0m in \u001b[0;36mget_indexer\u001b[1;34m(self, target, method, limit, tolerance)\u001b[0m\n\u001b[0;32m   3440\u001b[0m \u001b[1;33m\u001b[0m\u001b[0m\n\u001b[0;32m   3441\u001b[0m         \u001b[1;32mif\u001b[0m \u001b[1;32mnot\u001b[0m \u001b[0mself\u001b[0m\u001b[1;33m.\u001b[0m\u001b[0m_index_as_unique\u001b[0m\u001b[1;33m:\u001b[0m\u001b[1;33m\u001b[0m\u001b[1;33m\u001b[0m\u001b[0m\n\u001b[1;32m-> 3442\u001b[1;33m             \u001b[1;32mraise\u001b[0m \u001b[0mInvalidIndexError\u001b[0m\u001b[1;33m(\u001b[0m\u001b[0mself\u001b[0m\u001b[1;33m.\u001b[0m\u001b[0m_requires_unique_msg\u001b[0m\u001b[1;33m)\u001b[0m\u001b[1;33m\u001b[0m\u001b[1;33m\u001b[0m\u001b[0m\n\u001b[0m\u001b[0;32m   3443\u001b[0m \u001b[1;33m\u001b[0m\u001b[0m\n\u001b[0;32m   3444\u001b[0m         \u001b[1;32mif\u001b[0m \u001b[1;32mnot\u001b[0m \u001b[0mself\u001b[0m\u001b[1;33m.\u001b[0m\u001b[0m_should_compare\u001b[0m\u001b[1;33m(\u001b[0m\u001b[0mtarget\u001b[0m\u001b[1;33m)\u001b[0m \u001b[1;32mand\u001b[0m \u001b[1;32mnot\u001b[0m \u001b[0mis_interval_dtype\u001b[0m\u001b[1;33m(\u001b[0m\u001b[0mself\u001b[0m\u001b[1;33m.\u001b[0m\u001b[0mdtype\u001b[0m\u001b[1;33m)\u001b[0m\u001b[1;33m:\u001b[0m\u001b[1;33m\u001b[0m\u001b[1;33m\u001b[0m\u001b[0m\n",
      "\u001b[1;31mInvalidIndexError\u001b[0m: Reindexing only valid with uniquely valued Index objects"
     ]
    }
   ],
   "source": [
    "#: Add a new set of columns, which are added according to the index\n",
    "new_columns_df = pd.DataFrame({\n",
    "    'status': ['open', 'open', 'open', 'planned'],\n",
    "    'condition': ['good', 'poor', 'failed', None]\n",
    "})\n",
    "print(combined_df.index)\n",
    "print(new_columns_df.index)\n",
    "new_combined_df = pd.concat([combined_df, new_columns_df], axis=1)  #: Note axis=1 to append columns instead of rows"
   ]
  },
  {
   "cell_type": "code",
   "execution_count": 74,
   "id": "d99eb8d7",
   "metadata": {
    "hidden": true
   },
   "outputs": [
    {
     "name": "stdout",
     "output_type": "stream",
     "text": [
      "RangeIndex(start=0, stop=4, step=1)\n",
      "RangeIndex(start=0, stop=4, step=1)\n"
     ]
    },
    {
     "data": {
      "text/html": [
       "<div>\n",
       "<style scoped>\n",
       "    .dataframe tbody tr th:only-of-type {\n",
       "        vertical-align: middle;\n",
       "    }\n",
       "\n",
       "    .dataframe tbody tr th {\n",
       "        vertical-align: top;\n",
       "    }\n",
       "\n",
       "    .dataframe thead th {\n",
       "        text-align: right;\n",
       "    }\n",
       "</style>\n",
       "<table border=\"1\" class=\"dataframe\">\n",
       "  <thead>\n",
       "    <tr style=\"text-align: right;\">\n",
       "      <th></th>\n",
       "      <th>index</th>\n",
       "      <th>name</th>\n",
       "      <th>type</th>\n",
       "      <th>status</th>\n",
       "      <th>condition</th>\n",
       "    </tr>\n",
       "  </thead>\n",
       "  <tbody>\n",
       "    <tr>\n",
       "      <th>0</th>\n",
       "      <td>0</td>\n",
       "      <td>Main Street Trail</td>\n",
       "      <td>sidewalk</td>\n",
       "      <td>open</td>\n",
       "      <td>good</td>\n",
       "    </tr>\n",
       "    <tr>\n",
       "      <th>1</th>\n",
       "      <td>1</td>\n",
       "      <td>Benches</td>\n",
       "      <td>paved</td>\n",
       "      <td>open</td>\n",
       "      <td>poor</td>\n",
       "    </tr>\n",
       "    <tr>\n",
       "      <th>2</th>\n",
       "      <td>2</td>\n",
       "      <td>Beltway</td>\n",
       "      <td>paved</td>\n",
       "      <td>open</td>\n",
       "      <td>failed</td>\n",
       "    </tr>\n",
       "    <tr>\n",
       "      <th>3</th>\n",
       "      <td>0</td>\n",
       "      <td>Provo Express</td>\n",
       "      <td>paved</td>\n",
       "      <td>planned</td>\n",
       "      <td>None</td>\n",
       "    </tr>\n",
       "  </tbody>\n",
       "</table>\n",
       "</div>"
      ],
      "text/plain": [
       "   index               name      type   status condition\n",
       "0      0  Main Street Trail  sidewalk     open      good\n",
       "1      1            Benches     paved     open      poor\n",
       "2      2            Beltway     paved     open    failed\n",
       "3      0      Provo Express     paved  planned      None"
      ]
     },
     "execution_count": 74,
     "metadata": {},
     "output_type": "execute_result"
    }
   ],
   "source": [
    "combined_df.reset_index(inplace=True)\n",
    "print(combined_df.index)\n",
    "print(new_columns_df.index)\n",
    "new_combined_df = pd.concat([combined_df, new_columns_df], axis=1)\n",
    "new_combined_df"
   ]
  },
  {
   "cell_type": "markdown",
   "id": "24e6d7d6",
   "metadata": {
    "hidden": true
   },
   "source": [
    "## Merge: Joining Two Disparate Datasets"
   ]
  },
  {
   "cell_type": "markdown",
   "id": "626be520",
   "metadata": {
    "hidden": true
   },
   "source": [
    "`.merge` allows you to do SQL-style joins on two different dataframes based on a common key."
   ]
  },
  {
   "cell_type": "code",
   "execution_count": 75,
   "id": "f019d810",
   "metadata": {
    "hidden": true
   },
   "outputs": [
    {
     "data": {
      "text/plain": [
       "Index(['name', 'type', 'status', 'condition'], dtype='object')"
      ]
     },
     "execution_count": 75,
     "metadata": {},
     "output_type": "execute_result"
    }
   ],
   "source": [
    "#: first, let's drop the index column from the previous .reset_index() call\n",
    "new_combined_df.drop(columns=['index'], inplace=True)\n",
    "new_combined_df.columns"
   ]
  },
  {
   "cell_type": "code",
   "execution_count": 76,
   "id": "2ab84e59",
   "metadata": {
    "hidden": true
   },
   "outputs": [
    {
     "data": {
      "text/html": [
       "<div>\n",
       "<style scoped>\n",
       "    .dataframe tbody tr th:only-of-type {\n",
       "        vertical-align: middle;\n",
       "    }\n",
       "\n",
       "    .dataframe tbody tr th {\n",
       "        vertical-align: top;\n",
       "    }\n",
       "\n",
       "    .dataframe thead th {\n",
       "        text-align: right;\n",
       "    }\n",
       "</style>\n",
       "<table border=\"1\" class=\"dataframe\">\n",
       "  <thead>\n",
       "    <tr style=\"text-align: right;\">\n",
       "      <th></th>\n",
       "      <th>surface_type</th>\n",
       "      <th>surface_description</th>\n",
       "    </tr>\n",
       "  </thead>\n",
       "  <tbody>\n",
       "    <tr>\n",
       "      <th>0</th>\n",
       "      <td>sidewalk</td>\n",
       "      <td>A shared-use path usually consisting of concre...</td>\n",
       "    </tr>\n",
       "    <tr>\n",
       "      <th>1</th>\n",
       "      <td>paved</td>\n",
       "      <td>An asphalt-paved shared-use path at least 10 f...</td>\n",
       "    </tr>\n",
       "    <tr>\n",
       "      <th>2</th>\n",
       "      <td>gravel</td>\n",
       "      <td>A gravel-based natural-surface path</td>\n",
       "    </tr>\n",
       "  </tbody>\n",
       "</table>\n",
       "</div>"
      ],
      "text/plain": [
       "  surface_type                                surface_description\n",
       "0     sidewalk  A shared-use path usually consisting of concre...\n",
       "1        paved  An asphalt-paved shared-use path at least 10 f...\n",
       "2       gravel                A gravel-based natural-surface path"
      ]
     },
     "execution_count": 76,
     "metadata": {},
     "output_type": "execute_result"
    }
   ],
   "source": [
    "surface_description_df = pd.DataFrame({\n",
    "    'surface_type': ['sidewalk', 'paved', 'gravel'],\n",
    "    'surface_description': ['A shared-use path usually consisting of concrete four to eight feet wide', 'An asphalt-paved shared-use path at least 10 feet wide', 'A gravel-based natural-surface path'],\n",
    "})\n",
    "surface_description_df"
   ]
  },
  {
   "cell_type": "code",
   "execution_count": 77,
   "id": "44fed45c",
   "metadata": {
    "hidden": true,
    "scrolled": true
   },
   "outputs": [
    {
     "data": {
      "text/html": [
       "<div>\n",
       "<style scoped>\n",
       "    .dataframe tbody tr th:only-of-type {\n",
       "        vertical-align: middle;\n",
       "    }\n",
       "\n",
       "    .dataframe tbody tr th {\n",
       "        vertical-align: top;\n",
       "    }\n",
       "\n",
       "    .dataframe thead th {\n",
       "        text-align: right;\n",
       "    }\n",
       "</style>\n",
       "<table border=\"1\" class=\"dataframe\">\n",
       "  <thead>\n",
       "    <tr style=\"text-align: right;\">\n",
       "      <th></th>\n",
       "      <th>name</th>\n",
       "      <th>type</th>\n",
       "      <th>status</th>\n",
       "      <th>condition</th>\n",
       "      <th>surface_type</th>\n",
       "      <th>surface_description</th>\n",
       "    </tr>\n",
       "  </thead>\n",
       "  <tbody>\n",
       "    <tr>\n",
       "      <th>0</th>\n",
       "      <td>Main Street Trail</td>\n",
       "      <td>sidewalk</td>\n",
       "      <td>open</td>\n",
       "      <td>good</td>\n",
       "      <td>sidewalk</td>\n",
       "      <td>A shared-use path usually consisting of concre...</td>\n",
       "    </tr>\n",
       "    <tr>\n",
       "      <th>1</th>\n",
       "      <td>Benches</td>\n",
       "      <td>paved</td>\n",
       "      <td>open</td>\n",
       "      <td>poor</td>\n",
       "      <td>paved</td>\n",
       "      <td>An asphalt-paved shared-use path at least 10 f...</td>\n",
       "    </tr>\n",
       "    <tr>\n",
       "      <th>2</th>\n",
       "      <td>Beltway</td>\n",
       "      <td>paved</td>\n",
       "      <td>open</td>\n",
       "      <td>failed</td>\n",
       "      <td>paved</td>\n",
       "      <td>An asphalt-paved shared-use path at least 10 f...</td>\n",
       "    </tr>\n",
       "    <tr>\n",
       "      <th>3</th>\n",
       "      <td>Provo Express</td>\n",
       "      <td>paved</td>\n",
       "      <td>planned</td>\n",
       "      <td>None</td>\n",
       "      <td>paved</td>\n",
       "      <td>An asphalt-paved shared-use path at least 10 f...</td>\n",
       "    </tr>\n",
       "  </tbody>\n",
       "</table>\n",
       "</div>"
      ],
      "text/plain": [
       "                name      type   status condition surface_type  \\\n",
       "0  Main Street Trail  sidewalk     open      good     sidewalk   \n",
       "1            Benches     paved     open      poor        paved   \n",
       "2            Beltway     paved     open    failed        paved   \n",
       "3      Provo Express     paved  planned      None        paved   \n",
       "\n",
       "                                 surface_description  \n",
       "0  A shared-use path usually consisting of concre...  \n",
       "1  An asphalt-paved shared-use path at least 10 f...  \n",
       "2  An asphalt-paved shared-use path at least 10 f...  \n",
       "3  An asphalt-paved shared-use path at least 10 f...  "
      ]
     },
     "execution_count": 77,
     "metadata": {},
     "output_type": "execute_result"
    }
   ],
   "source": [
    "new_combined_df.merge(surface_description_df, left_on='type', right_on='surface_type', how='inner')"
   ]
  },
  {
   "cell_type": "code",
   "execution_count": 78,
   "id": "c8578bc6",
   "metadata": {
    "hidden": true
   },
   "outputs": [
    {
     "data": {
      "text/html": [
       "<div>\n",
       "<style scoped>\n",
       "    .dataframe tbody tr th:only-of-type {\n",
       "        vertical-align: middle;\n",
       "    }\n",
       "\n",
       "    .dataframe tbody tr th {\n",
       "        vertical-align: top;\n",
       "    }\n",
       "\n",
       "    .dataframe thead th {\n",
       "        text-align: right;\n",
       "    }\n",
       "</style>\n",
       "<table border=\"1\" class=\"dataframe\">\n",
       "  <thead>\n",
       "    <tr style=\"text-align: right;\">\n",
       "      <th></th>\n",
       "      <th>name</th>\n",
       "      <th>type</th>\n",
       "      <th>status</th>\n",
       "      <th>condition</th>\n",
       "      <th>surface_type</th>\n",
       "      <th>surface_description</th>\n",
       "      <th>_merge</th>\n",
       "    </tr>\n",
       "  </thead>\n",
       "  <tbody>\n",
       "    <tr>\n",
       "      <th>0</th>\n",
       "      <td>Main Street Trail</td>\n",
       "      <td>sidewalk</td>\n",
       "      <td>open</td>\n",
       "      <td>good</td>\n",
       "      <td>sidewalk</td>\n",
       "      <td>A shared-use path usually consisting of concre...</td>\n",
       "      <td>both</td>\n",
       "    </tr>\n",
       "    <tr>\n",
       "      <th>1</th>\n",
       "      <td>Benches</td>\n",
       "      <td>paved</td>\n",
       "      <td>open</td>\n",
       "      <td>poor</td>\n",
       "      <td>paved</td>\n",
       "      <td>An asphalt-paved shared-use path at least 10 f...</td>\n",
       "      <td>both</td>\n",
       "    </tr>\n",
       "    <tr>\n",
       "      <th>2</th>\n",
       "      <td>Beltway</td>\n",
       "      <td>paved</td>\n",
       "      <td>open</td>\n",
       "      <td>failed</td>\n",
       "      <td>paved</td>\n",
       "      <td>An asphalt-paved shared-use path at least 10 f...</td>\n",
       "      <td>both</td>\n",
       "    </tr>\n",
       "    <tr>\n",
       "      <th>3</th>\n",
       "      <td>Provo Express</td>\n",
       "      <td>paved</td>\n",
       "      <td>planned</td>\n",
       "      <td>None</td>\n",
       "      <td>paved</td>\n",
       "      <td>An asphalt-paved shared-use path at least 10 f...</td>\n",
       "      <td>both</td>\n",
       "    </tr>\n",
       "    <tr>\n",
       "      <th>4</th>\n",
       "      <td>NaN</td>\n",
       "      <td>NaN</td>\n",
       "      <td>NaN</td>\n",
       "      <td>NaN</td>\n",
       "      <td>gravel</td>\n",
       "      <td>A gravel-based natural-surface path</td>\n",
       "      <td>right_only</td>\n",
       "    </tr>\n",
       "  </tbody>\n",
       "</table>\n",
       "</div>"
      ],
      "text/plain": [
       "                name      type   status condition surface_type  \\\n",
       "0  Main Street Trail  sidewalk     open      good     sidewalk   \n",
       "1            Benches     paved     open      poor        paved   \n",
       "2            Beltway     paved     open    failed        paved   \n",
       "3      Provo Express     paved  planned      None        paved   \n",
       "4                NaN       NaN      NaN       NaN       gravel   \n",
       "\n",
       "                                 surface_description      _merge  \n",
       "0  A shared-use path usually consisting of concre...        both  \n",
       "1  An asphalt-paved shared-use path at least 10 f...        both  \n",
       "2  An asphalt-paved shared-use path at least 10 f...        both  \n",
       "3  An asphalt-paved shared-use path at least 10 f...        both  \n",
       "4                A gravel-based natural-surface path  right_only  "
      ]
     },
     "execution_count": 78,
     "metadata": {},
     "output_type": "execute_result"
    }
   ],
   "source": [
    "new_combined_df.merge(surface_description_df, left_on='type', right_on='surface_type', how='outer', indicator=True)"
   ]
  },
  {
   "cell_type": "markdown",
   "id": "7d57ca94",
   "metadata": {},
   "source": [
    "# Spatial Joins: Like a Table, but Spatial!"
   ]
  },
  {
   "cell_type": "markdown",
   "id": "20902965",
   "metadata": {},
   "source": [
    " Question: How many people are there per supermarket in each county?"
   ]
  },
  {
   "cell_type": "code",
   "execution_count": 79,
   "id": "069d62ec",
   "metadata": {},
   "outputs": [],
   "source": [
    "#: Load in the data\n",
    "places_df = pd.DataFrame.spatial.from_featureclass(r'open_source_places.gdb/OpenSourcePlaces')\n",
    "new_counties_df = pd.DataFrame.spatial.from_featureclass(r'county_boundaries.gdb/Counties')"
   ]
  },
  {
   "cell_type": "code",
   "execution_count": 80,
   "id": "5cf222c2",
   "metadata": {},
   "outputs": [
    {
     "data": {
      "text/plain": [
       "building                5479\n",
       "restaurant              2352\n",
       "christian               1913\n",
       "park                    1870\n",
       "fast_food               1681\n",
       "                        ... \n",
       "greengrocer                3\n",
       "jewish                     2\n",
       "embassy                    2\n",
       "christian_protestant       1\n",
       "hindu                      1\n",
       "Name: category, Length: 105, dtype: int64"
      ]
     },
     "execution_count": 80,
     "metadata": {},
     "output_type": "execute_result"
    }
   ],
   "source": [
    "places_df['category'].value_counts()"
   ]
  },
  {
   "cell_type": "code",
   "execution_count": 81,
   "id": "4eb97816",
   "metadata": {
    "scrolled": true
   },
   "outputs": [
    {
     "data": {
      "text/plain": [
       "['airport',\n",
       " 'archaeological',\n",
       " 'arts_centre',\n",
       " 'attraction',\n",
       " 'bakery',\n",
       " 'bank',\n",
       " 'bar',\n",
       " 'beauty_shop',\n",
       " 'beverages',\n",
       " 'bicycle_rental',\n",
       " 'bicycle_shop',\n",
       " 'bookshop',\n",
       " 'buddhist',\n",
       " 'building',\n",
       " 'butcher',\n",
       " 'cafe',\n",
       " 'camp_site',\n",
       " 'car_dealership',\n",
       " 'car_rental',\n",
       " 'car_wash',\n",
       " 'caravan_site',\n",
       " 'chemist',\n",
       " 'christian',\n",
       " 'christian_anglican',\n",
       " 'christian_catholic',\n",
       " 'christian_lutheran',\n",
       " 'christian_methodist',\n",
       " 'christian_protestant',\n",
       " 'cinema',\n",
       " 'clothes',\n",
       " 'college',\n",
       " 'community_centre',\n",
       " 'computer_shop',\n",
       " 'convenience',\n",
       " 'courthouse',\n",
       " 'dentist',\n",
       " 'department_store',\n",
       " 'doctors',\n",
       " 'doityourself',\n",
       " 'embassy',\n",
       " 'fast_food',\n",
       " 'fire_station',\n",
       " 'florist',\n",
       " 'furniture_shop',\n",
       " 'garden_centre',\n",
       " 'general',\n",
       " 'gift_shop',\n",
       " 'golf_course',\n",
       " 'graveyard',\n",
       " 'greengrocer',\n",
       " 'guesthouse',\n",
       " 'hairdresser',\n",
       " 'helipad',\n",
       " 'hindu',\n",
       " 'hospital',\n",
       " 'hostel',\n",
       " 'hotel',\n",
       " 'jeweller',\n",
       " 'jewish',\n",
       " 'kindergarten',\n",
       " 'laundry',\n",
       " 'library',\n",
       " 'mall',\n",
       " 'market_place',\n",
       " 'memorial',\n",
       " 'mobile_phone_shop',\n",
       " 'monument',\n",
       " 'motel',\n",
       " 'museum',\n",
       " 'muslim',\n",
       " 'nightclub',\n",
       " 'nursing_home',\n",
       " 'optician',\n",
       " 'outdoor_shop',\n",
       " 'park',\n",
       " 'pharmacy',\n",
       " 'picnic_site',\n",
       " 'playground',\n",
       " 'police',\n",
       " 'post_office',\n",
       " 'pub',\n",
       " 'railway_station',\n",
       " 'restaurant',\n",
       " 'ruins',\n",
       " 'school',\n",
       " 'shelter',\n",
       " 'shoe_shop',\n",
       " 'sports_centre',\n",
       " 'sports_shop',\n",
       " 'stadium',\n",
       " 'stationery',\n",
       " 'supermarket',\n",
       " 'swimming_pool',\n",
       " 'theatre',\n",
       " 'tourist_info',\n",
       " 'tower',\n",
       " 'town_hall',\n",
       " 'toy_shop',\n",
       " 'travel_agent',\n",
       " 'university',\n",
       " 'vending_any',\n",
       " 'veterinary',\n",
       " 'video_shop',\n",
       " 'viewpoint',\n",
       " 'zoo']"
      ]
     },
     "execution_count": 81,
     "metadata": {},
     "output_type": "execute_result"
    }
   ],
   "source": [
    "sorted(places_df['category'].unique())"
   ]
  },
  {
   "cell_type": "code",
   "execution_count": 82,
   "id": "eb9cb4f6",
   "metadata": {},
   "outputs": [
    {
     "name": "stdout",
     "output_type": "stream",
     "text": [
      "<class 'pandas.core.frame.DataFrame'>\n",
      "Int64Index: 273 entries, 68 to 18846\n",
      "Data columns (total 22 columns):\n",
      " #   Column      Non-Null Count  Dtype   \n",
      "---  ------      --------------  -----   \n",
      " 0   OBJECTID    273 non-null    int64   \n",
      " 1   addr_dist   179 non-null    float64 \n",
      " 2   osm_id      273 non-null    object  \n",
      " 3   category    273 non-null    object  \n",
      " 4   name        273 non-null    object  \n",
      " 5   county      273 non-null    object  \n",
      " 6   city        273 non-null    object  \n",
      " 7   zip         273 non-null    object  \n",
      " 8   block_id    273 non-null    object  \n",
      " 9   ugrc_addr   273 non-null    object  \n",
      " 10  disclaimer  273 non-null    object  \n",
      " 11  lon         273 non-null    float64 \n",
      " 12  lat         273 non-null    float64 \n",
      " 13  amenity     273 non-null    object  \n",
      " 14  cuisine     273 non-null    object  \n",
      " 15  tourism     273 non-null    object  \n",
      " 16  shop        273 non-null    object  \n",
      " 17  website     273 non-null    object  \n",
      " 18  phone       273 non-null    object  \n",
      " 19  open_hours  273 non-null    object  \n",
      " 20  osm_addr    273 non-null    object  \n",
      " 21  SHAPE       273 non-null    geometry\n",
      "dtypes: float64(3), geometry(1), int64(1), object(17)\n",
      "memory usage: 49.1+ KB\n",
      "None\n"
     ]
    },
    {
     "data": {
      "text/html": [
       "<div>\n",
       "<style scoped>\n",
       "    .dataframe tbody tr th:only-of-type {\n",
       "        vertical-align: middle;\n",
       "    }\n",
       "\n",
       "    .dataframe tbody tr th {\n",
       "        vertical-align: top;\n",
       "    }\n",
       "\n",
       "    .dataframe thead th {\n",
       "        text-align: right;\n",
       "    }\n",
       "</style>\n",
       "<table border=\"1\" class=\"dataframe\">\n",
       "  <thead>\n",
       "    <tr style=\"text-align: right;\">\n",
       "      <th></th>\n",
       "      <th>OBJECTID</th>\n",
       "      <th>addr_dist</th>\n",
       "      <th>osm_id</th>\n",
       "      <th>category</th>\n",
       "      <th>name</th>\n",
       "      <th>county</th>\n",
       "      <th>city</th>\n",
       "      <th>zip</th>\n",
       "      <th>block_id</th>\n",
       "      <th>ugrc_addr</th>\n",
       "      <th>...</th>\n",
       "      <th>lat</th>\n",
       "      <th>amenity</th>\n",
       "      <th>cuisine</th>\n",
       "      <th>tourism</th>\n",
       "      <th>shop</th>\n",
       "      <th>website</th>\n",
       "      <th>phone</th>\n",
       "      <th>open_hours</th>\n",
       "      <th>osm_addr</th>\n",
       "      <th>SHAPE</th>\n",
       "    </tr>\n",
       "  </thead>\n",
       "  <tbody>\n",
       "    <tr>\n",
       "      <th>68</th>\n",
       "      <td>69</td>\n",
       "      <td>NaN</td>\n",
       "      <td>306835249</td>\n",
       "      <td>supermarket</td>\n",
       "      <td>Winegar's</td>\n",
       "      <td>WEBER</td>\n",
       "      <td>OGDEN</td>\n",
       "      <td>84067</td>\n",
       "      <td>490572105133005</td>\n",
       "      <td>None</td>\n",
       "      <td>...</td>\n",
       "      <td>41.177380</td>\n",
       "      <td>None</td>\n",
       "      <td>None</td>\n",
       "      <td>None</td>\n",
       "      <td>supermarket</td>\n",
       "      <td>None</td>\n",
       "      <td>None</td>\n",
       "      <td>None</td>\n",
       "      <td>None</td>\n",
       "      <td>{\"x\": -112.06271881999999, \"y\": 41.17738674000...</td>\n",
       "    </tr>\n",
       "    <tr>\n",
       "      <th>87</th>\n",
       "      <td>88</td>\n",
       "      <td>22.674714</td>\n",
       "      <td>307362738</td>\n",
       "      <td>supermarket</td>\n",
       "      <td>Kents</td>\n",
       "      <td>WEBER</td>\n",
       "      <td>OGDEN</td>\n",
       "      <td>84067</td>\n",
       "      <td>490572105091021</td>\n",
       "      <td>3535 W 5500 S</td>\n",
       "      <td>...</td>\n",
       "      <td>41.162968</td>\n",
       "      <td>None</td>\n",
       "      <td>None</td>\n",
       "      <td>None</td>\n",
       "      <td>supermarket</td>\n",
       "      <td>None</td>\n",
       "      <td>None</td>\n",
       "      <td>None</td>\n",
       "      <td>None</td>\n",
       "      <td>{\"x\": -112.06581891999997, \"y\": 41.16297414000...</td>\n",
       "    </tr>\n",
       "    <tr>\n",
       "      <th>111</th>\n",
       "      <td>112</td>\n",
       "      <td>11.190251</td>\n",
       "      <td>308444242</td>\n",
       "      <td>supermarket</td>\n",
       "      <td>Natural Foods</td>\n",
       "      <td>WEBER</td>\n",
       "      <td>OGDEN</td>\n",
       "      <td>84405</td>\n",
       "      <td>490572105122014</td>\n",
       "      <td>1050 W RIVERDALE RD</td>\n",
       "      <td>...</td>\n",
       "      <td>41.177574</td>\n",
       "      <td>None</td>\n",
       "      <td>None</td>\n",
       "      <td>None</td>\n",
       "      <td>supermarket</td>\n",
       "      <td>None</td>\n",
       "      <td>None</td>\n",
       "      <td>None</td>\n",
       "      <td>None</td>\n",
       "      <td>{\"x\": -112.00384751999997, \"y\": 41.17757994000...</td>\n",
       "    </tr>\n",
       "    <tr>\n",
       "      <th>121</th>\n",
       "      <td>122</td>\n",
       "      <td>NaN</td>\n",
       "      <td>308973217</td>\n",
       "      <td>supermarket</td>\n",
       "      <td>Kent's</td>\n",
       "      <td>DAVIS</td>\n",
       "      <td>CLEARFIELD</td>\n",
       "      <td>84015</td>\n",
       "      <td>490111257013011</td>\n",
       "      <td>None</td>\n",
       "      <td>...</td>\n",
       "      <td>41.104546</td>\n",
       "      <td>None</td>\n",
       "      <td>None</td>\n",
       "      <td>None</td>\n",
       "      <td>supermarket</td>\n",
       "      <td>None</td>\n",
       "      <td>None</td>\n",
       "      <td>None</td>\n",
       "      <td>None</td>\n",
       "      <td>{\"x\": -112.01850231899999, \"y\": 41.10455224000...</td>\n",
       "    </tr>\n",
       "    <tr>\n",
       "      <th>161</th>\n",
       "      <td>162</td>\n",
       "      <td>NaN</td>\n",
       "      <td>355819779</td>\n",
       "      <td>supermarket</td>\n",
       "      <td>Winegar's Grocery</td>\n",
       "      <td>DAVIS</td>\n",
       "      <td>CLEARFIELD</td>\n",
       "      <td>84015</td>\n",
       "      <td>490111255011027</td>\n",
       "      <td>None</td>\n",
       "      <td>...</td>\n",
       "      <td>41.119408</td>\n",
       "      <td>None</td>\n",
       "      <td>None</td>\n",
       "      <td>None</td>\n",
       "      <td>supermarket</td>\n",
       "      <td>None</td>\n",
       "      <td>None</td>\n",
       "      <td>None</td>\n",
       "      <td>None</td>\n",
       "      <td>{\"x\": -112.04676911899998, \"y\": 41.11941383900...</td>\n",
       "    </tr>\n",
       "  </tbody>\n",
       "</table>\n",
       "<p>5 rows × 22 columns</p>\n",
       "</div>"
      ],
      "text/plain": [
       "     OBJECTID  addr_dist     osm_id     category               name county  \\\n",
       "68         69        NaN  306835249  supermarket          Winegar's  WEBER   \n",
       "87         88  22.674714  307362738  supermarket              Kents  WEBER   \n",
       "111       112  11.190251  308444242  supermarket      Natural Foods  WEBER   \n",
       "121       122        NaN  308973217  supermarket             Kent's  DAVIS   \n",
       "161       162        NaN  355819779  supermarket  Winegar's Grocery  DAVIS   \n",
       "\n",
       "           city    zip         block_id            ugrc_addr  ...        lat  \\\n",
       "68        OGDEN  84067  490572105133005                 None  ...  41.177380   \n",
       "87        OGDEN  84067  490572105091021        3535 W 5500 S  ...  41.162968   \n",
       "111       OGDEN  84405  490572105122014  1050 W RIVERDALE RD  ...  41.177574   \n",
       "121  CLEARFIELD  84015  490111257013011                 None  ...  41.104546   \n",
       "161  CLEARFIELD  84015  490111255011027                 None  ...  41.119408   \n",
       "\n",
       "     amenity  cuisine tourism         shop website phone open_hours osm_addr  \\\n",
       "68      None     None    None  supermarket    None  None       None     None   \n",
       "87      None     None    None  supermarket    None  None       None     None   \n",
       "111     None     None    None  supermarket    None  None       None     None   \n",
       "121     None     None    None  supermarket    None  None       None     None   \n",
       "161     None     None    None  supermarket    None  None       None     None   \n",
       "\n",
       "                                                 SHAPE  \n",
       "68   {\"x\": -112.06271881999999, \"y\": 41.17738674000...  \n",
       "87   {\"x\": -112.06581891999997, \"y\": 41.16297414000...  \n",
       "111  {\"x\": -112.00384751999997, \"y\": 41.17757994000...  \n",
       "121  {\"x\": -112.01850231899999, \"y\": 41.10455224000...  \n",
       "161  {\"x\": -112.04676911899998, \"y\": 41.11941383900...  \n",
       "\n",
       "[5 rows x 22 columns]"
      ]
     },
     "execution_count": 82,
     "metadata": {},
     "output_type": "execute_result"
    }
   ],
   "source": [
    "#: Filter down to just supermarkets, make a copy\n",
    "supermarkets_df = places_df[places_df['category'] == 'supermarket'].copy()\n",
    "print(supermarkets_df.info())\n",
    "supermarkets_df.head()"
   ]
  },
  {
   "cell_type": "code",
   "execution_count": 83,
   "id": "b065ed06",
   "metadata": {},
   "outputs": [
    {
     "ename": "Exception",
     "evalue": "Difference Spatial References, aborting operation",
     "output_type": "error",
     "traceback": [
      "\u001b[1;31m---------------------------------------------------------------------------\u001b[0m",
      "\u001b[1;31mException\u001b[0m                                 Traceback (most recent call last)",
      "\u001b[1;32m<ipython-input-83-e1c3f1afe7cb>\u001b[0m in \u001b[0;36m<module>\u001b[1;34m\u001b[0m\n\u001b[0;32m      1\u001b[0m \u001b[1;31m#: Try the join\u001b[0m\u001b[1;33m\u001b[0m\u001b[1;33m\u001b[0m\u001b[0m\n\u001b[1;32m----> 2\u001b[1;33m \u001b[0msupermarkets_df\u001b[0m\u001b[1;33m.\u001b[0m\u001b[0mspatial\u001b[0m\u001b[1;33m.\u001b[0m\u001b[0mjoin\u001b[0m\u001b[1;33m(\u001b[0m\u001b[0mnew_counties_df\u001b[0m\u001b[1;33m)\u001b[0m\u001b[1;33m\u001b[0m\u001b[1;33m\u001b[0m\u001b[0m\n\u001b[0m",
      "\u001b[1;32m~\\AppData\\Local\\Programs\\ArcGIS\\Pro\\bin\\Python\\envs\\arcpy\\lib\\site-packages\\arcgis\\features\\geo\\_accessor.py\u001b[0m in \u001b[0;36mjoin\u001b[1;34m(self, right_df, how, op, left_tag, right_tag)\u001b[0m\n\u001b[0;32m   1552\u001b[0m             )\n\u001b[0;32m   1553\u001b[0m         \u001b[1;32mif\u001b[0m \u001b[0mself\u001b[0m\u001b[1;33m.\u001b[0m\u001b[0msr\u001b[0m \u001b[1;33m!=\u001b[0m \u001b[0mright_df\u001b[0m\u001b[1;33m.\u001b[0m\u001b[0mspatial\u001b[0m\u001b[1;33m.\u001b[0m\u001b[0msr\u001b[0m\u001b[1;33m:\u001b[0m\u001b[1;33m\u001b[0m\u001b[1;33m\u001b[0m\u001b[0m\n\u001b[1;32m-> 1554\u001b[1;33m             \u001b[1;32mraise\u001b[0m \u001b[0mException\u001b[0m\u001b[1;33m(\u001b[0m\u001b[1;34m\"Difference Spatial References, aborting operation\"\u001b[0m\u001b[1;33m)\u001b[0m\u001b[1;33m\u001b[0m\u001b[1;33m\u001b[0m\u001b[0m\n\u001b[0m\u001b[0;32m   1555\u001b[0m         \u001b[0mindex_left\u001b[0m \u001b[1;33m=\u001b[0m \u001b[1;34m\"index_{}\"\u001b[0m\u001b[1;33m.\u001b[0m\u001b[0mformat\u001b[0m\u001b[1;33m(\u001b[0m\u001b[0mleft_tag\u001b[0m\u001b[1;33m)\u001b[0m\u001b[1;33m\u001b[0m\u001b[1;33m\u001b[0m\u001b[0m\n\u001b[0;32m   1556\u001b[0m         \u001b[0mindex_right\u001b[0m \u001b[1;33m=\u001b[0m \u001b[1;34m\"index_{}\"\u001b[0m\u001b[1;33m.\u001b[0m\u001b[0mformat\u001b[0m\u001b[1;33m(\u001b[0m\u001b[0mright_tag\u001b[0m\u001b[1;33m)\u001b[0m\u001b[1;33m\u001b[0m\u001b[1;33m\u001b[0m\u001b[0m\n",
      "\u001b[1;31mException\u001b[0m: Difference Spatial References, aborting operation"
     ]
    }
   ],
   "source": [
    "#: Try the join\n",
    "supermarkets_df.spatial.join(new_counties_df)"
   ]
  },
  {
   "cell_type": "code",
   "execution_count": 84,
   "id": "1b7c3743",
   "metadata": {},
   "outputs": [
    {
     "name": "stdout",
     "output_type": "stream",
     "text": [
      "{'wkid': 4326, 'latestWkid': 4326}\n",
      "{'wkid': 102100, 'latestWkid': 3857}\n"
     ]
    }
   ],
   "source": [
    "print(supermarkets_df.spatial.sr)\n",
    "print(new_counties_df.spatial.sr)"
   ]
  },
  {
   "cell_type": "code",
   "execution_count": 85,
   "id": "df81a450",
   "metadata": {},
   "outputs": [
    {
     "data": {
      "text/plain": [
       "True"
      ]
     },
     "execution_count": 85,
     "metadata": {},
     "output_type": "execute_result"
    }
   ],
   "source": [
    "#: Reproject the supermarkets to Web Mercator\n",
    "supermarkets_df.spatial.project(3857)"
   ]
  },
  {
   "cell_type": "code",
   "execution_count": 86,
   "id": "ca9cf907",
   "metadata": {},
   "outputs": [
    {
     "ename": "KeyError",
     "evalue": "'[14081, 8355, 13348, 8259, 13419, 8848, 11120, 882, 18196, 8181, 8183, 8634, 15324, 1159, 967, 970, 1162, 990, 4480, 10754, 10758, 1547, 11033, 3099, 14329, 11048, 11689, 3376, 15412, 15546, 11579, 11462, 8134, 17763, 10986, 2286, 9071, 12923, 8062, 16385, 12866, 18821, 14764, 18316, 11475, 950, 13147, 3039, 1166, 4881, 9368, 1701, 4774, 1194, 12337, 9272, 5949, 11714, 9539, 1093, 7120, 4817, 11730, 982, 4835, 11877, 998, 11753, 1014, 18706, 17705, 5394, 13557, 12906, 5491, 5717, 5625, 5792, 1186, 5859, 13758, 12843, 13868, 1071, 1075, 6707, 1238, 3225, 2814, 1247, 3467, 1276, 1292, 5086, 3694, 3090, 18020, 13718, 1731, 16745, 6042, 16747, 3324, 1866, 17693, 3314, 15374, 1024, 13601, 5826, 2787, 16123, 9498, 3071, 4243, 6164, 6168, 13730, 16039, 15296, 12867, 12241, 13820, 13809, 13822, 874, 12288, 7621, 2055, 2572, 2573, 14353, 8212, 8224, 8226, 11300, 3110, 8232, 8233, 9257, 11309, 15920, 11314, 16947, 17460, 2104, 2556, 8790, 1113, 12892, 16991, 15457, 13924, 1129, 15468, 12402, 11379, 12420, 11406, 14481, 2195, 9883, 1183, 2213, 12455, 7336, 5805, 9906, 10936, 11453, 18627, 12995, 17101, 5332, 8416, 12521, 13034, 17131, 16622, 9457, 8947, 2803, 1790, 8970, 5901, 3854, 5905, 6422, 11548, 12576, 9507, 9003, 2347, 5935, 5936, 13104, 2353, 7988, 2358, 1849, 13120, 13633, 3909, 3913, 5450, 13135, 3920, 9044, 9046, 8546, 12643, 12647, 13168, 6004, 9081, 14714, 15227, 3455, 14722, 6041, 12187, 18846, 16292, 4520, 4533, 16823, 4538, 4550, 7119, 8150, 16343, 12783, 8176, 5105, 11256, 4604, 17405, 11911, 10775, 10780, 6519, 12065, 5284, 13989, 12202, 11954, 11317, 11957, 11448, 11321, 11964, 5948, 3266, 7105, 14659, 16069, 1735, 11978, 15179, 10828, 3024, 15185, 8403, 13658, 1376, 9959, 7024, 10231] not in index'",
     "output_type": "error",
     "traceback": [
      "\u001b[1;31m---------------------------------------------------------------------------\u001b[0m",
      "\u001b[1;31mKeyError\u001b[0m                                  Traceback (most recent call last)",
      "\u001b[1;32m<ipython-input-86-a0d7db3a0141>\u001b[0m in \u001b[0;36m<module>\u001b[1;34m\u001b[0m\n\u001b[1;32m----> 1\u001b[1;33m \u001b[0msupermarkets_df\u001b[0m\u001b[1;33m.\u001b[0m\u001b[0mspatial\u001b[0m\u001b[1;33m.\u001b[0m\u001b[0mjoin\u001b[0m\u001b[1;33m(\u001b[0m\u001b[0mnew_counties_df\u001b[0m\u001b[1;33m,\u001b[0m \u001b[0mhow\u001b[0m\u001b[1;33m=\u001b[0m\u001b[1;34m'inner'\u001b[0m\u001b[1;33m,\u001b[0m \u001b[0mop\u001b[0m\u001b[1;33m=\u001b[0m\u001b[1;34m'within'\u001b[0m\u001b[1;33m)\u001b[0m\u001b[1;33m\u001b[0m\u001b[1;33m\u001b[0m\u001b[0m\n\u001b[0m",
      "\u001b[1;32m~\\AppData\\Local\\Programs\\ArcGIS\\Pro\\bin\\Python\\envs\\arcpy\\lib\\site-packages\\arcgis\\features\\geo\\_accessor.py\u001b[0m in \u001b[0;36mjoin\u001b[1;34m(self, right_df, how, op, left_tag, right_tag)\u001b[0m\n\u001b[0;32m   1616\u001b[0m                         check_predicates(\n\u001b[0;32m   1617\u001b[0m                             \u001b[0mleft_df\u001b[0m\u001b[1;33m[\u001b[0m\u001b[0mself\u001b[0m\u001b[1;33m.\u001b[0m\u001b[0mname\u001b[0m\u001b[1;33m]\u001b[0m\u001b[1;33m.\u001b[0m\u001b[0mapply\u001b[0m\u001b[1;33m(\u001b[0m\u001b[1;32mlambda\u001b[0m \u001b[0mx\u001b[0m\u001b[1;33m:\u001b[0m \u001b[0mx\u001b[0m\u001b[1;33m)\u001b[0m\u001b[1;33m[\u001b[0m\u001b[0ml_idx\u001b[0m\u001b[1;33m]\u001b[0m\u001b[1;33m,\u001b[0m\u001b[1;33m\u001b[0m\u001b[1;33m\u001b[0m\u001b[0m\n\u001b[1;32m-> 1618\u001b[1;33m                             \u001b[0mright_df\u001b[0m\u001b[1;33m[\u001b[0m\u001b[0mright_df\u001b[0m\u001b[1;33m.\u001b[0m\u001b[0mspatial\u001b[0m\u001b[1;33m.\u001b[0m\u001b[0m_name\u001b[0m\u001b[1;33m]\u001b[0m\u001b[1;33m[\u001b[0m\u001b[0mr_idx\u001b[0m\u001b[1;33m]\u001b[0m\u001b[1;33m,\u001b[0m\u001b[1;33m\u001b[0m\u001b[1;33m\u001b[0m\u001b[0m\n\u001b[0m\u001b[0;32m   1619\u001b[0m                         ),\n\u001b[0;32m   1620\u001b[0m                     ]\n",
      "\u001b[1;32m~\\AppData\\Local\\Programs\\ArcGIS\\Pro\\bin\\Python\\envs\\arcpy\\lib\\site-packages\\pandas\\core\\series.py\u001b[0m in \u001b[0;36m__getitem__\u001b[1;34m(self, key)\u001b[0m\n\u001b[0;32m    964\u001b[0m             \u001b[1;32mreturn\u001b[0m \u001b[0mself\u001b[0m\u001b[1;33m.\u001b[0m\u001b[0m_get_values\u001b[0m\u001b[1;33m(\u001b[0m\u001b[0mkey\u001b[0m\u001b[1;33m)\u001b[0m\u001b[1;33m\u001b[0m\u001b[1;33m\u001b[0m\u001b[0m\n\u001b[0;32m    965\u001b[0m \u001b[1;33m\u001b[0m\u001b[0m\n\u001b[1;32m--> 966\u001b[1;33m         \u001b[1;32mreturn\u001b[0m \u001b[0mself\u001b[0m\u001b[1;33m.\u001b[0m\u001b[0m_get_with\u001b[0m\u001b[1;33m(\u001b[0m\u001b[0mkey\u001b[0m\u001b[1;33m)\u001b[0m\u001b[1;33m\u001b[0m\u001b[1;33m\u001b[0m\u001b[0m\n\u001b[0m\u001b[0;32m    967\u001b[0m \u001b[1;33m\u001b[0m\u001b[0m\n\u001b[0;32m    968\u001b[0m     \u001b[1;32mdef\u001b[0m \u001b[0m_get_with\u001b[0m\u001b[1;33m(\u001b[0m\u001b[0mself\u001b[0m\u001b[1;33m,\u001b[0m \u001b[0mkey\u001b[0m\u001b[1;33m)\u001b[0m\u001b[1;33m:\u001b[0m\u001b[1;33m\u001b[0m\u001b[1;33m\u001b[0m\u001b[0m\n",
      "\u001b[1;32m~\\AppData\\Local\\Programs\\ArcGIS\\Pro\\bin\\Python\\envs\\arcpy\\lib\\site-packages\\pandas\\core\\series.py\u001b[0m in \u001b[0;36m_get_with\u001b[1;34m(self, key)\u001b[0m\n\u001b[0;32m    999\u001b[0m             \u001b[1;31m#  (i.e. self.iloc) or label-based (i.e. self.loc)\u001b[0m\u001b[1;33m\u001b[0m\u001b[1;33m\u001b[0m\u001b[0m\n\u001b[0;32m   1000\u001b[0m             \u001b[1;32mif\u001b[0m \u001b[1;32mnot\u001b[0m \u001b[0mself\u001b[0m\u001b[1;33m.\u001b[0m\u001b[0mindex\u001b[0m\u001b[1;33m.\u001b[0m\u001b[0m_should_fallback_to_positional\u001b[0m\u001b[1;33m(\u001b[0m\u001b[1;33m)\u001b[0m\u001b[1;33m:\u001b[0m\u001b[1;33m\u001b[0m\u001b[1;33m\u001b[0m\u001b[0m\n\u001b[1;32m-> 1001\u001b[1;33m                 \u001b[1;32mreturn\u001b[0m \u001b[0mself\u001b[0m\u001b[1;33m.\u001b[0m\u001b[0mloc\u001b[0m\u001b[1;33m[\u001b[0m\u001b[0mkey\u001b[0m\u001b[1;33m]\u001b[0m\u001b[1;33m\u001b[0m\u001b[1;33m\u001b[0m\u001b[0m\n\u001b[0m\u001b[0;32m   1002\u001b[0m             \u001b[1;32melse\u001b[0m\u001b[1;33m:\u001b[0m\u001b[1;33m\u001b[0m\u001b[1;33m\u001b[0m\u001b[0m\n\u001b[0;32m   1003\u001b[0m                 \u001b[1;32mreturn\u001b[0m \u001b[0mself\u001b[0m\u001b[1;33m.\u001b[0m\u001b[0miloc\u001b[0m\u001b[1;33m[\u001b[0m\u001b[0mkey\u001b[0m\u001b[1;33m]\u001b[0m\u001b[1;33m\u001b[0m\u001b[1;33m\u001b[0m\u001b[0m\n",
      "\u001b[1;32m~\\AppData\\Local\\Programs\\ArcGIS\\Pro\\bin\\Python\\envs\\arcpy\\lib\\site-packages\\pandas\\core\\indexing.py\u001b[0m in \u001b[0;36m__getitem__\u001b[1;34m(self, key)\u001b[0m\n\u001b[0;32m    929\u001b[0m \u001b[1;33m\u001b[0m\u001b[0m\n\u001b[0;32m    930\u001b[0m             \u001b[0mmaybe_callable\u001b[0m \u001b[1;33m=\u001b[0m \u001b[0mcom\u001b[0m\u001b[1;33m.\u001b[0m\u001b[0mapply_if_callable\u001b[0m\u001b[1;33m(\u001b[0m\u001b[0mkey\u001b[0m\u001b[1;33m,\u001b[0m \u001b[0mself\u001b[0m\u001b[1;33m.\u001b[0m\u001b[0mobj\u001b[0m\u001b[1;33m)\u001b[0m\u001b[1;33m\u001b[0m\u001b[1;33m\u001b[0m\u001b[0m\n\u001b[1;32m--> 931\u001b[1;33m             \u001b[1;32mreturn\u001b[0m \u001b[0mself\u001b[0m\u001b[1;33m.\u001b[0m\u001b[0m_getitem_axis\u001b[0m\u001b[1;33m(\u001b[0m\u001b[0mmaybe_callable\u001b[0m\u001b[1;33m,\u001b[0m \u001b[0maxis\u001b[0m\u001b[1;33m=\u001b[0m\u001b[0maxis\u001b[0m\u001b[1;33m)\u001b[0m\u001b[1;33m\u001b[0m\u001b[1;33m\u001b[0m\u001b[0m\n\u001b[0m\u001b[0;32m    932\u001b[0m \u001b[1;33m\u001b[0m\u001b[0m\n\u001b[0;32m    933\u001b[0m     \u001b[1;32mdef\u001b[0m \u001b[0m_is_scalar_access\u001b[0m\u001b[1;33m(\u001b[0m\u001b[0mself\u001b[0m\u001b[1;33m,\u001b[0m \u001b[0mkey\u001b[0m\u001b[1;33m:\u001b[0m \u001b[0mtuple\u001b[0m\u001b[1;33m)\u001b[0m\u001b[1;33m:\u001b[0m\u001b[1;33m\u001b[0m\u001b[1;33m\u001b[0m\u001b[0m\n",
      "\u001b[1;32m~\\AppData\\Local\\Programs\\ArcGIS\\Pro\\bin\\Python\\envs\\arcpy\\lib\\site-packages\\pandas\\core\\indexing.py\u001b[0m in \u001b[0;36m_getitem_axis\u001b[1;34m(self, key, axis)\u001b[0m\n\u001b[0;32m   1151\u001b[0m                     \u001b[1;32mraise\u001b[0m \u001b[0mValueError\u001b[0m\u001b[1;33m(\u001b[0m\u001b[1;34m\"Cannot index with multidimensional key\"\u001b[0m\u001b[1;33m)\u001b[0m\u001b[1;33m\u001b[0m\u001b[1;33m\u001b[0m\u001b[0m\n\u001b[0;32m   1152\u001b[0m \u001b[1;33m\u001b[0m\u001b[0m\n\u001b[1;32m-> 1153\u001b[1;33m                 \u001b[1;32mreturn\u001b[0m \u001b[0mself\u001b[0m\u001b[1;33m.\u001b[0m\u001b[0m_getitem_iterable\u001b[0m\u001b[1;33m(\u001b[0m\u001b[0mkey\u001b[0m\u001b[1;33m,\u001b[0m \u001b[0maxis\u001b[0m\u001b[1;33m=\u001b[0m\u001b[0maxis\u001b[0m\u001b[1;33m)\u001b[0m\u001b[1;33m\u001b[0m\u001b[1;33m\u001b[0m\u001b[0m\n\u001b[0m\u001b[0;32m   1154\u001b[0m \u001b[1;33m\u001b[0m\u001b[0m\n\u001b[0;32m   1155\u001b[0m             \u001b[1;31m# nested tuple slicing\u001b[0m\u001b[1;33m\u001b[0m\u001b[1;33m\u001b[0m\u001b[0m\n",
      "\u001b[1;32m~\\AppData\\Local\\Programs\\ArcGIS\\Pro\\bin\\Python\\envs\\arcpy\\lib\\site-packages\\pandas\\core\\indexing.py\u001b[0m in \u001b[0;36m_getitem_iterable\u001b[1;34m(self, key, axis)\u001b[0m\n\u001b[0;32m   1091\u001b[0m \u001b[1;33m\u001b[0m\u001b[0m\n\u001b[0;32m   1092\u001b[0m         \u001b[1;31m# A collection of keys\u001b[0m\u001b[1;33m\u001b[0m\u001b[1;33m\u001b[0m\u001b[0m\n\u001b[1;32m-> 1093\u001b[1;33m         \u001b[0mkeyarr\u001b[0m\u001b[1;33m,\u001b[0m \u001b[0mindexer\u001b[0m \u001b[1;33m=\u001b[0m \u001b[0mself\u001b[0m\u001b[1;33m.\u001b[0m\u001b[0m_get_listlike_indexer\u001b[0m\u001b[1;33m(\u001b[0m\u001b[0mkey\u001b[0m\u001b[1;33m,\u001b[0m \u001b[0maxis\u001b[0m\u001b[1;33m)\u001b[0m\u001b[1;33m\u001b[0m\u001b[1;33m\u001b[0m\u001b[0m\n\u001b[0m\u001b[0;32m   1094\u001b[0m         return self.obj._reindex_with_indexers(\n\u001b[0;32m   1095\u001b[0m             \u001b[1;33m{\u001b[0m\u001b[0maxis\u001b[0m\u001b[1;33m:\u001b[0m \u001b[1;33m[\u001b[0m\u001b[0mkeyarr\u001b[0m\u001b[1;33m,\u001b[0m \u001b[0mindexer\u001b[0m\u001b[1;33m]\u001b[0m\u001b[1;33m}\u001b[0m\u001b[1;33m,\u001b[0m \u001b[0mcopy\u001b[0m\u001b[1;33m=\u001b[0m\u001b[1;32mTrue\u001b[0m\u001b[1;33m,\u001b[0m \u001b[0mallow_dups\u001b[0m\u001b[1;33m=\u001b[0m\u001b[1;32mTrue\u001b[0m\u001b[1;33m\u001b[0m\u001b[1;33m\u001b[0m\u001b[0m\n",
      "\u001b[1;32m~\\AppData\\Local\\Programs\\ArcGIS\\Pro\\bin\\Python\\envs\\arcpy\\lib\\site-packages\\pandas\\core\\indexing.py\u001b[0m in \u001b[0;36m_get_listlike_indexer\u001b[1;34m(self, key, axis)\u001b[0m\n\u001b[0;32m   1312\u001b[0m             \u001b[0mkeyarr\u001b[0m\u001b[1;33m,\u001b[0m \u001b[0mindexer\u001b[0m\u001b[1;33m,\u001b[0m \u001b[0mnew_indexer\u001b[0m \u001b[1;33m=\u001b[0m \u001b[0max\u001b[0m\u001b[1;33m.\u001b[0m\u001b[0m_reindex_non_unique\u001b[0m\u001b[1;33m(\u001b[0m\u001b[0mkeyarr\u001b[0m\u001b[1;33m)\u001b[0m\u001b[1;33m\u001b[0m\u001b[1;33m\u001b[0m\u001b[0m\n\u001b[0;32m   1313\u001b[0m \u001b[1;33m\u001b[0m\u001b[0m\n\u001b[1;32m-> 1314\u001b[1;33m         \u001b[0mself\u001b[0m\u001b[1;33m.\u001b[0m\u001b[0m_validate_read_indexer\u001b[0m\u001b[1;33m(\u001b[0m\u001b[0mkeyarr\u001b[0m\u001b[1;33m,\u001b[0m \u001b[0mindexer\u001b[0m\u001b[1;33m,\u001b[0m \u001b[0maxis\u001b[0m\u001b[1;33m)\u001b[0m\u001b[1;33m\u001b[0m\u001b[1;33m\u001b[0m\u001b[0m\n\u001b[0m\u001b[0;32m   1315\u001b[0m \u001b[1;33m\u001b[0m\u001b[0m\n\u001b[0;32m   1316\u001b[0m         if needs_i8_conversion(ax.dtype) or isinstance(\n",
      "\u001b[1;32m~\\AppData\\Local\\Programs\\ArcGIS\\Pro\\bin\\Python\\envs\\arcpy\\lib\\site-packages\\pandas\\core\\indexing.py\u001b[0m in \u001b[0;36m_validate_read_indexer\u001b[1;34m(self, key, indexer, axis)\u001b[0m\n\u001b[0;32m   1375\u001b[0m \u001b[1;33m\u001b[0m\u001b[0m\n\u001b[0;32m   1376\u001b[0m             \u001b[0mnot_found\u001b[0m \u001b[1;33m=\u001b[0m \u001b[0mlist\u001b[0m\u001b[1;33m(\u001b[0m\u001b[0mensure_index\u001b[0m\u001b[1;33m(\u001b[0m\u001b[0mkey\u001b[0m\u001b[1;33m)\u001b[0m\u001b[1;33m[\u001b[0m\u001b[0mmissing_mask\u001b[0m\u001b[1;33m.\u001b[0m\u001b[0mnonzero\u001b[0m\u001b[1;33m(\u001b[0m\u001b[1;33m)\u001b[0m\u001b[1;33m[\u001b[0m\u001b[1;36m0\u001b[0m\u001b[1;33m]\u001b[0m\u001b[1;33m]\u001b[0m\u001b[1;33m.\u001b[0m\u001b[0munique\u001b[0m\u001b[1;33m(\u001b[0m\u001b[1;33m)\u001b[0m\u001b[1;33m)\u001b[0m\u001b[1;33m\u001b[0m\u001b[1;33m\u001b[0m\u001b[0m\n\u001b[1;32m-> 1377\u001b[1;33m             \u001b[1;32mraise\u001b[0m \u001b[0mKeyError\u001b[0m\u001b[1;33m(\u001b[0m\u001b[1;34mf\"{not_found} not in index\"\u001b[0m\u001b[1;33m)\u001b[0m\u001b[1;33m\u001b[0m\u001b[1;33m\u001b[0m\u001b[0m\n\u001b[0m\u001b[0;32m   1378\u001b[0m \u001b[1;33m\u001b[0m\u001b[0m\n\u001b[0;32m   1379\u001b[0m \u001b[1;33m\u001b[0m\u001b[0m\n",
      "\u001b[1;31mKeyError\u001b[0m: '[14081, 8355, 13348, 8259, 13419, 8848, 11120, 882, 18196, 8181, 8183, 8634, 15324, 1159, 967, 970, 1162, 990, 4480, 10754, 10758, 1547, 11033, 3099, 14329, 11048, 11689, 3376, 15412, 15546, 11579, 11462, 8134, 17763, 10986, 2286, 9071, 12923, 8062, 16385, 12866, 18821, 14764, 18316, 11475, 950, 13147, 3039, 1166, 4881, 9368, 1701, 4774, 1194, 12337, 9272, 5949, 11714, 9539, 1093, 7120, 4817, 11730, 982, 4835, 11877, 998, 11753, 1014, 18706, 17705, 5394, 13557, 12906, 5491, 5717, 5625, 5792, 1186, 5859, 13758, 12843, 13868, 1071, 1075, 6707, 1238, 3225, 2814, 1247, 3467, 1276, 1292, 5086, 3694, 3090, 18020, 13718, 1731, 16745, 6042, 16747, 3324, 1866, 17693, 3314, 15374, 1024, 13601, 5826, 2787, 16123, 9498, 3071, 4243, 6164, 6168, 13730, 16039, 15296, 12867, 12241, 13820, 13809, 13822, 874, 12288, 7621, 2055, 2572, 2573, 14353, 8212, 8224, 8226, 11300, 3110, 8232, 8233, 9257, 11309, 15920, 11314, 16947, 17460, 2104, 2556, 8790, 1113, 12892, 16991, 15457, 13924, 1129, 15468, 12402, 11379, 12420, 11406, 14481, 2195, 9883, 1183, 2213, 12455, 7336, 5805, 9906, 10936, 11453, 18627, 12995, 17101, 5332, 8416, 12521, 13034, 17131, 16622, 9457, 8947, 2803, 1790, 8970, 5901, 3854, 5905, 6422, 11548, 12576, 9507, 9003, 2347, 5935, 5936, 13104, 2353, 7988, 2358, 1849, 13120, 13633, 3909, 3913, 5450, 13135, 3920, 9044, 9046, 8546, 12643, 12647, 13168, 6004, 9081, 14714, 15227, 3455, 14722, 6041, 12187, 18846, 16292, 4520, 4533, 16823, 4538, 4550, 7119, 8150, 16343, 12783, 8176, 5105, 11256, 4604, 17405, 11911, 10775, 10780, 6519, 12065, 5284, 13989, 12202, 11954, 11317, 11957, 11448, 11321, 11964, 5948, 3266, 7105, 14659, 16069, 1735, 11978, 15179, 10828, 3024, 15185, 8403, 13658, 1376, 9959, 7024, 10231] not in index'"
     ]
    }
   ],
   "source": [
    "supermarkets_df.spatial.join(new_counties_df, how='inner', op='within')"
   ]
  },
  {
   "cell_type": "code",
   "execution_count": 87,
   "id": "e0f6bff5",
   "metadata": {
    "code_folding": []
   },
   "outputs": [
    {
     "data": {
      "text/html": [
       "<div>\n",
       "<style scoped>\n",
       "    .dataframe tbody tr th:only-of-type {\n",
       "        vertical-align: middle;\n",
       "    }\n",
       "\n",
       "    .dataframe tbody tr th {\n",
       "        vertical-align: top;\n",
       "    }\n",
       "\n",
       "    .dataframe thead th {\n",
       "        text-align: right;\n",
       "    }\n",
       "</style>\n",
       "<table border=\"1\" class=\"dataframe\">\n",
       "  <thead>\n",
       "    <tr style=\"text-align: right;\">\n",
       "      <th></th>\n",
       "      <th>level_0</th>\n",
       "      <th>OBJECTID_left</th>\n",
       "      <th>addr_dist</th>\n",
       "      <th>osm_id</th>\n",
       "      <th>category</th>\n",
       "      <th>name</th>\n",
       "      <th>county</th>\n",
       "      <th>city</th>\n",
       "      <th>zip</th>\n",
       "      <th>block_id</th>\n",
       "      <th>...</th>\n",
       "      <th>ENTITYNBR</th>\n",
       "      <th>ENTITYYR</th>\n",
       "      <th>NAME</th>\n",
       "      <th>FIPS</th>\n",
       "      <th>STATEPLANE</th>\n",
       "      <th>POP_LASTCENSUS</th>\n",
       "      <th>POP_CURRESTIMATE</th>\n",
       "      <th>GlobalID</th>\n",
       "      <th>FIPS_STR</th>\n",
       "      <th>COLOR4</th>\n",
       "    </tr>\n",
       "  </thead>\n",
       "  <tbody>\n",
       "    <tr>\n",
       "      <th>0</th>\n",
       "      <td>0</td>\n",
       "      <td>69</td>\n",
       "      <td>NaN</td>\n",
       "      <td>306835249</td>\n",
       "      <td>supermarket</td>\n",
       "      <td>Winegar's</td>\n",
       "      <td>WEBER</td>\n",
       "      <td>OGDEN</td>\n",
       "      <td>84067</td>\n",
       "      <td>490572105133005</td>\n",
       "      <td>...</td>\n",
       "      <td>2.010291e+09</td>\n",
       "      <td>2010.0</td>\n",
       "      <td>WEBER</td>\n",
       "      <td>57.0</td>\n",
       "      <td>North</td>\n",
       "      <td>262223</td>\n",
       "      <td>269561</td>\n",
       "      <td>{1757A80B-1895-4975-81DA-3AD2EBBA64C9}</td>\n",
       "      <td>49057</td>\n",
       "      <td>1</td>\n",
       "    </tr>\n",
       "    <tr>\n",
       "      <th>1</th>\n",
       "      <td>1</td>\n",
       "      <td>88</td>\n",
       "      <td>22.674714</td>\n",
       "      <td>307362738</td>\n",
       "      <td>supermarket</td>\n",
       "      <td>Kents</td>\n",
       "      <td>WEBER</td>\n",
       "      <td>OGDEN</td>\n",
       "      <td>84067</td>\n",
       "      <td>490572105091021</td>\n",
       "      <td>...</td>\n",
       "      <td>2.010291e+09</td>\n",
       "      <td>2010.0</td>\n",
       "      <td>WEBER</td>\n",
       "      <td>57.0</td>\n",
       "      <td>North</td>\n",
       "      <td>262223</td>\n",
       "      <td>269561</td>\n",
       "      <td>{1757A80B-1895-4975-81DA-3AD2EBBA64C9}</td>\n",
       "      <td>49057</td>\n",
       "      <td>1</td>\n",
       "    </tr>\n",
       "    <tr>\n",
       "      <th>2</th>\n",
       "      <td>2</td>\n",
       "      <td>112</td>\n",
       "      <td>11.190251</td>\n",
       "      <td>308444242</td>\n",
       "      <td>supermarket</td>\n",
       "      <td>Natural Foods</td>\n",
       "      <td>WEBER</td>\n",
       "      <td>OGDEN</td>\n",
       "      <td>84405</td>\n",
       "      <td>490572105122014</td>\n",
       "      <td>...</td>\n",
       "      <td>2.010291e+09</td>\n",
       "      <td>2010.0</td>\n",
       "      <td>WEBER</td>\n",
       "      <td>57.0</td>\n",
       "      <td>North</td>\n",
       "      <td>262223</td>\n",
       "      <td>269561</td>\n",
       "      <td>{1757A80B-1895-4975-81DA-3AD2EBBA64C9}</td>\n",
       "      <td>49057</td>\n",
       "      <td>1</td>\n",
       "    </tr>\n",
       "    <tr>\n",
       "      <th>3</th>\n",
       "      <td>10</td>\n",
       "      <td>983</td>\n",
       "      <td>22.493216</td>\n",
       "      <td>490548656</td>\n",
       "      <td>supermarket</td>\n",
       "      <td>Wangsgards</td>\n",
       "      <td>WEBER</td>\n",
       "      <td>OGDEN</td>\n",
       "      <td>84404</td>\n",
       "      <td>490572003013001</td>\n",
       "      <td>...</td>\n",
       "      <td>2.010291e+09</td>\n",
       "      <td>2010.0</td>\n",
       "      <td>WEBER</td>\n",
       "      <td>57.0</td>\n",
       "      <td>North</td>\n",
       "      <td>262223</td>\n",
       "      <td>269561</td>\n",
       "      <td>{1757A80B-1895-4975-81DA-3AD2EBBA64C9}</td>\n",
       "      <td>49057</td>\n",
       "      <td>1</td>\n",
       "    </tr>\n",
       "    <tr>\n",
       "      <th>4</th>\n",
       "      <td>12</td>\n",
       "      <td>999</td>\n",
       "      <td>NaN</td>\n",
       "      <td>509040436</td>\n",
       "      <td>supermarket</td>\n",
       "      <td>Smith's Marketplace</td>\n",
       "      <td>WEBER</td>\n",
       "      <td>OGDEN</td>\n",
       "      <td>84414</td>\n",
       "      <td>490572102041016</td>\n",
       "      <td>...</td>\n",
       "      <td>2.010291e+09</td>\n",
       "      <td>2010.0</td>\n",
       "      <td>WEBER</td>\n",
       "      <td>57.0</td>\n",
       "      <td>North</td>\n",
       "      <td>262223</td>\n",
       "      <td>269561</td>\n",
       "      <td>{1757A80B-1895-4975-81DA-3AD2EBBA64C9}</td>\n",
       "      <td>49057</td>\n",
       "      <td>1</td>\n",
       "    </tr>\n",
       "  </tbody>\n",
       "</table>\n",
       "<p>5 rows × 36 columns</p>\n",
       "</div>"
      ],
      "text/plain": [
       "   level_0  OBJECTID_left  addr_dist     osm_id     category  \\\n",
       "0        0             69        NaN  306835249  supermarket   \n",
       "1        1             88  22.674714  307362738  supermarket   \n",
       "2        2            112  11.190251  308444242  supermarket   \n",
       "3       10            983  22.493216  490548656  supermarket   \n",
       "4       12            999        NaN  509040436  supermarket   \n",
       "\n",
       "                  name county   city    zip         block_id  ...  \\\n",
       "0            Winegar's  WEBER  OGDEN  84067  490572105133005  ...   \n",
       "1                Kents  WEBER  OGDEN  84067  490572105091021  ...   \n",
       "2        Natural Foods  WEBER  OGDEN  84405  490572105122014  ...   \n",
       "3           Wangsgards  WEBER  OGDEN  84404  490572003013001  ...   \n",
       "4  Smith's Marketplace  WEBER  OGDEN  84414  490572102041016  ...   \n",
       "\n",
       "      ENTITYNBR ENTITYYR   NAME  FIPS STATEPLANE POP_LASTCENSUS  \\\n",
       "0  2.010291e+09   2010.0  WEBER  57.0      North         262223   \n",
       "1  2.010291e+09   2010.0  WEBER  57.0      North         262223   \n",
       "2  2.010291e+09   2010.0  WEBER  57.0      North         262223   \n",
       "3  2.010291e+09   2010.0  WEBER  57.0      North         262223   \n",
       "4  2.010291e+09   2010.0  WEBER  57.0      North         262223   \n",
       "\n",
       "  POP_CURRESTIMATE                                GlobalID FIPS_STR COLOR4  \n",
       "0           269561  {1757A80B-1895-4975-81DA-3AD2EBBA64C9}    49057      1  \n",
       "1           269561  {1757A80B-1895-4975-81DA-3AD2EBBA64C9}    49057      1  \n",
       "2           269561  {1757A80B-1895-4975-81DA-3AD2EBBA64C9}    49057      1  \n",
       "3           269561  {1757A80B-1895-4975-81DA-3AD2EBBA64C9}    49057      1  \n",
       "4           269561  {1757A80B-1895-4975-81DA-3AD2EBBA64C9}    49057      1  \n",
       "\n",
       "[5 rows x 36 columns]"
      ]
     },
     "execution_count": 87,
     "metadata": {},
     "output_type": "execute_result"
    }
   ],
   "source": [
    "#: Reset the index and call the spatial join again using method chaining\n",
    "supermarkets_df.reset_index().spatial.join(new_counties_df, how='inner', op='within').head()"
   ]
  },
  {
   "cell_type": "code",
   "execution_count": 88,
   "id": "609d9cd7",
   "metadata": {},
   "outputs": [
    {
     "data": {
      "text/html": [
       "<div>\n",
       "<style scoped>\n",
       "    .dataframe tbody tr th:only-of-type {\n",
       "        vertical-align: middle;\n",
       "    }\n",
       "\n",
       "    .dataframe tbody tr th {\n",
       "        vertical-align: top;\n",
       "    }\n",
       "\n",
       "    .dataframe thead th {\n",
       "        text-align: right;\n",
       "    }\n",
       "</style>\n",
       "<table border=\"1\" class=\"dataframe\">\n",
       "  <thead>\n",
       "    <tr style=\"text-align: right;\">\n",
       "      <th></th>\n",
       "      <th>OBJECTID</th>\n",
       "      <th>addr_dist</th>\n",
       "      <th>osm_id</th>\n",
       "      <th>category</th>\n",
       "      <th>name</th>\n",
       "      <th>county</th>\n",
       "      <th>city</th>\n",
       "      <th>zip</th>\n",
       "      <th>block_id</th>\n",
       "      <th>ugrc_addr</th>\n",
       "      <th>...</th>\n",
       "      <th>tourism</th>\n",
       "      <th>shop</th>\n",
       "      <th>website</th>\n",
       "      <th>phone</th>\n",
       "      <th>open_hours</th>\n",
       "      <th>osm_addr</th>\n",
       "      <th>SHAPE</th>\n",
       "      <th>index_right</th>\n",
       "      <th>NAME</th>\n",
       "      <th>POP_LASTCENSUS</th>\n",
       "    </tr>\n",
       "  </thead>\n",
       "  <tbody>\n",
       "    <tr>\n",
       "      <th>0</th>\n",
       "      <td>69</td>\n",
       "      <td>NaN</td>\n",
       "      <td>306835249</td>\n",
       "      <td>supermarket</td>\n",
       "      <td>Winegar's</td>\n",
       "      <td>WEBER</td>\n",
       "      <td>OGDEN</td>\n",
       "      <td>84067</td>\n",
       "      <td>490572105133005</td>\n",
       "      <td>None</td>\n",
       "      <td>...</td>\n",
       "      <td>None</td>\n",
       "      <td>supermarket</td>\n",
       "      <td>None</td>\n",
       "      <td>None</td>\n",
       "      <td>None</td>\n",
       "      <td>None</td>\n",
       "      <td>{\"x\": -12474764.795952193, \"y\": 5038541.480961...</td>\n",
       "      <td>6</td>\n",
       "      <td>WEBER</td>\n",
       "      <td>262223</td>\n",
       "    </tr>\n",
       "    <tr>\n",
       "      <th>1</th>\n",
       "      <td>88</td>\n",
       "      <td>22.674714</td>\n",
       "      <td>307362738</td>\n",
       "      <td>supermarket</td>\n",
       "      <td>Kents</td>\n",
       "      <td>WEBER</td>\n",
       "      <td>OGDEN</td>\n",
       "      <td>84067</td>\n",
       "      <td>490572105091021</td>\n",
       "      <td>3535 W 5500 S</td>\n",
       "      <td>...</td>\n",
       "      <td>None</td>\n",
       "      <td>supermarket</td>\n",
       "      <td>None</td>\n",
       "      <td>None</td>\n",
       "      <td>None</td>\n",
       "      <td>None</td>\n",
       "      <td>{\"x\": -12475109.8975056, \"y\": 5036410.11323035...</td>\n",
       "      <td>6</td>\n",
       "      <td>WEBER</td>\n",
       "      <td>262223</td>\n",
       "    </tr>\n",
       "    <tr>\n",
       "      <th>2</th>\n",
       "      <td>112</td>\n",
       "      <td>11.190251</td>\n",
       "      <td>308444242</td>\n",
       "      <td>supermarket</td>\n",
       "      <td>Natural Foods</td>\n",
       "      <td>WEBER</td>\n",
       "      <td>OGDEN</td>\n",
       "      <td>84405</td>\n",
       "      <td>490572105122014</td>\n",
       "      <td>1050 W RIVERDALE RD</td>\n",
       "      <td>...</td>\n",
       "      <td>None</td>\n",
       "      <td>supermarket</td>\n",
       "      <td>None</td>\n",
       "      <td>None</td>\n",
       "      <td>None</td>\n",
       "      <td>None</td>\n",
       "      <td>{\"x\": -12468211.272813853, \"y\": 5038570.054997...</td>\n",
       "      <td>6</td>\n",
       "      <td>WEBER</td>\n",
       "      <td>262223</td>\n",
       "    </tr>\n",
       "    <tr>\n",
       "      <th>3</th>\n",
       "      <td>983</td>\n",
       "      <td>22.493216</td>\n",
       "      <td>490548656</td>\n",
       "      <td>supermarket</td>\n",
       "      <td>Wangsgards</td>\n",
       "      <td>WEBER</td>\n",
       "      <td>OGDEN</td>\n",
       "      <td>84404</td>\n",
       "      <td>490572003013001</td>\n",
       "      <td>145 HARRISVILLE RD</td>\n",
       "      <td>...</td>\n",
       "      <td>None</td>\n",
       "      <td>supermarket</td>\n",
       "      <td>None</td>\n",
       "      <td>None</td>\n",
       "      <td>None</td>\n",
       "      <td>None</td>\n",
       "      <td>{\"x\": -12464702.716234982, \"y\": 5050771.313416...</td>\n",
       "      <td>6</td>\n",
       "      <td>WEBER</td>\n",
       "      <td>262223</td>\n",
       "    </tr>\n",
       "    <tr>\n",
       "      <th>4</th>\n",
       "      <td>999</td>\n",
       "      <td>NaN</td>\n",
       "      <td>509040436</td>\n",
       "      <td>supermarket</td>\n",
       "      <td>Smith's Marketplace</td>\n",
       "      <td>WEBER</td>\n",
       "      <td>OGDEN</td>\n",
       "      <td>84414</td>\n",
       "      <td>490572102041016</td>\n",
       "      <td>None</td>\n",
       "      <td>...</td>\n",
       "      <td>None</td>\n",
       "      <td>supermarket</td>\n",
       "      <td>None</td>\n",
       "      <td>None</td>\n",
       "      <td>Mo-Su 06:00-24:00</td>\n",
       "      <td>2434 North 400 East North Ogden 84414</td>\n",
       "      <td>{\"x\": -12464039.419049088, \"y\": 5057129.544228...</td>\n",
       "      <td>6</td>\n",
       "      <td>WEBER</td>\n",
       "      <td>262223</td>\n",
       "    </tr>\n",
       "  </tbody>\n",
       "</table>\n",
       "<p>5 rows × 25 columns</p>\n",
       "</div>"
      ],
      "text/plain": [
       "   OBJECTID  addr_dist     osm_id     category                 name county  \\\n",
       "0        69        NaN  306835249  supermarket            Winegar's  WEBER   \n",
       "1        88  22.674714  307362738  supermarket                Kents  WEBER   \n",
       "2       112  11.190251  308444242  supermarket        Natural Foods  WEBER   \n",
       "3       983  22.493216  490548656  supermarket           Wangsgards  WEBER   \n",
       "4       999        NaN  509040436  supermarket  Smith's Marketplace  WEBER   \n",
       "\n",
       "    city    zip         block_id            ugrc_addr  ... tourism  \\\n",
       "0  OGDEN  84067  490572105133005                 None  ...    None   \n",
       "1  OGDEN  84067  490572105091021        3535 W 5500 S  ...    None   \n",
       "2  OGDEN  84405  490572105122014  1050 W RIVERDALE RD  ...    None   \n",
       "3  OGDEN  84404  490572003013001   145 HARRISVILLE RD  ...    None   \n",
       "4  OGDEN  84414  490572102041016                 None  ...    None   \n",
       "\n",
       "          shop  website phone         open_hours  \\\n",
       "0  supermarket     None  None               None   \n",
       "1  supermarket     None  None               None   \n",
       "2  supermarket     None  None               None   \n",
       "3  supermarket     None  None               None   \n",
       "4  supermarket     None  None  Mo-Su 06:00-24:00   \n",
       "\n",
       "                                osm_addr  \\\n",
       "0                                   None   \n",
       "1                                   None   \n",
       "2                                   None   \n",
       "3                                   None   \n",
       "4  2434 North 400 East North Ogden 84414   \n",
       "\n",
       "                                               SHAPE index_right   NAME  \\\n",
       "0  {\"x\": -12474764.795952193, \"y\": 5038541.480961...           6  WEBER   \n",
       "1  {\"x\": -12475109.8975056, \"y\": 5036410.11323035...           6  WEBER   \n",
       "2  {\"x\": -12468211.272813853, \"y\": 5038570.054997...           6  WEBER   \n",
       "3  {\"x\": -12464702.716234982, \"y\": 5050771.313416...           6  WEBER   \n",
       "4  {\"x\": -12464039.419049088, \"y\": 5057129.544228...           6  WEBER   \n",
       "\n",
       "  POP_LASTCENSUS  \n",
       "0         262223  \n",
       "1         262223  \n",
       "2         262223  \n",
       "3         262223  \n",
       "4         262223  \n",
       "\n",
       "[5 rows x 25 columns]"
      ]
     },
     "execution_count": 88,
     "metadata": {},
     "output_type": "execute_result"
    }
   ],
   "source": [
    "#: Now let's save the join and only get the name and population columns from the counties\n",
    "new_supermarkets_df = supermarkets_df.reset_index(drop=True).spatial.join(new_counties_df[['NAME', 'POP_LASTCENSUS', 'SHAPE']], how='inner', op='within')\n",
    "new_supermarkets_df.head()"
   ]
  },
  {
   "cell_type": "code",
   "execution_count": 89,
   "id": "b811bc05",
   "metadata": {
    "scrolled": true
   },
   "outputs": [
    {
     "data": {
      "text/plain": [
       "NAME\n",
       "BEAVER        1\n",
       "BOX ELDER     3\n",
       "CACHE        10\n",
       "CARBON        2\n",
       "DAVIS        18\n",
       "Name: category, dtype: int64"
      ]
     },
     "execution_count": 89,
     "metadata": {},
     "output_type": "execute_result"
    }
   ],
   "source": [
    "new_supermarkets_df.groupby('NAME')['category'].count().head()"
   ]
  },
  {
   "cell_type": "code",
   "execution_count": 90,
   "id": "00a1b51a",
   "metadata": {
    "scrolled": true
   },
   "outputs": [
    {
     "data": {
      "text/plain": [
       "NAME\n",
       "BEAVER         7072\n",
       "BOX ELDER     57666\n",
       "CACHE        133154\n",
       "CARBON        20412\n",
       "DAVIS        362679\n",
       "Name: POP_LASTCENSUS, dtype: int64"
      ]
     },
     "execution_count": 90,
     "metadata": {},
     "output_type": "execute_result"
    }
   ],
   "source": [
    "new_supermarkets_df.groupby('NAME')['POP_LASTCENSUS'].first().head()"
   ]
  },
  {
   "cell_type": "code",
   "execution_count": 91,
   "id": "480654fa",
   "metadata": {
    "scrolled": true
   },
   "outputs": [
    {
     "data": {
      "text/html": [
       "<div>\n",
       "<style scoped>\n",
       "    .dataframe tbody tr th:only-of-type {\n",
       "        vertical-align: middle;\n",
       "    }\n",
       "\n",
       "    .dataframe tbody tr th {\n",
       "        vertical-align: top;\n",
       "    }\n",
       "\n",
       "    .dataframe thead th {\n",
       "        text-align: right;\n",
       "    }\n",
       "</style>\n",
       "<table border=\"1\" class=\"dataframe\">\n",
       "  <thead>\n",
       "    <tr style=\"text-align: right;\">\n",
       "      <th></th>\n",
       "      <th>category</th>\n",
       "      <th>POP_LASTCENSUS</th>\n",
       "    </tr>\n",
       "    <tr>\n",
       "      <th>NAME</th>\n",
       "      <th></th>\n",
       "      <th></th>\n",
       "    </tr>\n",
       "  </thead>\n",
       "  <tbody>\n",
       "    <tr>\n",
       "      <th>BEAVER</th>\n",
       "      <td>1</td>\n",
       "      <td>7072</td>\n",
       "    </tr>\n",
       "    <tr>\n",
       "      <th>BOX ELDER</th>\n",
       "      <td>3</td>\n",
       "      <td>57666</td>\n",
       "    </tr>\n",
       "    <tr>\n",
       "      <th>CACHE</th>\n",
       "      <td>10</td>\n",
       "      <td>133154</td>\n",
       "    </tr>\n",
       "    <tr>\n",
       "      <th>CARBON</th>\n",
       "      <td>2</td>\n",
       "      <td>20412</td>\n",
       "    </tr>\n",
       "    <tr>\n",
       "      <th>DAVIS</th>\n",
       "      <td>18</td>\n",
       "      <td>362679</td>\n",
       "    </tr>\n",
       "  </tbody>\n",
       "</table>\n",
       "</div>"
      ],
      "text/plain": [
       "           category  POP_LASTCENSUS\n",
       "NAME                               \n",
       "BEAVER            1            7072\n",
       "BOX ELDER         3           57666\n",
       "CACHE            10          133154\n",
       "CARBON            2           20412\n",
       "DAVIS            18          362679"
      ]
     },
     "execution_count": 91,
     "metadata": {},
     "output_type": "execute_result"
    }
   ],
   "source": [
    "#: Concat our groupby outputs into a new DataFrame\n",
    "answer_df = pd.concat([new_supermarkets_df.groupby('NAME')['category'].count(), new_supermarkets_df.groupby('NAME')['POP_LASTCENSUS'].first()], axis=1)\n",
    "answer_df.head()"
   ]
  },
  {
   "cell_type": "code",
   "execution_count": 92,
   "id": "9591bec4",
   "metadata": {
    "scrolled": false
   },
   "outputs": [
    {
     "data": {
      "text/html": [
       "<div>\n",
       "<style scoped>\n",
       "    .dataframe tbody tr th:only-of-type {\n",
       "        vertical-align: middle;\n",
       "    }\n",
       "\n",
       "    .dataframe tbody tr th {\n",
       "        vertical-align: top;\n",
       "    }\n",
       "\n",
       "    .dataframe thead th {\n",
       "        text-align: right;\n",
       "    }\n",
       "</style>\n",
       "<table border=\"1\" class=\"dataframe\">\n",
       "  <thead>\n",
       "    <tr style=\"text-align: right;\">\n",
       "      <th></th>\n",
       "      <th>supermarkets</th>\n",
       "      <th>pop_last_census</th>\n",
       "      <th>people_per_supermarket</th>\n",
       "    </tr>\n",
       "    <tr>\n",
       "      <th>NAME</th>\n",
       "      <th></th>\n",
       "      <th></th>\n",
       "      <th></th>\n",
       "    </tr>\n",
       "  </thead>\n",
       "  <tbody>\n",
       "    <tr>\n",
       "      <th>BEAVER</th>\n",
       "      <td>1</td>\n",
       "      <td>7072</td>\n",
       "      <td>7072.000000</td>\n",
       "    </tr>\n",
       "    <tr>\n",
       "      <th>BOX ELDER</th>\n",
       "      <td>3</td>\n",
       "      <td>57666</td>\n",
       "      <td>19222.000000</td>\n",
       "    </tr>\n",
       "    <tr>\n",
       "      <th>CACHE</th>\n",
       "      <td>10</td>\n",
       "      <td>133154</td>\n",
       "      <td>13315.400000</td>\n",
       "    </tr>\n",
       "    <tr>\n",
       "      <th>CARBON</th>\n",
       "      <td>2</td>\n",
       "      <td>20412</td>\n",
       "      <td>10206.000000</td>\n",
       "    </tr>\n",
       "    <tr>\n",
       "      <th>DAVIS</th>\n",
       "      <td>18</td>\n",
       "      <td>362679</td>\n",
       "      <td>20148.833333</td>\n",
       "    </tr>\n",
       "  </tbody>\n",
       "</table>\n",
       "</div>"
      ],
      "text/plain": [
       "           supermarkets  pop_last_census  people_per_supermarket\n",
       "NAME                                                            \n",
       "BEAVER                1             7072             7072.000000\n",
       "BOX ELDER             3            57666            19222.000000\n",
       "CACHE                10           133154            13315.400000\n",
       "CARBON                2            20412            10206.000000\n",
       "DAVIS                18           362679            20148.833333"
      ]
     },
     "execution_count": 92,
     "metadata": {},
     "output_type": "execute_result"
    }
   ],
   "source": [
    "#: Calculate our metric and clean up the column names\n",
    "answer_df['people_per_supermarket'] = answer_df['POP_LASTCENSUS'] / answer_df['category']\n",
    "answer_df.rename(columns={'category': 'supermarkets', 'POP_LASTCENSUS': 'pop_last_census'}, inplace=True)\n",
    "answer_df.head()"
   ]
  },
  {
   "cell_type": "code",
   "execution_count": 93,
   "id": "dc88b4b3",
   "metadata": {},
   "outputs": [
    {
     "data": {
      "text/html": [
       "<div>\n",
       "<style scoped>\n",
       "    .dataframe tbody tr th:only-of-type {\n",
       "        vertical-align: middle;\n",
       "    }\n",
       "\n",
       "    .dataframe tbody tr th {\n",
       "        vertical-align: top;\n",
       "    }\n",
       "\n",
       "    .dataframe thead th {\n",
       "        text-align: right;\n",
       "    }\n",
       "</style>\n",
       "<table border=\"1\" class=\"dataframe\">\n",
       "  <thead>\n",
       "    <tr style=\"text-align: right;\">\n",
       "      <th></th>\n",
       "      <th>supermarkets</th>\n",
       "      <th>pop_last_census</th>\n",
       "      <th>people_per_supermarket</th>\n",
       "    </tr>\n",
       "    <tr>\n",
       "      <th>NAME</th>\n",
       "      <th></th>\n",
       "      <th></th>\n",
       "      <th></th>\n",
       "    </tr>\n",
       "  </thead>\n",
       "  <tbody>\n",
       "    <tr>\n",
       "      <th>BEAVER</th>\n",
       "      <td>1</td>\n",
       "      <td>7072</td>\n",
       "      <td>7072.000000</td>\n",
       "    </tr>\n",
       "    <tr>\n",
       "      <th>BOX ELDER</th>\n",
       "      <td>3</td>\n",
       "      <td>57666</td>\n",
       "      <td>19222.000000</td>\n",
       "    </tr>\n",
       "    <tr>\n",
       "      <th>CACHE</th>\n",
       "      <td>10</td>\n",
       "      <td>133154</td>\n",
       "      <td>13315.400000</td>\n",
       "    </tr>\n",
       "    <tr>\n",
       "      <th>CARBON</th>\n",
       "      <td>2</td>\n",
       "      <td>20412</td>\n",
       "      <td>10206.000000</td>\n",
       "    </tr>\n",
       "    <tr>\n",
       "      <th>DAVIS</th>\n",
       "      <td>18</td>\n",
       "      <td>362679</td>\n",
       "      <td>20148.833333</td>\n",
       "    </tr>\n",
       "  </tbody>\n",
       "</table>\n",
       "</div>"
      ],
      "text/plain": [
       "           supermarkets  pop_last_census  people_per_supermarket\n",
       "NAME                                                            \n",
       "BEAVER                1             7072             7072.000000\n",
       "BOX ELDER             3            57666            19222.000000\n",
       "CACHE                10           133154            13315.400000\n",
       "CARBON                2            20412            10206.000000\n",
       "DAVIS                18           362679            20148.833333"
      ]
     },
     "execution_count": 93,
     "metadata": {},
     "output_type": "execute_result"
    }
   ],
   "source": [
    "#: Use chaining and line continuation to do it in one statement\n",
    "new_answer_df = (pd.concat([new_supermarkets_df.groupby('NAME')['category'].count(), new_supermarkets_df.groupby('NAME')['POP_LASTCENSUS'].first()], axis=1)\n",
    "                     .assign(people_per_supermarket= lambda x: x['POP_LASTCENSUS'] / x['category'])\n",
    "                     .rename(columns={'category': 'supermarkets', 'POP_LASTCENSUS': 'pop_last_census'}))\n",
    "new_answer_df.head()"
   ]
  },
  {
   "cell_type": "code",
   "execution_count": 94,
   "id": "d5ddc85d",
   "metadata": {},
   "outputs": [
    {
     "data": {
      "text/html": [
       "<div>\n",
       "<style scoped>\n",
       "    .dataframe tbody tr th:only-of-type {\n",
       "        vertical-align: middle;\n",
       "    }\n",
       "\n",
       "    .dataframe tbody tr th {\n",
       "        vertical-align: top;\n",
       "    }\n",
       "\n",
       "    .dataframe thead th {\n",
       "        text-align: right;\n",
       "    }\n",
       "</style>\n",
       "<table border=\"1\" class=\"dataframe\">\n",
       "  <thead>\n",
       "    <tr style=\"text-align: right;\">\n",
       "      <th></th>\n",
       "      <th>NAME</th>\n",
       "      <th>SHAPE</th>\n",
       "      <th>supermarkets</th>\n",
       "      <th>pop_last_census</th>\n",
       "      <th>people_per_supermarket</th>\n",
       "    </tr>\n",
       "  </thead>\n",
       "  <tbody>\n",
       "    <tr>\n",
       "      <th>15</th>\n",
       "      <td>GARFIELD</td>\n",
       "      <td>{'rings': [[[-12497349.647300001, 4600620.4720...</td>\n",
       "      <td>4</td>\n",
       "      <td>5083</td>\n",
       "      <td>1270.750000</td>\n",
       "    </tr>\n",
       "    <tr>\n",
       "      <th>21</th>\n",
       "      <td>WAYNE</td>\n",
       "      <td>{'rings': [[[-12435226.4528, 4651746.087300003...</td>\n",
       "      <td>1</td>\n",
       "      <td>2486</td>\n",
       "      <td>2486.000000</td>\n",
       "    </tr>\n",
       "    <tr>\n",
       "      <th>11</th>\n",
       "      <td>RICH</td>\n",
       "      <td>{'rings': [[[-12361664.9952, 5161235.351800002...</td>\n",
       "      <td>1</td>\n",
       "      <td>2510</td>\n",
       "      <td>2510.000000</td>\n",
       "    </tr>\n",
       "    <tr>\n",
       "      <th>10</th>\n",
       "      <td>GRAND</td>\n",
       "      <td>{'rings': [[[-12139959.1677, 4793360.2117], [-...</td>\n",
       "      <td>3</td>\n",
       "      <td>9669</td>\n",
       "      <td>3223.000000</td>\n",
       "    </tr>\n",
       "    <tr>\n",
       "      <th>17</th>\n",
       "      <td>SUMMIT</td>\n",
       "      <td>{'rings': [[[-12245108.298, 5011966.523199998]...</td>\n",
       "      <td>12</td>\n",
       "      <td>42357</td>\n",
       "      <td>3529.750000</td>\n",
       "    </tr>\n",
       "    <tr>\n",
       "      <th>22</th>\n",
       "      <td>SAN JUAN</td>\n",
       "      <td>{'rings': [[[-12219669.3387, 4438861.324900001...</td>\n",
       "      <td>4</td>\n",
       "      <td>14518</td>\n",
       "      <td>3629.500000</td>\n",
       "    </tr>\n",
       "    <tr>\n",
       "      <th>24</th>\n",
       "      <td>KANE</td>\n",
       "      <td>{'rings': [[[-12450569.3404, 4514055.761600003...</td>\n",
       "      <td>2</td>\n",
       "      <td>7667</td>\n",
       "      <td>3833.500000</td>\n",
       "    </tr>\n",
       "    <tr>\n",
       "      <th>1</th>\n",
       "      <td>DUCHESNE</td>\n",
       "      <td>{'rings': [[[-12273167.1888, 4987644.314599998...</td>\n",
       "      <td>5</td>\n",
       "      <td>19596</td>\n",
       "      <td>3919.200000</td>\n",
       "    </tr>\n",
       "    <tr>\n",
       "      <th>8</th>\n",
       "      <td>SANPETE</td>\n",
       "      <td>{'rings': [[[-12423642.5466, 4838788.997599997...</td>\n",
       "      <td>6</td>\n",
       "      <td>28437</td>\n",
       "      <td>4739.500000</td>\n",
       "    </tr>\n",
       "    <tr>\n",
       "      <th>20</th>\n",
       "      <td>EMERY</td>\n",
       "      <td>{'rings': [[[-12383618.837000001, 4822961.5262...</td>\n",
       "      <td>2</td>\n",
       "      <td>9825</td>\n",
       "      <td>4912.500000</td>\n",
       "    </tr>\n",
       "    <tr>\n",
       "      <th>13</th>\n",
       "      <td>BEAVER</td>\n",
       "      <td>{'rings': [[[-12525157.6426, 4660669.5066], [-...</td>\n",
       "      <td>1</td>\n",
       "      <td>7072</td>\n",
       "      <td>7072.000000</td>\n",
       "    </tr>\n",
       "    <tr>\n",
       "      <th>6</th>\n",
       "      <td>WEBER</td>\n",
       "      <td>{'rings': [[[-12458980.0088, 5032817.971900001...</td>\n",
       "      <td>26</td>\n",
       "      <td>262223</td>\n",
       "      <td>10085.500000</td>\n",
       "    </tr>\n",
       "    <tr>\n",
       "      <th>12</th>\n",
       "      <td>CARBON</td>\n",
       "      <td>{'rings': [[[-12362164.6552, 4838960.327200003...</td>\n",
       "      <td>2</td>\n",
       "      <td>20412</td>\n",
       "      <td>10206.000000</td>\n",
       "    </tr>\n",
       "    <tr>\n",
       "      <th>14</th>\n",
       "      <td>SEVIER</td>\n",
       "      <td>{'rings': [[[-12450974.2984, 4728027.073899999...</td>\n",
       "      <td>2</td>\n",
       "      <td>21522</td>\n",
       "      <td>10761.000000</td>\n",
       "    </tr>\n",
       "    <tr>\n",
       "      <th>25</th>\n",
       "      <td>SALT LAKE</td>\n",
       "      <td>{'rings': [[[-12464278.124, 4993470.981700003]...</td>\n",
       "      <td>108</td>\n",
       "      <td>1185238</td>\n",
       "      <td>10974.425926</td>\n",
       "    </tr>\n",
       "    <tr>\n",
       "      <th>4</th>\n",
       "      <td>WASATCH</td>\n",
       "      <td>{'rings': [[[-12400515.3909, 4966751.283200003...</td>\n",
       "      <td>3</td>\n",
       "      <td>34788</td>\n",
       "      <td>11596.000000</td>\n",
       "    </tr>\n",
       "    <tr>\n",
       "      <th>7</th>\n",
       "      <td>JUAB</td>\n",
       "      <td>{'rings': [[[-12487614.2694, 4867585.2205], [-...</td>\n",
       "      <td>1</td>\n",
       "      <td>11786</td>\n",
       "      <td>11786.000000</td>\n",
       "    </tr>\n",
       "    <tr>\n",
       "      <th>18</th>\n",
       "      <td>UINTAH</td>\n",
       "      <td>{'rings': [[[-12139276.3366, 4962710.141400002...</td>\n",
       "      <td>3</td>\n",
       "      <td>35620</td>\n",
       "      <td>11873.333333</td>\n",
       "    </tr>\n",
       "    <tr>\n",
       "      <th>23</th>\n",
       "      <td>MORGAN</td>\n",
       "      <td>{'rings': [[[-12413724.7984, 4983420.677000001...</td>\n",
       "      <td>1</td>\n",
       "      <td>12295</td>\n",
       "      <td>12295.000000</td>\n",
       "    </tr>\n",
       "    <tr>\n",
       "      <th>3</th>\n",
       "      <td>MILLARD</td>\n",
       "      <td>{'rings': [[[-12494338.1205, 4801287.949100003...</td>\n",
       "      <td>1</td>\n",
       "      <td>12975</td>\n",
       "      <td>12975.000000</td>\n",
       "    </tr>\n",
       "    <tr>\n",
       "      <th>0</th>\n",
       "      <td>CACHE</td>\n",
       "      <td>{'rings': [[[-12485167.954, 5160638.807099998]...</td>\n",
       "      <td>10</td>\n",
       "      <td>133154</td>\n",
       "      <td>13315.400000</td>\n",
       "    </tr>\n",
       "    <tr>\n",
       "      <th>9</th>\n",
       "      <td>WASHINGTON</td>\n",
       "      <td>{'rings': [[[-12631933.3297, 4524079.526000001...</td>\n",
       "      <td>13</td>\n",
       "      <td>180279</td>\n",
       "      <td>13867.615385</td>\n",
       "    </tr>\n",
       "    <tr>\n",
       "      <th>16</th>\n",
       "      <td>TOOELE</td>\n",
       "      <td>{'rings': [[[-12517641.5123, 5014853.931900002...</td>\n",
       "      <td>4</td>\n",
       "      <td>72698</td>\n",
       "      <td>18174.500000</td>\n",
       "    </tr>\n",
       "    <tr>\n",
       "      <th>26</th>\n",
       "      <td>UTAH</td>\n",
       "      <td>{'rings': [[[-12422592.7433, 4950159.090400003...</td>\n",
       "      <td>35</td>\n",
       "      <td>659399</td>\n",
       "      <td>18839.971429</td>\n",
       "    </tr>\n",
       "    <tr>\n",
       "      <th>5</th>\n",
       "      <td>BOX ELDER</td>\n",
       "      <td>{'rings': [[[-12631966.5192, 5159977.284500003...</td>\n",
       "      <td>3</td>\n",
       "      <td>57666</td>\n",
       "      <td>19222.000000</td>\n",
       "    </tr>\n",
       "    <tr>\n",
       "      <th>2</th>\n",
       "      <td>DAVIS</td>\n",
       "      <td>{'rings': [[[-12458980.0088, 5032817.971900001...</td>\n",
       "      <td>18</td>\n",
       "      <td>362679</td>\n",
       "      <td>20148.833333</td>\n",
       "    </tr>\n",
       "    <tr>\n",
       "      <th>19</th>\n",
       "      <td>IRON</td>\n",
       "      <td>{'rings': [[[-12619832.6598, 4600452.2751], [-...</td>\n",
       "      <td>2</td>\n",
       "      <td>57289</td>\n",
       "      <td>28644.500000</td>\n",
       "    </tr>\n",
       "  </tbody>\n",
       "</table>\n",
       "</div>"
      ],
      "text/plain": [
       "          NAME                                              SHAPE  \\\n",
       "15    GARFIELD  {'rings': [[[-12497349.647300001, 4600620.4720...   \n",
       "21       WAYNE  {'rings': [[[-12435226.4528, 4651746.087300003...   \n",
       "11        RICH  {'rings': [[[-12361664.9952, 5161235.351800002...   \n",
       "10       GRAND  {'rings': [[[-12139959.1677, 4793360.2117], [-...   \n",
       "17      SUMMIT  {'rings': [[[-12245108.298, 5011966.523199998]...   \n",
       "22    SAN JUAN  {'rings': [[[-12219669.3387, 4438861.324900001...   \n",
       "24        KANE  {'rings': [[[-12450569.3404, 4514055.761600003...   \n",
       "1     DUCHESNE  {'rings': [[[-12273167.1888, 4987644.314599998...   \n",
       "8      SANPETE  {'rings': [[[-12423642.5466, 4838788.997599997...   \n",
       "20       EMERY  {'rings': [[[-12383618.837000001, 4822961.5262...   \n",
       "13      BEAVER  {'rings': [[[-12525157.6426, 4660669.5066], [-...   \n",
       "6        WEBER  {'rings': [[[-12458980.0088, 5032817.971900001...   \n",
       "12      CARBON  {'rings': [[[-12362164.6552, 4838960.327200003...   \n",
       "14      SEVIER  {'rings': [[[-12450974.2984, 4728027.073899999...   \n",
       "25   SALT LAKE  {'rings': [[[-12464278.124, 4993470.981700003]...   \n",
       "4      WASATCH  {'rings': [[[-12400515.3909, 4966751.283200003...   \n",
       "7         JUAB  {'rings': [[[-12487614.2694, 4867585.2205], [-...   \n",
       "18      UINTAH  {'rings': [[[-12139276.3366, 4962710.141400002...   \n",
       "23      MORGAN  {'rings': [[[-12413724.7984, 4983420.677000001...   \n",
       "3      MILLARD  {'rings': [[[-12494338.1205, 4801287.949100003...   \n",
       "0        CACHE  {'rings': [[[-12485167.954, 5160638.807099998]...   \n",
       "9   WASHINGTON  {'rings': [[[-12631933.3297, 4524079.526000001...   \n",
       "16      TOOELE  {'rings': [[[-12517641.5123, 5014853.931900002...   \n",
       "26        UTAH  {'rings': [[[-12422592.7433, 4950159.090400003...   \n",
       "5    BOX ELDER  {'rings': [[[-12631966.5192, 5159977.284500003...   \n",
       "2        DAVIS  {'rings': [[[-12458980.0088, 5032817.971900001...   \n",
       "19        IRON  {'rings': [[[-12619832.6598, 4600452.2751], [-...   \n",
       "\n",
       "    supermarkets  pop_last_census  people_per_supermarket  \n",
       "15             4             5083             1270.750000  \n",
       "21             1             2486             2486.000000  \n",
       "11             1             2510             2510.000000  \n",
       "10             3             9669             3223.000000  \n",
       "17            12            42357             3529.750000  \n",
       "22             4            14518             3629.500000  \n",
       "24             2             7667             3833.500000  \n",
       "1              5            19596             3919.200000  \n",
       "8              6            28437             4739.500000  \n",
       "20             2             9825             4912.500000  \n",
       "13             1             7072             7072.000000  \n",
       "6             26           262223            10085.500000  \n",
       "12             2            20412            10206.000000  \n",
       "14             2            21522            10761.000000  \n",
       "25           108          1185238            10974.425926  \n",
       "4              3            34788            11596.000000  \n",
       "7              1            11786            11786.000000  \n",
       "18             3            35620            11873.333333  \n",
       "23             1            12295            12295.000000  \n",
       "3              1            12975            12975.000000  \n",
       "0             10           133154            13315.400000  \n",
       "9             13           180279            13867.615385  \n",
       "16             4            72698            18174.500000  \n",
       "26            35           659399            18839.971429  \n",
       "5              3            57666            19222.000000  \n",
       "2             18           362679            20148.833333  \n",
       "19             2            57289            28644.500000  "
      ]
     },
     "execution_count": 94,
     "metadata": {},
     "output_type": "execute_result"
    }
   ],
   "source": [
    "#: Now let's join our new data back to the geometries using just name and shape columns\n",
    "merged_df = counties_df[['NAME', 'SHAPE']].merge(answer_df, left_on='NAME', right_on='NAME')\n",
    "merged_df.sort_values(by='people_per_supermarket')"
   ]
  },
  {
   "cell_type": "code",
   "execution_count": 96,
   "id": "d88fbe70",
   "metadata": {},
   "outputs": [
    {
     "data": {
      "application/vnd.jupyter.widget-view+json": {
       "model_id": "6ce09bda1aa74c20bedc25c127fe3879",
       "version_major": 2,
       "version_minor": 0
      },
      "text/plain": [
       "MapView(layout=Layout(height='400px', width='100%'))"
      ]
     },
     "metadata": {},
     "output_type": "display_data"
    },
    {
     "data": {
      "text/html": [
       "<div class=\"map-static-img-preview-ce114009-1de5-4911-8513-acad55e70dd3\"><img src=\"\"></img></div>"
      ],
      "text/plain": [
       "<IPython.core.display.HTML object>"
      ]
     },
     "metadata": {},
     "output_type": "display_data"
    },
    {
     "data": {
      "text/html": [
       "<div class=\"map-html-embed-preview-ce114009-1de5-4911-8513-acad55e70dd3\"></div>"
      ],
      "text/plain": [
       "<IPython.core.display.HTML object>"
      ]
     },
     "metadata": {},
     "output_type": "display_data"
    }
   ],
   "source": [
    "merged_df.spatial.plot()"
   ]
  },
  {
   "cell_type": "markdown",
   "id": "782fa2c7",
   "metadata": {},
   "source": [
    "# Let's Get Spatial, the Esri Version"
   ]
  },
  {
   "cell_type": "markdown",
   "id": "8cdd68b5",
   "metadata": {},
   "source": [
    "We've already used some aspects of Esri's **spatially-enabled dataframes**, which are an extension to normal pandas dataframe namespace provided by the ArcGIS API for Python. "
   ]
  },
  {
   "cell_type": "code",
   "execution_count": 97,
   "id": "871f7f8f",
   "metadata": {},
   "outputs": [],
   "source": [
    "from arcgis.features import GeoAccessor, GeoSeriesAccessor"
   ]
  },
  {
   "cell_type": "markdown",
   "id": "390f29ad",
   "metadata": {},
   "source": [
    "These imports add the `.spatial` attribute to `pd.DataFrame`, which provides access to a bunch of spatial methods and attributes. We've already used `pd.DataFrame.spatial.from_featureclass()`, `.project()`, `.join()`, and `.sr`.\n",
    "\n",
    "The documentation for all the methods and attributes exposed through `.spatial` can be found in the `GeoAccessor` class of the `arcgis.features` module in the ArcGIS API for Python [docs](https://developers.arcgis.com/python/api-reference/arcgis.features.toc.html#geoaccessor)\n",
    "\n",
    "![docs](assets/docs.png)"
   ]
  },
  {
   "cell_type": "markdown",
   "id": "7a26d5f4",
   "metadata": {},
   "source": [
    "Because the ArcGIS API for Python does not require ArcGIS Pro/Enterprise, it can use two different geometry engines for spatial data types and operations. \n",
    "\n",
    "If `arcpy` **is** available in your python environment via ArcGIS Pro/Enterprise, it uses `arcpy`'s underlying geometry operations (just without all the feature layer nonsense). \n",
    "\n",
    "If `arcpy` **is not** available, it uses the `shapely` open-source library for geometry operations.\n",
    "\n",
    "`shapely` has some limitations, such as not being able to write to file GDBs."
   ]
  }
 ],
 "metadata": {
  "kernelspec": {
   "display_name": "Python 3",
   "language": "python",
   "name": "python3"
  },
  "language_info": {
   "codemirror_mode": {
    "name": "ipython",
    "version": 3
   },
   "file_extension": ".py",
   "mimetype": "text/x-python",
   "name": "python",
   "nbconvert_exporter": "python",
   "pygments_lexer": "ipython3",
   "version": "3.9.11"
  }
 },
 "nbformat": 4,
 "nbformat_minor": 5
}
